{
 "cells": [
  {
   "cell_type": "markdown",
   "metadata": {},
   "source": [
    "# Challenge: What Test to use?\n",
    "\n",
    "In this dataset, the same participants answered questions in 2012 and again 2014.\n",
    "\n",
    "1. Did people become less trusting from 2012 to 2014? Compute results for each country in the sample.\n",
    "2. Did people become happier from 2012 to 2014? Compute results for each country in the sample.\n",
    "3. Who reported watching more TV in 2012, men or women?\n",
    "4. Who was more likely to believe people were fair in 2012, people living with a partner or people living alone?\n",
    "5. Pick three or four of the countries in the sample and compare how often people met socially in 2014. Are there differences, and if so, which countries stand out?\n",
    "6. Pick three or four of the countries in the sample and compare how often people took part in social activities, relative to others their age, in 2014. Are there differences, and if so, which countries stand out?"
   ]
  },
  {
   "cell_type": "code",
   "execution_count": 39,
   "metadata": {},
   "outputs": [],
   "source": [
    "################# Imports #########################\n",
    "\n",
    "# Basic\n",
    "import numpy as np\n",
    "import pandas as pd\n",
    "import matplotlib.pyplot as plt\n",
    "import seaborn as sns\n",
    "%matplotlib inline\n",
    "\n",
    "# Statistical Tests\n",
    "from scipy import stats\n",
    "from statsmodels.stats.weightstats import ttest_ind"
   ]
  },
  {
   "cell_type": "code",
   "execution_count": 2,
   "metadata": {},
   "outputs": [
    {
     "data": {
      "text/html": [
       "<div>\n",
       "<table border=\"1\" class=\"dataframe\">\n",
       "  <thead>\n",
       "    <tr style=\"text-align: right;\">\n",
       "      <th></th>\n",
       "      <th>cntry</th>\n",
       "      <th>idno</th>\n",
       "      <th>year</th>\n",
       "      <th>tvtot</th>\n",
       "      <th>ppltrst</th>\n",
       "      <th>pplfair</th>\n",
       "      <th>pplhlp</th>\n",
       "      <th>happy</th>\n",
       "      <th>sclmeet</th>\n",
       "      <th>sclact</th>\n",
       "      <th>gndr</th>\n",
       "      <th>agea</th>\n",
       "      <th>partner</th>\n",
       "    </tr>\n",
       "  </thead>\n",
       "  <tbody>\n",
       "    <tr>\n",
       "      <th>0</th>\n",
       "      <td>CH</td>\n",
       "      <td>5.0</td>\n",
       "      <td>6</td>\n",
       "      <td>3.0</td>\n",
       "      <td>3.0</td>\n",
       "      <td>10.0</td>\n",
       "      <td>5.0</td>\n",
       "      <td>8.0</td>\n",
       "      <td>5.0</td>\n",
       "      <td>4.0</td>\n",
       "      <td>2.0</td>\n",
       "      <td>60.0</td>\n",
       "      <td>1.0</td>\n",
       "    </tr>\n",
       "    <tr>\n",
       "      <th>1</th>\n",
       "      <td>CH</td>\n",
       "      <td>25.0</td>\n",
       "      <td>6</td>\n",
       "      <td>6.0</td>\n",
       "      <td>5.0</td>\n",
       "      <td>7.0</td>\n",
       "      <td>5.0</td>\n",
       "      <td>9.0</td>\n",
       "      <td>3.0</td>\n",
       "      <td>2.0</td>\n",
       "      <td>2.0</td>\n",
       "      <td>59.0</td>\n",
       "      <td>1.0</td>\n",
       "    </tr>\n",
       "    <tr>\n",
       "      <th>2</th>\n",
       "      <td>CH</td>\n",
       "      <td>26.0</td>\n",
       "      <td>6</td>\n",
       "      <td>1.0</td>\n",
       "      <td>8.0</td>\n",
       "      <td>8.0</td>\n",
       "      <td>8.0</td>\n",
       "      <td>7.0</td>\n",
       "      <td>6.0</td>\n",
       "      <td>3.0</td>\n",
       "      <td>1.0</td>\n",
       "      <td>24.0</td>\n",
       "      <td>2.0</td>\n",
       "    </tr>\n",
       "    <tr>\n",
       "      <th>3</th>\n",
       "      <td>CH</td>\n",
       "      <td>28.0</td>\n",
       "      <td>6</td>\n",
       "      <td>4.0</td>\n",
       "      <td>6.0</td>\n",
       "      <td>6.0</td>\n",
       "      <td>7.0</td>\n",
       "      <td>10.0</td>\n",
       "      <td>6.0</td>\n",
       "      <td>2.0</td>\n",
       "      <td>2.0</td>\n",
       "      <td>64.0</td>\n",
       "      <td>1.0</td>\n",
       "    </tr>\n",
       "    <tr>\n",
       "      <th>4</th>\n",
       "      <td>CH</td>\n",
       "      <td>29.0</td>\n",
       "      <td>6</td>\n",
       "      <td>5.0</td>\n",
       "      <td>6.0</td>\n",
       "      <td>7.0</td>\n",
       "      <td>5.0</td>\n",
       "      <td>8.0</td>\n",
       "      <td>7.0</td>\n",
       "      <td>2.0</td>\n",
       "      <td>2.0</td>\n",
       "      <td>55.0</td>\n",
       "      <td>1.0</td>\n",
       "    </tr>\n",
       "  </tbody>\n",
       "</table>\n",
       "</div>"
      ],
      "text/plain": [
       "  cntry  idno  year  tvtot  ppltrst  pplfair  pplhlp  happy  sclmeet  sclact  \\\n",
       "0    CH   5.0     6    3.0      3.0     10.0     5.0    8.0      5.0     4.0   \n",
       "1    CH  25.0     6    6.0      5.0      7.0     5.0    9.0      3.0     2.0   \n",
       "2    CH  26.0     6    1.0      8.0      8.0     8.0    7.0      6.0     3.0   \n",
       "3    CH  28.0     6    4.0      6.0      6.0     7.0   10.0      6.0     2.0   \n",
       "4    CH  29.0     6    5.0      6.0      7.0     5.0    8.0      7.0     2.0   \n",
       "\n",
       "   gndr  agea  partner  \n",
       "0   2.0  60.0      1.0  \n",
       "1   2.0  59.0      1.0  \n",
       "2   1.0  24.0      2.0  \n",
       "3   2.0  64.0      1.0  \n",
       "4   2.0  55.0      1.0  "
      ]
     },
     "execution_count": 2,
     "metadata": {},
     "output_type": "execute_result"
    }
   ],
   "source": [
    "################ Bring in Data #####################\n",
    "\n",
    "data = pd.read_csv('https://raw.githubusercontent.com/Thinkful-Ed/data-201-resources/master/ESS_practice_data/ESSdata_Thinkful.csv')\n",
    "data.head()"
   ]
  },
  {
   "cell_type": "code",
   "execution_count": 14,
   "metadata": {},
   "outputs": [
    {
     "name": "stdout",
     "output_type": "stream",
     "text": [
      "<class 'pandas.core.frame.DataFrame'>\n",
      "RangeIndex: 8594 entries, 0 to 8593\n",
      "Data columns (total 13 columns):\n",
      "cntry      8594 non-null object\n",
      "idno       8594 non-null float64\n",
      "year       8594 non-null int64\n",
      "tvtot      8586 non-null float64\n",
      "ppltrst    8580 non-null float64\n",
      "pplfair    8555 non-null float64\n",
      "pplhlp     8569 non-null float64\n",
      "happy      8563 non-null float64\n",
      "sclmeet    8579 non-null float64\n",
      "sclact     8500 non-null float64\n",
      "gndr       8584 non-null float64\n",
      "agea       8355 non-null float64\n",
      "partner    8577 non-null float64\n",
      "dtypes: float64(11), int64(1), object(1)\n",
      "memory usage: 872.9+ KB\n"
     ]
    }
   ],
   "source": [
    "data.info()"
   ]
  },
  {
   "cell_type": "code",
   "execution_count": 3,
   "metadata": {},
   "outputs": [
    {
     "data": {
      "text/plain": [
       "7    4297\n",
       "6    4297\n",
       "Name: year, dtype: int64"
      ]
     },
     "execution_count": 3,
     "metadata": {},
     "output_type": "execute_result"
    }
   ],
   "source": [
    "# Year here is listed as the rounds. 6 is 2012 and 7 is 2014\n",
    "data['year'].value_counts()"
   ]
  },
  {
   "cell_type": "code",
   "execution_count": 5,
   "metadata": {},
   "outputs": [],
   "source": [
    "####### Normality Test #############\n",
    "def normal_test(data):\n",
    "    k2, p = stats.normaltest(data)\n",
    "    alpha = 5e-3\n",
    "    print(\"p = {:g}\".format(p))\n",
    "\n",
    "    if p < alpha:  # null hypothesis: x comes from a normal distribution\n",
    "        print(\"Probably not a normal distribution\")\n",
    "    else:\n",
    "        print(\"Probably a normal distribution\")"
   ]
  },
  {
   "cell_type": "code",
   "execution_count": 18,
   "metadata": {},
   "outputs": [
    {
     "data": {
      "text/plain": [
       "<matplotlib.axes._subplots.AxesSubplot at 0x120cbc080>"
      ]
     },
     "execution_count": 18,
     "metadata": {},
     "output_type": "execute_result"
    },
    {
     "data": {
      "image/png": "[encoded data removed]",
      "text/plain": [
       "<matplotlib.figure.Figure at 0x11d883cc0>"
      ]
     },
     "metadata": {},
     "output_type": "display_data"
    }
   ],
   "source": [
    "# Is there any missing data?\n",
    "plt.figure(figsize=(12,8))\n",
    "sns.heatmap(data.isnull(), yticklabels=False, cbar=False, cmap='viridis')"
   ]
  },
  {
   "cell_type": "markdown",
   "metadata": {},
   "source": [
    "### Did people become less trusting from 2012 to 2014? Compute results for each country in the sample.\n",
    "\n",
    "1. Null Hypothesis - there is no difference in the means of trust measure from 2012 to 2014.\n",
    "2. Alternative Hypothesis - mean of trust measure will reduce from 2012 to 2014.\n",
    "\n",
    "This is a one tailed test. However, we run the risk of missing the effect if people became more trusting."
   ]
  },
  {
   "cell_type": "code",
   "execution_count": 33,
   "metadata": {},
   "outputs": [
    {
     "data": {
      "text/plain": [
       "<matplotlib.axes._subplots.AxesSubplot at 0x120cdae48>"
      ]
     },
     "execution_count": 33,
     "metadata": {},
     "output_type": "execute_result"
    },
    {
     "data": {
      "image/png": "[encoded data removed]",
      "text/plain": [
       "<matplotlib.figure.Figure at 0x1218258d0>"
      ]
     },
     "metadata": {},
     "output_type": "display_data"
    }
   ],
   "source": [
    "# Will check to see what if this factor is normal\n",
    "\n",
    "plt.figure(figsize=(12,6))\n",
    "#Fiq1`rst need to separate the data\n",
    "data_2012 = data[data['year']==6].dropna()\n",
    "data_2014 = data[data['year']==7].dropna()\n",
    "\n",
    "# Visualize it\n",
    "data_2012['ppltrst'].plot(kind='hist')\n",
    "data_2014['ppltrst'].plot(kind='hist')"
   ]
  },
  {
   "cell_type": "code",
   "execution_count": 34,
   "metadata": {},
   "outputs": [
    {
     "data": {
      "text/plain": [
       "<matplotlib.axes._subplots.AxesSubplot at 0x121d93da0>"
      ]
     },
     "execution_count": 34,
     "metadata": {},
     "output_type": "execute_result"
    },
    {
     "data": {
      "image/png": "[encoded data removed]",
      "text/plain": [
       "<matplotlib.figure.Figure at 0x121825198>"
      ]
     },
     "metadata": {},
     "output_type": "display_data"
    }
   ],
   "source": [
    "# Box Plot\n",
    "\n",
    "plt.figure(figsize=(12,6))\n",
    "sns.set_style(\"whitegrid\")\n",
    "sns.boxplot(x=\"cntry\", y=\"ppltrst\", hue='year', data=data)"
   ]
  },
  {
   "cell_type": "code",
   "execution_count": 20,
   "metadata": {},
   "outputs": [
    {
     "name": "stdout",
     "output_type": "stream",
     "text": [
      "p = 1.06741e-39\n",
      "Probably not a normal distribution\n"
     ]
    }
   ],
   "source": [
    "# Check normality for all the data.\n",
    "normal_test(data_2012['ppltrst'])"
   ]
  },
  {
   "cell_type": "code",
   "execution_count": 38,
   "metadata": {},
   "outputs": [
    {
     "name": "stdout",
     "output_type": "stream",
     "text": [
      "Ttest_indResult(statistic=0.14436850819698421, pvalue=0.88521305488891056)\n"
     ]
    }
   ],
   "source": [
    "# Assuming that it is a normal distribution, lets do the t-tests. Since we are looking at a specific direction, will do a one-tailed t-test.\n",
    "# p value is greater than 0.05 so we cannot reject the null that there is no difference between the groups.\n",
    "\n",
    "#Sci-py\n",
    "print(stats.ttest_ind(data_2012['ppltrst'], data_2014['ppltrst']))"
   ]
  },
  {
   "cell_type": "code",
   "execution_count": 44,
   "metadata": {},
   "outputs": [
    {
     "name": "stdout",
     "output_type": "stream",
     "text": [
      "(0.1443685081969841, 0.44260652744445528, 8145.0)\n"
     ]
    }
   ],
   "source": [
    "# Stats models - Use this because could do the one side test\n",
    "print(ttest_ind(data_2012['ppltrst'], data_2014['ppltrst'], alternative='larger'))"
   ]
  },
  {
   "cell_type": "code",
   "execution_count": 22,
   "metadata": {},
   "outputs": [
    {
     "name": "stdout",
     "output_type": "stream",
     "text": [
      "MannwhitneyuResult(statistic=8260446.0, pvalue=0.36491017380764701)\n"
     ]
    }
   ],
   "source": [
    "# Lets do a non parametric test since the data is probably not normally distributed\n",
    "print(stats.mannwhitneyu(data_2012['ppltrst'], data_2014['ppltrst']))"
   ]
  },
  {
   "cell_type": "code",
   "execution_count": 27,
   "metadata": {},
   "outputs": [
    {
     "name": "stdout",
     "output_type": "stream",
     "text": [
      "CH\n",
      "Ttest_indResult(statistic=-0.71569747922178162, pvalue=0.47429160029094908)\n",
      "CZ\n",
      "Ttest_indResult(statistic=0.34075433231518504, pvalue=0.73334793159099765)\n",
      "DE\n",
      "Ttest_indResult(statistic=-0.34662131701252841, pvalue=0.73177642737857318)\n",
      "ES\n",
      "Ttest_indResult(statistic=2.1000674443244907, pvalue=0.035832041935213631)\n",
      "NO\n",
      "Ttest_indResult(statistic=0.51192241811452277, pvalue=0.60878502181319782)\n",
      "SE\n",
      "Ttest_indResult(statistic=-2.0268698056063146, pvalue=0.042829363452229798)\n"
     ]
    },
    {
     "name": "stderr",
     "output_type": "stream",
     "text": [
      "/anaconda/lib/python3.6/site-packages/ipykernel/__main__.py:3: UserWarning: Boolean Series key will be reindexed to match DataFrame index.\n",
      "  app.launch_new_instance()\n",
      "/anaconda/lib/python3.6/site-packages/ipykernel/__main__.py:4: UserWarning: Boolean Series key will be reindexed to match DataFrame index.\n"
     ]
    }
   ],
   "source": [
    "# Look at the test by country for t-test\n",
    "for country in data['cntry'].unique().tolist():\n",
    "    x = data_2012[data['cntry']==country]['ppltrst']\n",
    "    y = data_2014[data['cntry']==country]['ppltrst']\n",
    "    print(country)\n",
    "    print(stats.ttest_ind(x, y))"
   ]
  },
  {
   "cell_type": "code",
   "execution_count": 28,
   "metadata": {},
   "outputs": [
    {
     "name": "stdout",
     "output_type": "stream",
     "text": [
      "CH\n",
      "MannwhitneyuResult(statistic=267361.0, pvalue=0.28548480842716395)\n",
      "CZ\n",
      "MannwhitneyuResult(statistic=182068.0, pvalue=0.49770792998106145)\n",
      "DE\n",
      "MannwhitneyuResult(statistic=84.0, pvalue=0.37414178719449009)\n",
      "ES\n",
      "MannwhitneyuResult(statistic=617480.0, pvalue=0.0061948210527193069)\n",
      "NO\n",
      "MannwhitneyuResult(statistic=248611.0, pvalue=0.32466077815437411)\n",
      "SE\n",
      "MannwhitneyuResult(statistic=350787.5, pvalue=0.017080947275388083)\n"
     ]
    },
    {
     "name": "stderr",
     "output_type": "stream",
     "text": [
      "/anaconda/lib/python3.6/site-packages/ipykernel/__main__.py:3: UserWarning: Boolean Series key will be reindexed to match DataFrame index.\n",
      "  app.launch_new_instance()\n",
      "/anaconda/lib/python3.6/site-packages/ipykernel/__main__.py:4: UserWarning: Boolean Series key will be reindexed to match DataFrame index.\n"
     ]
    }
   ],
   "source": [
    "# Look at the test by country for t-test (Scipy)\n",
    "for country in data['cntry'].unique().tolist():\n",
    "    x = data_2012[data['cntry']==country]['ppltrst']\n",
    "    y = data_2014[data['cntry']==country]['ppltrst']\n",
    "    print(country)\n",
    "    print(stats.stats.mannwhitneyu(x, y))"
   ]
  },
  {
   "cell_type": "code",
   "execution_count": 45,
   "metadata": {},
   "outputs": [
    {
     "name": "stdout",
     "output_type": "stream",
     "text": [
      "CH\n",
      "(-0.71569747922178162, 0.76285419985452552, 1473.0)\n",
      "CZ\n",
      "(0.34075433231518498, 0.36667396579549882, 1205.0)\n",
      "DE\n",
      "(-0.34662131701252841, 0.6341117863107133, 25.0)\n",
      "ES\n",
      "(2.1000674443244907, 0.017916020967606815, 2290.0)\n",
      "NO\n",
      "(0.51192241811452277, 0.30439251090659891, 1418.0)\n",
      "SE\n",
      "(-2.026869805606315, 0.97858531827388517, 1724.0)\n"
     ]
    },
    {
     "name": "stderr",
     "output_type": "stream",
     "text": [
      "/anaconda/lib/python3.6/site-packages/ipykernel/__main__.py:3: UserWarning: Boolean Series key will be reindexed to match DataFrame index.\n",
      "  app.launch_new_instance()\n",
      "/anaconda/lib/python3.6/site-packages/ipykernel/__main__.py:4: UserWarning: Boolean Series key will be reindexed to match DataFrame index.\n"
     ]
    }
   ],
   "source": [
    "# Look at the test by country for t-test (Statsmodels)\n",
    "for country in data['cntry'].unique().tolist():\n",
    "    x = data_2012[data['cntry']==country]['ppltrst']\n",
    "    y = data_2014[data['cntry']==country]['ppltrst']\n",
    "    print(country)\n",
    "    print(ttest_ind(x, y, alternative='larger'))"
   ]
  },
  {
   "cell_type": "code",
   "execution_count": 32,
   "metadata": {},
   "outputs": [
    {
     "data": {
      "text/plain": [
       "cntry  year\n",
       "CH     6       5.677878\n",
       "       7       5.751617\n",
       "CZ     6       4.362519\n",
       "       7       4.424658\n",
       "DE     6       5.214286\n",
       "       7       5.357143\n",
       "ES     6       5.114592\n",
       "       7       4.895128\n",
       "NO     6       6.649315\n",
       "       7       6.598630\n",
       "SE     6       6.058499\n",
       "       7       6.257709\n",
       "Name: ppltrst, dtype: float64"
      ]
     },
     "execution_count": 32,
     "metadata": {},
     "output_type": "execute_result"
    }
   ],
   "source": [
    "data.groupby(['cntry', 'year'])['ppltrst'].mean()"
   ]
  },
  {
   "cell_type": "markdown",
   "metadata": {},
   "source": [
    "ES and SE seem to be the only countries where the happiness seem to be significantly different. This is Simspon's paradox where the overall trend doesnt show much difference, but when dive deeper see that certain countries do see a difference. However because doing a one-sided test only ES could reject the null."
   ]
  },
  {
   "cell_type": "markdown",
   "metadata": {},
   "source": [
    "### Did people become happier from 2012 to 2014? Compute results for each country in the sample.\n",
    "x = 2012\n",
    "y = 2014\n",
    "Null Hypothesis: x - y = 0\n",
    "Alternative Hypothesis:  x - y < 0"
   ]
  },
  {
   "cell_type": "code",
   "execution_count": 46,
   "metadata": {},
   "outputs": [
    {
     "data": {
      "text/plain": [
       "<matplotlib.axes._subplots.AxesSubplot at 0x121825898>"
      ]
     },
     "execution_count": 46,
     "metadata": {},
     "output_type": "execute_result"
    },
    {
     "data": {
      "image/png": "[encoded data removed]",
      "text/plain": [
       "<matplotlib.figure.Figure at 0x121f875c0>"
      ]
     },
     "metadata": {},
     "output_type": "display_data"
    }
   ],
   "source": [
    "# Will check to see what if this factor is normal\n",
    "\n",
    "plt.figure(figsize=(12,6))\n",
    "#First need to separate the data\n",
    "data_2012 = data[data['year']==6].dropna()\n",
    "data_2014 = data[data['year']==7].dropna()\n",
    "\n",
    "# Visualize it\n",
    "data_2012['happy'].plot(kind='hist')\n",
    "data_2014['happy'].plot(kind='hist')"
   ]
  },
  {
   "cell_type": "code",
   "execution_count": 47,
   "metadata": {},
   "outputs": [
    {
     "data": {
      "text/plain": [
       "<matplotlib.axes._subplots.AxesSubplot at 0x121862be0>"
      ]
     },
     "execution_count": 47,
     "metadata": {},
     "output_type": "execute_result"
    },
    {
     "data": {
      "image/png": "[encoded data removed]",
      "text/plain": [
       "<matplotlib.figure.Figure at 0x121fa3278>"
      ]
     },
     "metadata": {},
     "output_type": "display_data"
    }
   ],
   "source": [
    "# Box Plot\n",
    "\n",
    "plt.figure(figsize=(12,6))\n",
    "sns.set_style(\"whitegrid\")\n",
    "sns.boxplot(x=\"cntry\", y=\"happy\", hue='year', data=data)"
   ]
  },
  {
   "cell_type": "code",
   "execution_count": 48,
   "metadata": {},
   "outputs": [
    {
     "name": "stdout",
     "output_type": "stream",
     "text": [
      "Ttest_indResult(statistic=1.2074597686358974, pvalue=0.22729019122839689)\n"
     ]
    }
   ],
   "source": [
    "#Sci-py\n",
    "print(stats.ttest_ind(data_2012['happy'], data_2014['happy']))"
   ]
  },
  {
   "cell_type": "code",
   "execution_count": 51,
   "metadata": {},
   "outputs": [
    {
     "name": "stdout",
     "output_type": "stream",
     "text": [
      "(1.2074597686358981, 0.88635490438580167, 8145.0)\n"
     ]
    }
   ],
   "source": [
    "# Stats models - Use this because could do the one side test\n",
    "print(ttest_ind(data_2012['happy'], data_2014['happy'], alternative='smaller'))"
   ]
  },
  {
   "cell_type": "code",
   "execution_count": 52,
   "metadata": {},
   "outputs": [
    {
     "name": "stdout",
     "output_type": "stream",
     "text": [
      "CH\n",
      "MannwhitneyuResult(statistic=265131.5, pvalue=0.19495027197081582)\n",
      "CZ\n",
      "MannwhitneyuResult(statistic=176796.0, pvalue=0.18724347670459124)\n",
      "DE\n",
      "MannwhitneyuResult(statistic=73.5, pvalue=0.19313536018324134)\n",
      "ES\n",
      "MannwhitneyuResult(statistic=629830.0, pvalue=0.04263522765394516)\n",
      "NO\n",
      "MannwhitneyuResult(statistic=220453.5, pvalue=1.2346345897635287e-05)\n",
      "SE\n",
      "MannwhitneyuResult(statistic=369192.0, pvalue=0.37586498218551584)\n"
     ]
    },
    {
     "name": "stderr",
     "output_type": "stream",
     "text": [
      "/anaconda/lib/python3.6/site-packages/ipykernel/__main__.py:3: UserWarning: Boolean Series key will be reindexed to match DataFrame index.\n",
      "  app.launch_new_instance()\n",
      "/anaconda/lib/python3.6/site-packages/ipykernel/__main__.py:4: UserWarning: Boolean Series key will be reindexed to match DataFrame index.\n"
     ]
    }
   ],
   "source": [
    "# Look at the test by country for t-test (Scipy) Non paramteric test\n",
    "for country in data['cntry'].unique().tolist():\n",
    "    x = data_2012[data['cntry']==country]['happy']\n",
    "    y = data_2014[data['cntry']==country]['happy']\n",
    "    print(country)\n",
    "    print(stats.stats.mannwhitneyu(x, y))"
   ]
  },
  {
   "cell_type": "code",
   "execution_count": 55,
   "metadata": {},
   "outputs": [
    {
     "name": "stdout",
     "output_type": "stream",
     "text": [
      "CH\n",
      "(-0.81214248832740121, 0.20842055058850079, 1473.0)\n",
      "CZ\n",
      "(-1.1592536826704614, 0.12329122910250123, 1205.0)\n",
      "DE\n",
      "(-0.96631754122855895, 0.17157045643635366, 25.0)\n",
      "ES\n",
      "(1.3750588408504654, 0.91537614314791305, 2290.0)\n",
      "NO\n",
      "(4.152957205997267, 0.99998261065914773, 1418.0)\n",
      "SE\n",
      "(-0.53727902103263936, 0.29557211531361938, 1724.0)\n"
     ]
    },
    {
     "name": "stderr",
     "output_type": "stream",
     "text": [
      "/anaconda/lib/python3.6/site-packages/ipykernel/__main__.py:3: UserWarning: Boolean Series key will be reindexed to match DataFrame index.\n",
      "  app.launch_new_instance()\n",
      "/anaconda/lib/python3.6/site-packages/ipykernel/__main__.py:4: UserWarning: Boolean Series key will be reindexed to match DataFrame index.\n"
     ]
    }
   ],
   "source": [
    "# Look at the test by country for t-test (Statsmodels)\n",
    "for country in data['cntry'].unique().tolist():\n",
    "    x = data_2012[data['cntry']==country]['happy']\n",
    "    y = data_2014[data['cntry']==country]['happy']\n",
    "    print(country)\n",
    "    print(ttest_ind(x, y, alternative='smaller'))"
   ]
  },
  {
   "cell_type": "code",
   "execution_count": 56,
   "metadata": {},
   "outputs": [
    {
     "data": {
      "text/plain": [
       "cntry  year\n",
       "CH     6       8.088312\n",
       "       7       8.116429\n",
       "CZ     6       6.770898\n",
       "       7       6.914110\n",
       "DE     6       7.428571\n",
       "       7       7.857143\n",
       "ES     6       7.548680\n",
       "       7       7.419967\n",
       "NO     6       8.251719\n",
       "       7       7.915185\n",
       "SE     6       7.907387\n",
       "       7       7.946961\n",
       "Name: happy, dtype: float64"
      ]
     },
     "execution_count": 56,
     "metadata": {},
     "output_type": "execute_result"
    }
   ],
   "source": [
    "data.groupby(['cntry', 'year'])['happy'].mean()"
   ]
  },
  {
   "cell_type": "markdown",
   "metadata": {},
   "source": [
    "These test shows there is not enough to reject the null hypothesis."
   ]
  },
  {
   "cell_type": "markdown",
   "metadata": {},
   "source": [
    "### Who reported watching more TV in 2012, men or women?\n",
    "Gender: 1 - Male, 2 - Female"
   ]
  },
  {
   "cell_type": "code",
   "execution_count": 58,
   "metadata": {},
   "outputs": [
    {
     "data": {
      "text/plain": [
       "<matplotlib.axes._subplots.AxesSubplot at 0x12180c780>"
      ]
     },
     "execution_count": 58,
     "metadata": {},
     "output_type": "execute_result"
    },
    {
     "data": {
      "image/png": "[encoded data removed]",
      "text/plain": [
       "<matplotlib.figure.Figure at 0x1223891d0>"
      ]
     },
     "metadata": {},
     "output_type": "display_data"
    }
   ],
   "source": [
    "plt.figure(figsize=(12,6))\n",
    "sns.set_style(\"whitegrid\")\n",
    "sns.boxplot(x=\"gndr\", y=\"tvtot\", data=data_2012)"
   ]
  },
  {
   "cell_type": "code",
   "execution_count": 59,
   "metadata": {},
   "outputs": [
    {
     "data": {
      "text/plain": [
       "gndr\n",
       "1.0    3.859230\n",
       "2.0    3.905352\n",
       "Name: tvtot, dtype: float64"
      ]
     },
     "execution_count": 59,
     "metadata": {},
     "output_type": "execute_result"
    }
   ],
   "source": [
    "# This is to show the means\n",
    "data_2012.groupby(['gndr'])['tvtot'].mean()"
   ]
  },
  {
   "cell_type": "code",
   "execution_count": 61,
   "metadata": {},
   "outputs": [
    {
     "data": {
      "text/plain": [
       "<matplotlib.axes._subplots.AxesSubplot at 0x121f9d978>"
      ]
     },
     "execution_count": 61,
     "metadata": {},
     "output_type": "execute_result"
    },
    {
     "data": {
      "image/png": "[encoded data removed]",
      "text/plain": [
       "<matplotlib.figure.Figure at 0x121fa3240>"
      ]
     },
     "metadata": {},
     "output_type": "display_data"
    }
   ],
   "source": [
    "# Visualize it to see if the data is normal and it is not.\n",
    "data_2012[data_2012['gndr']==1]['happy'].plot(kind='hist')\n",
    "data_2012[data_2012['gndr']==2]['happy'].plot(kind='hist')"
   ]
  },
  {
   "cell_type": "code",
   "execution_count": 62,
   "metadata": {},
   "outputs": [
    {
     "name": "stdout",
     "output_type": "stream",
     "text": [
      "MannwhitneyuResult(statistic=2062821.0, pvalue=0.40673163381751043)\n"
     ]
    }
   ],
   "source": [
    "# Since the data is not normal will use a non-parametric test\n",
    "print(stats.mannwhitneyu(data_2012[data_2012['gndr']==1]['happy'], data_2012[data_2012['gndr']==2]['happy']))"
   ]
  },
  {
   "cell_type": "code",
   "execution_count": 64,
   "metadata": {},
   "outputs": [
    {
     "name": "stdout",
     "output_type": "stream",
     "text": [
      "Ttest_indResult(statistic=0.71773852361950763, pvalue=0.47295972841278344)\n"
     ]
    }
   ],
   "source": [
    "# t test which assumes a normal distribution\n",
    "print(stats.ttest_ind(data_2012[data_2012['gndr']==1]['happy'], data_2012[data_2012['gndr']==2]['happy']))"
   ]
  },
  {
   "cell_type": "markdown",
   "metadata": {},
   "source": [
    "This shows that we cannot reject the null that the 2 groups are different."
   ]
  },
  {
   "cell_type": "code",
   "execution_count": null,
   "metadata": {},
   "outputs": [],
   "source": []
  }
 ],
 "metadata": {
  "kernelspec": {
   "display_name": "Python 3",
   "language": "python",
   "name": "python3"
  },
  "language_info": {
   "codemirror_mode": {
    "name": "ipython",
    "version": 3
   },
   "file_extension": ".py",
   "mimetype": "text/x-python",
   "name": "python",
   "nbconvert_exporter": "python",
   "pygments_lexer": "ipython3",
   "version": "3.6.0"
  }
 },
 "nbformat": 4,
 "nbformat_minor": 2
}
