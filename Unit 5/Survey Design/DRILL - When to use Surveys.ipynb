{
 "cells": [
  {
   "cell_type": "markdown",
   "metadata": {},
   "source": [
    "# DRILL - When to use surveys"
   ]
  },
  {
   "cell_type": "markdown",
   "metadata": {},
   "source": [
    "#### Popularity of various Uber drivers. \n",
    "Probably survey, but Im not sure if Uber has a way to request a specific driver which would be a good way of determining popularity.\n",
    "\n",
    "#### A grocery store wants to know how much people like strawberry, chocolate, and vanilla ice cream. \n",
    "Just use sales data.\n",
    "\n",
    "#### Trojan wants to know whether their condoms are more popular among straight people or gay people. \n",
    "Have to use survey data since there isnt really a good way to know if the customer is gay or straight.\n",
    "\n",
    "#### Recently, rental rates for HappyCars have increased by 30%, which is quite unusual. You want to find out why this is happening and how to keep the increase going. \n",
    "This is a good business question. I can think of several ways to approach this. First need to break down the increase by if its new customers or existing customers. Was it online sales? Does the company do any advertising? Has the click through rate increased? Is it in a particular location? Is there a major event going on thats unusual? What information on customers does the company collect?\n",
    "\n",
    "#### Assessing the success rate of a new advertising campaign. \n",
    "Looking at behavioral data and not a survey\n",
    "\n",
    "\n",
    "#### Measuring the effect of nurse/patient ratio on patient recovery rates in hospital wards.\n",
    "Behavioral Data."
   ]
  },
  {
   "cell_type": "code",
   "execution_count": null,
   "metadata": {},
   "outputs": [],
   "source": []
  }
 ],
 "metadata": {
  "kernelspec": {
   "display_name": "Python 3",
   "language": "python",
   "name": "python3"
  },
  "language_info": {
   "codemirror_mode": {
    "name": "ipython",
    "version": 3
   },
   "file_extension": ".py",
   "mimetype": "text/x-python",
   "name": "python",
   "nbconvert_exporter": "python",
   "pygments_lexer": "ipython3",
   "version": "3.6.0"
  }
 },
 "nbformat": 4,
 "nbformat_minor": 2
}
