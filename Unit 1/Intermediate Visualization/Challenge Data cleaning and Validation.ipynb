{
 "cells": [
  {
   "cell_type": "markdown",
   "metadata": {},
   "source": [
    "# Challenge: Data Cleaning & Validation"
   ]
  },
  {
   "cell_type": "code",
   "execution_count": 55,
   "metadata": {
    "collapsed": true
   },
   "outputs": [],
   "source": [
    "#Imports\n",
    "import numpy as np\n",
    "import pandas as pd\n",
    "pd.options.display.max_rows = 999\n",
    "import matplotlib.pyplot as plt\n",
    "import seaborn as sns\n",
    "%matplotlib inline"
   ]
  },
  {
   "cell_type": "code",
   "execution_count": 2,
   "metadata": {
    "collapsed": false
   },
   "outputs": [
    {
     "name": "stderr",
     "output_type": "stream",
     "text": [
      "/Users/brandyn/anaconda/lib/python3.6/site-packages/ipykernel_launcher.py:1: DeprecationWarning: 'U' mode is deprecated\n",
      "  \"\"\"Entry point for launching an IPython kernel.\n"
     ]
    },
    {
     "data": {
      "text/html": [
       "<div>\n",
       "<style>\n",
       "    .dataframe thead tr:only-child th {\n",
       "        text-align: right;\n",
       "    }\n",
       "\n",
       "    .dataframe thead th {\n",
       "        text-align: left;\n",
       "    }\n",
       "\n",
       "    .dataframe tbody tr th {\n",
       "        vertical-align: top;\n",
       "    }\n",
       "</style>\n",
       "<table border=\"1\" class=\"dataframe\">\n",
       "  <thead>\n",
       "    <tr style=\"text-align: right;\">\n",
       "      <th></th>\n",
       "      <th>PMID/PMCID</th>\n",
       "      <th>Publisher</th>\n",
       "      <th>Journal title</th>\n",
       "      <th>Article title</th>\n",
       "      <th>COST</th>\n",
       "    </tr>\n",
       "  </thead>\n",
       "  <tbody>\n",
       "    <tr>\n",
       "      <th>0</th>\n",
       "      <td>NaN</td>\n",
       "      <td>CUP</td>\n",
       "      <td>Psychological Medicine</td>\n",
       "      <td>Reduced parahippocampal cortical thickness in ...</td>\n",
       "      <td>£0.00</td>\n",
       "    </tr>\n",
       "    <tr>\n",
       "      <th>1</th>\n",
       "      <td>PMC3679557</td>\n",
       "      <td>ACS</td>\n",
       "      <td>Biomacromolecules</td>\n",
       "      <td>Structural characterization of a Model Gram-ne...</td>\n",
       "      <td>£2381.04</td>\n",
       "    </tr>\n",
       "    <tr>\n",
       "      <th>2</th>\n",
       "      <td>23043264  PMC3506128</td>\n",
       "      <td>ACS</td>\n",
       "      <td>J Med Chem</td>\n",
       "      <td>Fumaroylamino-4,5-epoxymorphinans and related ...</td>\n",
       "      <td>£642.56</td>\n",
       "    </tr>\n",
       "    <tr>\n",
       "      <th>3</th>\n",
       "      <td>23438330 PMC3646402</td>\n",
       "      <td>ACS</td>\n",
       "      <td>J Med Chem</td>\n",
       "      <td>Orvinols with mixed kappa/mu opioid receptor a...</td>\n",
       "      <td>£669.64</td>\n",
       "    </tr>\n",
       "    <tr>\n",
       "      <th>4</th>\n",
       "      <td>23438216 PMC3601604</td>\n",
       "      <td>ACS</td>\n",
       "      <td>J Org Chem</td>\n",
       "      <td>Regioselective opening of myo-inositol orthoes...</td>\n",
       "      <td>£685.88</td>\n",
       "    </tr>\n",
       "  </tbody>\n",
       "</table>\n",
       "</div>"
      ],
      "text/plain": [
       "              PMID/PMCID Publisher           Journal title  \\\n",
       "0                    NaN       CUP  Psychological Medicine   \n",
       "1             PMC3679557       ACS       Biomacromolecules   \n",
       "2  23043264  PMC3506128        ACS              J Med Chem   \n",
       "3    23438330 PMC3646402       ACS              J Med Chem   \n",
       "4   23438216 PMC3601604        ACS              J Org Chem   \n",
       "\n",
       "                                       Article title      COST  \n",
       "0  Reduced parahippocampal cortical thickness in ...     £0.00  \n",
       "1  Structural characterization of a Model Gram-ne...  £2381.04  \n",
       "2  Fumaroylamino-4,5-epoxymorphinans and related ...   £642.56  \n",
       "3  Orvinols with mixed kappa/mu opioid receptor a...   £669.64  \n",
       "4  Regioselective opening of myo-inositol orthoes...   £685.88  "
      ]
     },
     "execution_count": 2,
     "metadata": {},
     "output_type": "execute_result"
    }
   ],
   "source": [
    "data = pd.read_csv(open('WELLCOME_APCspend2013_forThinkful.csv','rU'), encoding='utf8', engine='c')\n",
    "#data = pd.read_csv('WELLCOME_APCspend2013_forThinkful.csv', encoding='latin')\n",
    "data.head()"
   ]
  },
  {
   "cell_type": "code",
   "execution_count": 3,
   "metadata": {
    "collapsed": false
   },
   "outputs": [
    {
     "name": "stdout",
     "output_type": "stream",
     "text": [
      "<class 'pandas.core.frame.DataFrame'>\n",
      "RangeIndex: 2127 entries, 0 to 2126\n",
      "Data columns (total 5 columns):\n",
      "PMID/PMCID       1928 non-null object\n",
      "Publisher        2127 non-null object\n",
      "Journal title    2126 non-null object\n",
      "Article title    2127 non-null object\n",
      "COST             2127 non-null object\n",
      "dtypes: object(5)\n",
      "memory usage: 83.2+ KB\n"
     ]
    }
   ],
   "source": [
    "data.info()"
   ]
  },
  {
   "cell_type": "markdown",
   "metadata": {},
   "source": [
    "### Determine the five most common journals and total articles for each"
   ]
  },
  {
   "cell_type": "code",
   "execution_count": 4,
   "metadata": {
    "collapsed": false
   },
   "outputs": [
    {
     "data": {
      "text/plain": [
       "PLoS One                                           92\n",
       "PLoS ONE                                           62\n",
       "Journal of Biological Chemistry                    48\n",
       "Nucleic Acids Research                             21\n",
       "Proceedings of the National Academy of Sciences    19\n",
       "PLoS Neglected Tropical Diseases                   18\n",
       "Human Molecular Genetics                           18\n",
       "Nature Communications                              17\n",
       "PLoS Genetics                                      15\n",
       "Neuroimage                                         15\n",
       "Name: Journal title, dtype: int64"
      ]
     },
     "execution_count": 4,
     "metadata": {},
     "output_type": "execute_result"
    }
   ],
   "source": [
    "#Pre-Data Clearning\n",
    "data['Journal title'].value_counts().head(10)"
   ]
  },
  {
   "cell_type": "code",
   "execution_count": 5,
   "metadata": {
    "collapsed": true
   },
   "outputs": [],
   "source": [
    "#Apply cleaning scripts\n",
    "data['Journal title'] = data['Journal title'].str.upper()\n",
    "data['Journal title'] = data['Journal title'].str.replace(',','')\n",
    "data['Journal title'] = data['Journal title'].str.replace(':','')\n",
    "data['Journal title'] = data['Journal title'].str.replace('.','')\n",
    "data['Journal title'] = data['Journal title'].str.replace('&','AND')\n",
    "data['Journal title'] = data['Journal title'].str.replace('BEHAVIOUR','BEHAVIOR')\n",
    "data['Journal title'] = data['Journal title'].str.replace('BIOCHEMICAL','BIOCHEM')\n",
    "data['Journal title'] = data['Journal title'].str.replace('JOURNALS','JOURNAL')\n",
    "data['Journal title'] = data['Journal title'].str.replace('TROP MED INT HEALTH','TROPICAL MEDICINE AND INTERNATIONAL HEALTH')\n",
    "data['Journal title'] = data['Journal title'].str.replace('NEUROSCIENCES','NEUROSCIENCE')\n",
    "data['Journal title'] = data['Journal title'].str.replace('THE JOURNAL','JOURNAL')\n",
    "\n",
    "data['Journal title'] = data['Journal title'].str.strip()"
   ]
  },
  {
   "cell_type": "code",
   "execution_count": 51,
   "metadata": {
    "collapsed": false
   },
   "outputs": [
    {
     "data": {
      "text/html": [
       "<div>\n",
       "<table border=\"1\" class=\"dataframe\">\n",
       "  <thead>\n",
       "    <tr style=\"text-align: right;\">\n",
       "      <th></th>\n",
       "      <th>Count</th>\n",
       "    </tr>\n",
       "  </thead>\n",
       "  <tbody>\n",
       "    <tr>\n",
       "      <th>ACADEMY OF NUTRITION AND DIETETICS</th>\n",
       "      <td>1</td>\n",
       "    </tr>\n",
       "    <tr>\n",
       "      <th>ACS CHEMICAL BIOLOGY</th>\n",
       "      <td>5</td>\n",
       "    </tr>\n",
       "    <tr>\n",
       "      <th>ACS CHEMICAL NEUROSCIENCE</th>\n",
       "      <td>1</td>\n",
       "    </tr>\n",
       "    <tr>\n",
       "      <th>ACS NANO</th>\n",
       "      <td>2</td>\n",
       "    </tr>\n",
       "    <tr>\n",
       "      <th>ACTA CRYSTALLOGRAPHICA SECTION D</th>\n",
       "      <td>1</td>\n",
       "    </tr>\n",
       "    <tr>\n",
       "      <th>ACTA CRYSTALLOGRAPHICA SECTION D  BIOLOGICAL CRYSTALLOGRAPHY</th>\n",
       "      <td>1</td>\n",
       "    </tr>\n",
       "    <tr>\n",
       "      <th>ACTA CRYSTALLOGRAPHICA SECTION D BIOLOGICAL CRYSTALLOGRAPHY</th>\n",
       "      <td>1</td>\n",
       "    </tr>\n",
       "    <tr>\n",
       "      <th>ACTA CRYSTALLOGRAPHICA SECTION F STRUCTURAL BIOLOGY AND CRYSTALLIZATION COMMUNICATIONS</th>\n",
       "      <td>2</td>\n",
       "    </tr>\n",
       "    <tr>\n",
       "      <th>ACTA CRYSTALLOGRAPHY D</th>\n",
       "      <td>1</td>\n",
       "    </tr>\n",
       "    <tr>\n",
       "      <th>ACTA D</th>\n",
       "      <td>1</td>\n",
       "    </tr>\n",
       "    <tr>\n",
       "      <th>ACTA DERMATO VENEREOLOGICA</th>\n",
       "      <td>1</td>\n",
       "    </tr>\n",
       "    <tr>\n",
       "      <th>ACTA DIABETOLOGICA</th>\n",
       "      <td>1</td>\n",
       "    </tr>\n",
       "    <tr>\n",
       "      <th>ACTA F</th>\n",
       "      <td>1</td>\n",
       "    </tr>\n",
       "    <tr>\n",
       "      <th>ACTA NEUROPATHOL</th>\n",
       "      <td>1</td>\n",
       "    </tr>\n",
       "    <tr>\n",
       "      <th>ACTA NEUROPATHOLOGICA</th>\n",
       "      <td>3</td>\n",
       "    </tr>\n",
       "  </tbody>\n",
       "</table>\n",
       "</div>"
      ],
      "text/plain": [
       "                                                    Count\n",
       "ACADEMY OF NUTRITION AND DIETETICS                      1\n",
       "ACS CHEMICAL BIOLOGY                                    5\n",
       "ACS CHEMICAL NEUROSCIENCE                               1\n",
       "ACS NANO                                                2\n",
       "ACTA CRYSTALLOGRAPHICA SECTION D                        1\n",
       "ACTA CRYSTALLOGRAPHICA SECTION D  BIOLOGICAL CR...      1\n",
       "ACTA CRYSTALLOGRAPHICA SECTION D BIOLOGICAL CRY...      1\n",
       "ACTA CRYSTALLOGRAPHICA SECTION F STRUCTURAL BIO...      2\n",
       "ACTA CRYSTALLOGRAPHY D                                  1\n",
       "ACTA D                                                  1\n",
       "ACTA DERMATO VENEREOLOGICA                              1\n",
       "ACTA DIABETOLOGICA                                      1\n",
       "ACTA F                                                  1\n",
       "ACTA NEUROPATHOL                                        1\n",
       "ACTA NEUROPATHOLOGICA                                   3"
      ]
     },
     "execution_count": 51,
     "metadata": {},
     "output_type": "execute_result"
    }
   ],
   "source": [
    "#Used the sort index to scroll through to look at the data to clean it. Also created a new dataframe\n",
    "new_df = pd.DataFrame(data['Journal title'].value_counts())\n",
    "new_df.columns=['Count']\n",
    "#Typically wouldnt limit it, but added head() for viewing purposes.\n",
    "new_df.sort_index().head(15)\n"
   ]
  },
  {
   "cell_type": "code",
   "execution_count": 8,
   "metadata": {
    "collapsed": false
   },
   "outputs": [
    {
     "data": {
      "text/html": [
       "<div>\n",
       "<style>\n",
       "    .dataframe thead tr:only-child th {\n",
       "        text-align: right;\n",
       "    }\n",
       "\n",
       "    .dataframe thead th {\n",
       "        text-align: left;\n",
       "    }\n",
       "\n",
       "    .dataframe tbody tr th {\n",
       "        vertical-align: top;\n",
       "    }\n",
       "</style>\n",
       "<table border=\"1\" class=\"dataframe\">\n",
       "  <thead>\n",
       "    <tr style=\"text-align: right;\">\n",
       "      <th></th>\n",
       "      <th>Count</th>\n",
       "    </tr>\n",
       "  </thead>\n",
       "  <tbody>\n",
       "    <tr>\n",
       "      <th>PLOS ONE</th>\n",
       "      <td>190</td>\n",
       "    </tr>\n",
       "    <tr>\n",
       "      <th>JOURNAL OF BIOLOGICAL CHEMISTRY</th>\n",
       "      <td>60</td>\n",
       "    </tr>\n",
       "    <tr>\n",
       "      <th>NEUROIMAGE</th>\n",
       "      <td>29</td>\n",
       "    </tr>\n",
       "    <tr>\n",
       "      <th>NUCLEIC ACIDS RESEARCH</th>\n",
       "      <td>26</td>\n",
       "    </tr>\n",
       "    <tr>\n",
       "      <th>PLOS GENETICS</th>\n",
       "      <td>24</td>\n",
       "    </tr>\n",
       "  </tbody>\n",
       "</table>\n",
       "</div>"
      ],
      "text/plain": [
       "                                 Count\n",
       "PLOS ONE                           190\n",
       "JOURNAL OF BIOLOGICAL CHEMISTRY     60\n",
       "NEUROIMAGE                          29\n",
       "NUCLEIC ACIDS RESEARCH              26\n",
       "PLOS GENETICS                       24"
      ]
     },
     "execution_count": 8,
     "metadata": {},
     "output_type": "execute_result"
    }
   ],
   "source": [
    "#Top five journals after cleaning\n",
    "new_df.head(5)"
   ]
  },
  {
   "cell_type": "markdown",
   "metadata": {},
   "source": [
    "### Determing the mean, median, and Std"
   ]
  },
  {
   "cell_type": "code",
   "execution_count": 52,
   "metadata": {
    "collapsed": true
   },
   "outputs": [],
   "source": [
    "#In order to perform mathematical calculations have to remove items and convert to a float.\n",
    "data['FCOST'] = data['COST'].str.replace('£','')\n",
    "data['FCOST'] = data['FCOST'].str.replace('$','')\n",
    "data['FCOST'] = data['FCOST'].apply(lambda x: float(x))"
   ]
  },
  {
   "cell_type": "code",
   "execution_count": 53,
   "metadata": {
    "collapsed": false
   },
   "outputs": [
    {
     "data": {
      "text/html": [
       "<div>\n",
       "<table border=\"1\" class=\"dataframe\">\n",
       "  <thead>\n",
       "    <tr style=\"text-align: right;\">\n",
       "      <th></th>\n",
       "      <th>PMID/PMCID</th>\n",
       "      <th>Publisher</th>\n",
       "      <th>Journal title</th>\n",
       "      <th>Article title</th>\n",
       "      <th>COST</th>\n",
       "      <th>FCOST</th>\n",
       "    </tr>\n",
       "  </thead>\n",
       "  <tbody>\n",
       "    <tr>\n",
       "      <th>0</th>\n",
       "      <td>NaN</td>\n",
       "      <td>CUP</td>\n",
       "      <td>PSYCHOLOGICAL MEDICINE</td>\n",
       "      <td>Reduced parahippocampal cortical thickness in ...</td>\n",
       "      <td>£0.00</td>\n",
       "      <td>0.00</td>\n",
       "    </tr>\n",
       "    <tr>\n",
       "      <th>1</th>\n",
       "      <td>PMC3679557</td>\n",
       "      <td>ACS</td>\n",
       "      <td>BIOMACROMOLECULES</td>\n",
       "      <td>Structural characterization of a Model Gram-ne...</td>\n",
       "      <td>£2381.04</td>\n",
       "      <td>2381.04</td>\n",
       "    </tr>\n",
       "    <tr>\n",
       "      <th>2</th>\n",
       "      <td>23043264  PMC3506128</td>\n",
       "      <td>ACS</td>\n",
       "      <td>J MED CHEM</td>\n",
       "      <td>Fumaroylamino-4,5-epoxymorphinans and related ...</td>\n",
       "      <td>£642.56</td>\n",
       "      <td>642.56</td>\n",
       "    </tr>\n",
       "    <tr>\n",
       "      <th>3</th>\n",
       "      <td>23438330 PMC3646402</td>\n",
       "      <td>ACS</td>\n",
       "      <td>J MED CHEM</td>\n",
       "      <td>Orvinols with mixed kappa/mu opioid receptor a...</td>\n",
       "      <td>£669.64</td>\n",
       "      <td>669.64</td>\n",
       "    </tr>\n",
       "    <tr>\n",
       "      <th>4</th>\n",
       "      <td>23438216 PMC3601604</td>\n",
       "      <td>ACS</td>\n",
       "      <td>J ORG CHEM</td>\n",
       "      <td>Regioselective opening of myo-inositol orthoes...</td>\n",
       "      <td>£685.88</td>\n",
       "      <td>685.88</td>\n",
       "    </tr>\n",
       "  </tbody>\n",
       "</table>\n",
       "</div>"
      ],
      "text/plain": [
       "              PMID/PMCID Publisher           Journal title  \\\n",
       "0                    NaN       CUP  PSYCHOLOGICAL MEDICINE   \n",
       "1             PMC3679557       ACS       BIOMACROMOLECULES   \n",
       "2  23043264  PMC3506128        ACS              J MED CHEM   \n",
       "3    23438330 PMC3646402       ACS              J MED CHEM   \n",
       "4   23438216 PMC3601604        ACS              J ORG CHEM   \n",
       "\n",
       "                                       Article title      COST    FCOST  \n",
       "0  Reduced parahippocampal cortical thickness in ...     £0.00     0.00  \n",
       "1  Structural characterization of a Model Gram-ne...  £2381.04  2381.04  \n",
       "2  Fumaroylamino-4,5-epoxymorphinans and related ...   £642.56   642.56  \n",
       "3  Orvinols with mixed kappa/mu opioid receptor a...   £669.64   669.64  \n",
       "4  Regioselective opening of myo-inositol orthoes...   £685.88   685.88  "
      ]
     },
     "execution_count": 53,
     "metadata": {},
     "output_type": "execute_result"
    }
   ],
   "source": [
    "data.head(5)"
   ]
  },
  {
   "cell_type": "code",
   "execution_count": 11,
   "metadata": {
    "collapsed": false
   },
   "outputs": [
    {
     "name": "stdout",
     "output_type": "stream",
     "text": [
      "<class 'pandas.core.frame.DataFrame'>\n",
      "RangeIndex: 2127 entries, 0 to 2126\n",
      "Data columns (total 6 columns):\n",
      "PMID/PMCID       1928 non-null object\n",
      "Publisher        2127 non-null object\n",
      "Journal title    2126 non-null object\n",
      "Article title    2127 non-null object\n",
      "COST             2127 non-null object\n",
      "FCOST            2127 non-null float64\n",
      "dtypes: float64(1), object(5)\n",
      "memory usage: 99.8+ KB\n"
     ]
    }
   ],
   "source": [
    "data.info()"
   ]
  },
  {
   "cell_type": "code",
   "execution_count": 17,
   "metadata": {
    "collapsed": false
   },
   "outputs": [
    {
     "data": {
      "text/plain": [
       "<matplotlib.axes._subplots.AxesSubplot at 0x118ec0f28>"
      ]
     },
     "execution_count": 17,
     "metadata": {},
     "output_type": "execute_result"
    },
    {
     "data": {
      "image/png": "[encoded data removed]",
      "text/plain": [
       "<matplotlib.figure.Figure at 0x118ec0c50>"
      ]
     },
     "metadata": {},
     "output_type": "display_data"
    }
   ],
   "source": [
    "plt.figure(figsize=(12,6))\n",
    "sns.boxplot(data['FCOST'])"
   ]
  },
  {
   "cell_type": "code",
   "execution_count": 24,
   "metadata": {
    "collapsed": false
   },
   "outputs": [
    {
     "data": {
      "text/plain": [
       "52"
      ]
     },
     "execution_count": 24,
     "metadata": {},
     "output_type": "execute_result"
    }
   ],
   "source": [
    "data[data['FCOST']>5000].count()['FCOST']"
   ]
  },
  {
   "cell_type": "code",
   "execution_count": 57,
   "metadata": {
    "collapsed": true
   },
   "outputs": [],
   "source": [
    "#There are some outliers, so lets create a dataframe with those dropped. \n",
    "outliers_removed = data[data['FCOST']<5000]"
   ]
  },
  {
   "cell_type": "code",
   "execution_count": 58,
   "metadata": {
    "collapsed": false
   },
   "outputs": [
    {
     "data": {
      "text/plain": [
       "<matplotlib.axes._subplots.AxesSubplot at 0x11534dd30>"
      ]
     },
     "execution_count": 58,
     "metadata": {},
     "output_type": "execute_result"
    },
    {
     "data": {
      "image/png": "[encoded data removed]",
      "text/plain": [
       "<matplotlib.figure.Figure at 0x11534d208>"
      ]
     },
     "metadata": {},
     "output_type": "display_data"
    }
   ],
   "source": [
    "plt.figure(figsize=(12,6))\n",
    "sns.boxplot(outliers_removed['FCOST'])"
   ]
  },
  {
   "cell_type": "markdown",
   "metadata": {},
   "source": [
    "Can do some more work to remove the outliers if needed. "
   ]
  },
  {
   "cell_type": "code",
   "execution_count": 28,
   "metadata": {
    "collapsed": false
   },
   "outputs": [
    {
     "name": "stdout",
     "output_type": "stream",
     "text": [
      "Mean with outliers: 24067.33997179131\n",
      "Mean without outliers: 1818.144636144582\n"
     ]
    }
   ],
   "source": [
    "#Mean\n",
    "print('Mean with outliers: ' + str(data['FCOST'].mean()))\n",
    "print('Mean without outliers: ' + str(outliers_removed['FCOST'].mean()))"
   ]
  },
  {
   "cell_type": "code",
   "execution_count": 29,
   "metadata": {
    "collapsed": false
   },
   "outputs": [
    {
     "name": "stdout",
     "output_type": "stream",
     "text": [
      "Median with outliers: 1884.01\n",
      "Median without outliers: 1851.15\n"
     ]
    }
   ],
   "source": [
    "#Median\n",
    "print('Median with outliers: ' + str(data['FCOST'].median()))\n",
    "print('Median without outliers: ' + str(outliers_removed['FCOST'].median()))"
   ]
  },
  {
   "cell_type": "code",
   "execution_count": 30,
   "metadata": {
    "collapsed": false
   },
   "outputs": [
    {
     "name": "stdout",
     "output_type": "stream",
     "text": [
      "STD with outliers: 146860.6655590476\n",
      "STD without outliers: 757.641628388014\n"
     ]
    }
   ],
   "source": [
    "#STD\n",
    "print('STD with outliers: ' + str(data['FCOST'].std()))\n",
    "print('STD without outliers: ' + str(outliers_removed['FCOST'].std()))"
   ]
  },
  {
   "cell_type": "markdown",
   "metadata": {},
   "source": [
    "## Challenge"
   ]
  },
  {
   "cell_type": "code",
   "execution_count": 51,
   "metadata": {
    "collapsed": false
   },
   "outputs": [
    {
     "data": {
      "text/plain": [
       "PLoS One                                                                92\n",
       "PLoS ONE                                                                62\n",
       "Journal of Biological Chemistry                                         48\n",
       "Nucleic Acids Research                                                  21\n",
       "Proceedings of the National Academy of Sciences                         19\n",
       "PLoS Neglected Tropical Diseases                                        18\n",
       "Human Molecular Genetics                                                18\n",
       "Nature Communications                                                   17\n",
       "Neuroimage                                                              15\n",
       "PLoS Genetics                                                           15\n",
       "PLoS Pathogens                                                          15\n",
       "BMC Public Health                                                       14\n",
       "PLOS ONE                                                                14\n",
       "NeuroImage                                                              14\n",
       "Brain                                                                   14\n",
       "Movement Disorders                                                      13\n",
       "Developmental Cell                                                      12\n",
       "Journal of Neuroscience                                                 12\n",
       "Biochemical Journal                                                     12\n",
       "Journal of General Virology                                             11\n",
       "PLOS One                                                                10\n",
       "BMJ                                                                     10\n",
       "Current Biology                                                         10\n",
       "Neuron                                                                   9\n",
       "Cell Reports                                                             9\n",
       "Journal of Cell Science                                                  8\n",
       "Development                                                              8\n",
       "Journal of Physiology                                                    8\n",
       "European Journal of Immunology                                           8\n",
       "Journal of Virology                                                      8\n",
       "                                                                        ..\n",
       "Marten Child Nutr                                                        1\n",
       "Plos one                                                                 1\n",
       "Journal of Vision                                                        1\n",
       "Journal of Experimental Nanoscience                                      1\n",
       "Public Library of Science                                                1\n",
       "Journal of Bioethical Inquiry                                            1\n",
       "BMC Medical Imaging                                                      1\n",
       "Oxford Journals                                                          1\n",
       "Journal of Neurology, Neurosurgery & Psychiatry                          1\n",
       "Emotion                                                                  1\n",
       "Veterinary Research                                                      1\n",
       "Bioscience Reports                                                       1\n",
       "Human Brain Mapping                                                      1\n",
       "Chromosome Research                                                      1\n",
       "Acta Crystallographica, Section D                                        1\n",
       "Journal of Cerebral Blood Flow and Metabolism                            1\n",
       "Journal of Neurology, Neurosurgery & Psychiatry                          1\n",
       "Cell Calcium                                                             1\n",
       "International Journal of Behavioural Nutrition and Physical Activity     1\n",
       "Frontiers in Auditory Cognitive Neuroscience                             1\n",
       "Birth Defects Research Part A: Clinical and Molecular Teratology         1\n",
       "Journal of Medicinal Chemistry                                           1\n",
       "PONE-D12-17947                                                           1\n",
       "Qualitative Research                                                     1\n",
       "Health Psychology                                                        1\n",
       "Journal of Comparative Neurology                                         1\n",
       "Calcified Tissue International                                           1\n",
       "Journal of Transport Geography                                           1\n",
       "Journal of Small Animal Practice                                         1\n",
       "J Steroid Biochem Mol Biol                                               1\n",
       "Name: Journal title, Length: 984, dtype: int64"
      ]
     },
     "execution_count": 51,
     "metadata": {},
     "output_type": "execute_result"
    }
   ],
   "source": [
    "#Didnt attempt challenge. Its kind of vague.\n",
    "data['Journal title'].value_counts()"
   ]
  },
  {
   "cell_type": "code",
   "execution_count": null,
   "metadata": {
    "collapsed": true
   },
   "outputs": [],
   "source": [
    "#What is meant by subject?\n"
   ]
  }
 ],
 "metadata": {
  "kernelspec": {
   "display_name": "Python 3",
   "language": "python",
   "name": "python3"
  },
  "language_info": {
   "codemirror_mode": {
    "name": "ipython",
    "version": 3
   },
   "file_extension": ".py",
   "mimetype": "text/x-python",
   "name": "python",
   "nbconvert_exporter": "python",
   "pygments_lexer": "ipython3",
   "version": "3.6.0"
  }
 },
 "nbformat": 4,
 "nbformat_minor": 2
}
