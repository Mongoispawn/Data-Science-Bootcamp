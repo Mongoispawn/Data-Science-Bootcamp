{
 "cells": [
  {
   "cell_type": "markdown",
   "metadata": {},
   "source": [
    "# Challenge: Data Cleaning & Validation"
   ]
  },
  {
   "cell_type": "code",
   "execution_count": 1,
   "metadata": {
    "collapsed": true
   },
   "outputs": [],
   "source": [
    "#Imports\n",
    "import numpy as np\n",
    "import pandas as pd\n"
   ]
  },
  {
   "cell_type": "code",
   "execution_count": 3,
   "metadata": {
    "collapsed": false
   },
   "outputs": [
    {
     "name": "stderr",
     "output_type": "stream",
     "text": [
      "/anaconda/lib/python3.6/site-packages/ipykernel/__main__.py:1: DeprecationWarning: 'U' mode is deprecated\n",
      "  if __name__ == '__main__':\n"
     ]
    },
    {
     "data": {
      "text/html": [
       "<div>\n",
       "<table border=\"1\" class=\"dataframe\">\n",
       "  <thead>\n",
       "    <tr style=\"text-align: right;\">\n",
       "      <th></th>\n",
       "      <th>PMID/PMCID</th>\n",
       "      <th>Publisher</th>\n",
       "      <th>Journal title</th>\n",
       "      <th>Article title</th>\n",
       "      <th>COST</th>\n",
       "    </tr>\n",
       "  </thead>\n",
       "  <tbody>\n",
       "    <tr>\n",
       "      <th>0</th>\n",
       "      <td>NaN</td>\n",
       "      <td>CUP</td>\n",
       "      <td>Psychological Medicine</td>\n",
       "      <td>Reduced parahippocampal cortical thickness in ...</td>\n",
       "      <td>£0.00</td>\n",
       "    </tr>\n",
       "    <tr>\n",
       "      <th>1</th>\n",
       "      <td>PMC3679557</td>\n",
       "      <td>ACS</td>\n",
       "      <td>Biomacromolecules</td>\n",
       "      <td>Structural characterization of a Model Gram-ne...</td>\n",
       "      <td>£2381.04</td>\n",
       "    </tr>\n",
       "    <tr>\n",
       "      <th>2</th>\n",
       "      <td>23043264  PMC3506128</td>\n",
       "      <td>ACS</td>\n",
       "      <td>J Med Chem</td>\n",
       "      <td>Fumaroylamino-4,5-epoxymorphinans and related ...</td>\n",
       "      <td>£642.56</td>\n",
       "    </tr>\n",
       "    <tr>\n",
       "      <th>3</th>\n",
       "      <td>23438330 PMC3646402</td>\n",
       "      <td>ACS</td>\n",
       "      <td>J Med Chem</td>\n",
       "      <td>Orvinols with mixed kappa/mu opioid receptor a...</td>\n",
       "      <td>£669.64</td>\n",
       "    </tr>\n",
       "    <tr>\n",
       "      <th>4</th>\n",
       "      <td>23438216 PMC3601604</td>\n",
       "      <td>ACS</td>\n",
       "      <td>J Org Chem</td>\n",
       "      <td>Regioselective opening of myo-inositol orthoes...</td>\n",
       "      <td>£685.88</td>\n",
       "    </tr>\n",
       "  </tbody>\n",
       "</table>\n",
       "</div>"
      ],
      "text/plain": [
       "              PMID/PMCID Publisher           Journal title  \\\n",
       "0                    NaN       CUP  Psychological Medicine   \n",
       "1             PMC3679557       ACS       Biomacromolecules   \n",
       "2  23043264  PMC3506128        ACS              J Med Chem   \n",
       "3    23438330 PMC3646402       ACS              J Med Chem   \n",
       "4   23438216 PMC3601604        ACS              J Org Chem   \n",
       "\n",
       "                                       Article title      COST  \n",
       "0  Reduced parahippocampal cortical thickness in ...     £0.00  \n",
       "1  Structural characterization of a Model Gram-ne...  £2381.04  \n",
       "2  Fumaroylamino-4,5-epoxymorphinans and related ...   £642.56  \n",
       "3  Orvinols with mixed kappa/mu opioid receptor a...   £669.64  \n",
       "4  Regioselective opening of myo-inositol orthoes...   £685.88  "
      ]
     },
     "execution_count": 3,
     "metadata": {},
     "output_type": "execute_result"
    }
   ],
   "source": [
    "data = pd.read_csv(open('WELLCOME_APCspend2013_forThinkful.csv','rU'), encoding='utf8', engine='c')\n",
    "#data = pd.read_csv('WELLCOME_APCspend2013_forThinkful.csv', encoding='latin')\n",
    "data.head()"
   ]
  },
  {
   "cell_type": "code",
   "execution_count": 4,
   "metadata": {
    "collapsed": false
   },
   "outputs": [
    {
     "name": "stdout",
     "output_type": "stream",
     "text": [
      "<class 'pandas.core.frame.DataFrame'>\n",
      "RangeIndex: 2127 entries, 0 to 2126\n",
      "Data columns (total 5 columns):\n",
      "PMID/PMCID       1928 non-null object\n",
      "Publisher        2127 non-null object\n",
      "Journal title    2126 non-null object\n",
      "Article title    2127 non-null object\n",
      "COST             2127 non-null object\n",
      "dtypes: object(5)\n",
      "memory usage: 83.2+ KB\n"
     ]
    }
   ],
   "source": [
    "data.info()"
   ]
  },
  {
   "cell_type": "markdown",
   "metadata": {},
   "source": [
    "### Determine the five most common journals and total articles for each"
   ]
  },
  {
   "cell_type": "code",
   "execution_count": 6,
   "metadata": {
    "collapsed": false
   },
   "outputs": [
    {
     "data": {
      "text/plain": [
       "PLoS One                                           92\n",
       "PLoS ONE                                           62\n",
       "Journal of Biological Chemistry                    48\n",
       "Nucleic Acids Research                             21\n",
       "Proceedings of the National Academy of Sciences    19\n",
       "PLoS Neglected Tropical Diseases                   18\n",
       "Human Molecular Genetics                           18\n",
       "Nature Communications                              17\n",
       "PLoS Pathogens                                     15\n",
       "Neuroimage                                         15\n",
       "Name: Journal title, dtype: int64"
      ]
     },
     "execution_count": 6,
     "metadata": {},
     "output_type": "execute_result"
    }
   ],
   "source": [
    "data['Journal title'].value_counts().head(10)"
   ]
  },
  {
   "cell_type": "code",
   "execution_count": 22,
   "metadata": {
    "collapsed": true
   },
   "outputs": [],
   "source": [
    "data['Journal title'] = data['Journal title'].str.upper()\n",
    "data['Journal title'] = data['Journal title'].str.replace(',','')\n",
    "data['Journal title'] = data['Journal title'].str.replace(':','')\n",
    "data['Journal title'] = data['Journal title'].str.replace('&','AND')\n",
    "data['Journal title'] = data['Journal title'].str.strip()"
   ]
  },
  {
   "cell_type": "code",
   "execution_count": 23,
   "metadata": {
    "collapsed": false
   },
   "outputs": [
    {
     "data": {
      "text/html": [
       "<div>\n",
       "<table border=\"1\" class=\"dataframe\">\n",
       "  <thead>\n",
       "    <tr style=\"text-align: right;\">\n",
       "      <th></th>\n",
       "      <th>Count</th>\n",
       "    </tr>\n",
       "  </thead>\n",
       "  <tbody>\n",
       "    <tr>\n",
       "      <th>ACADEMY OF NUTRITION AND DIETETICS</th>\n",
       "      <td>1</td>\n",
       "    </tr>\n",
       "    <tr>\n",
       "      <th>ACS CHEMICAL BIOLOGY</th>\n",
       "      <td>5</td>\n",
       "    </tr>\n",
       "    <tr>\n",
       "      <th>ACS CHEMICAL NEUROSCIENCE</th>\n",
       "      <td>1</td>\n",
       "    </tr>\n",
       "    <tr>\n",
       "      <th>ACS NANO</th>\n",
       "      <td>2</td>\n",
       "    </tr>\n",
       "    <tr>\n",
       "      <th>ACTA CRYSTALLOGRAPHICA SECTION D</th>\n",
       "      <td>1</td>\n",
       "    </tr>\n",
       "    <tr>\n",
       "      <th>ACTA CRYSTALLOGRAPHICA SECTION D  BIOLOGICAL CRYSTALLOGRAPHY</th>\n",
       "      <td>1</td>\n",
       "    </tr>\n",
       "    <tr>\n",
       "      <th>ACTA CRYSTALLOGRAPHICA SECTION D BIOLOGICAL CRYSTALLOGRAPHY</th>\n",
       "      <td>1</td>\n",
       "    </tr>\n",
       "    <tr>\n",
       "      <th>ACTA CRYSTALLOGRAPHICA SECTION F STRUCTURAL BIOLOGY AND CRYSTALLIZATION COMMUNICATIONS</th>\n",
       "      <td>2</td>\n",
       "    </tr>\n",
       "    <tr>\n",
       "      <th>ACTA CRYSTALLOGRAPHY D</th>\n",
       "      <td>1</td>\n",
       "    </tr>\n",
       "    <tr>\n",
       "      <th>ACTA D</th>\n",
       "      <td>1</td>\n",
       "    </tr>\n",
       "    <tr>\n",
       "      <th>ACTA DERMATO VENEREOLOGICA</th>\n",
       "      <td>1</td>\n",
       "    </tr>\n",
       "    <tr>\n",
       "      <th>ACTA DIABETOLOGICA</th>\n",
       "      <td>1</td>\n",
       "    </tr>\n",
       "    <tr>\n",
       "      <th>ACTA F</th>\n",
       "      <td>1</td>\n",
       "    </tr>\n",
       "    <tr>\n",
       "      <th>ACTA NEUROPATHOL</th>\n",
       "      <td>1</td>\n",
       "    </tr>\n",
       "    <tr>\n",
       "      <th>ACTA NEUROPATHOLOGICA</th>\n",
       "      <td>3</td>\n",
       "    </tr>\n",
       "    <tr>\n",
       "      <th>ACTA OPTHALMOLOGICA</th>\n",
       "      <td>1</td>\n",
       "    </tr>\n",
       "    <tr>\n",
       "      <th>ACTA PHYSIOL</th>\n",
       "      <td>1</td>\n",
       "    </tr>\n",
       "    <tr>\n",
       "      <th>ADDICTION</th>\n",
       "      <td>2</td>\n",
       "    </tr>\n",
       "    <tr>\n",
       "      <th>ADVANCES IN EXPERIMENTAL MEDICINE AND BIOLOGY</th>\n",
       "      <td>4</td>\n",
       "    </tr>\n",
       "    <tr>\n",
       "      <th>AGE</th>\n",
       "      <td>2</td>\n",
       "    </tr>\n",
       "    <tr>\n",
       "      <th>AGE AND AGEING</th>\n",
       "      <td>1</td>\n",
       "    </tr>\n",
       "    <tr>\n",
       "      <th>AGEING AND SOCIETY</th>\n",
       "      <td>1</td>\n",
       "    </tr>\n",
       "    <tr>\n",
       "      <th>AGING CELL</th>\n",
       "      <td>1</td>\n",
       "    </tr>\n",
       "    <tr>\n",
       "      <th>AIDS</th>\n",
       "      <td>3</td>\n",
       "    </tr>\n",
       "    <tr>\n",
       "      <th>AIDS BEHAV</th>\n",
       "      <td>1</td>\n",
       "    </tr>\n",
       "    <tr>\n",
       "      <th>AIDS CARE</th>\n",
       "      <td>4</td>\n",
       "    </tr>\n",
       "    <tr>\n",
       "      <th>AIDS JOURNAL</th>\n",
       "      <td>1</td>\n",
       "    </tr>\n",
       "    <tr>\n",
       "      <th>AIDS RESEARCH AND THERAPY</th>\n",
       "      <td>1</td>\n",
       "    </tr>\n",
       "    <tr>\n",
       "      <th>AIDS UK</th>\n",
       "      <td>2</td>\n",
       "    </tr>\n",
       "    <tr>\n",
       "      <th>ALCOHOL AND ALCOHOLISM</th>\n",
       "      <td>1</td>\n",
       "    </tr>\n",
       "    <tr>\n",
       "      <th>...</th>\n",
       "      <td>...</td>\n",
       "    </tr>\n",
       "    <tr>\n",
       "      <th>TISSUE ENGINEERING PART A</th>\n",
       "      <td>1</td>\n",
       "    </tr>\n",
       "    <tr>\n",
       "      <th>TRAFFIC</th>\n",
       "      <td>6</td>\n",
       "    </tr>\n",
       "    <tr>\n",
       "      <th>TRANSACTIONS OF THE ROYAL SOCIETY OF TROPICAL MEDICINE AND HYGIENE</th>\n",
       "      <td>1</td>\n",
       "    </tr>\n",
       "    <tr>\n",
       "      <th>TRANSLATIONAL PSYCHIATRY</th>\n",
       "      <td>2</td>\n",
       "    </tr>\n",
       "    <tr>\n",
       "      <th>TRENDS IN COGNITIVE SCIENCE</th>\n",
       "      <td>1</td>\n",
       "    </tr>\n",
       "    <tr>\n",
       "      <th>TRENDS IN GENETICS</th>\n",
       "      <td>2</td>\n",
       "    </tr>\n",
       "    <tr>\n",
       "      <th>TRENDS IN MICROBIOLOGY</th>\n",
       "      <td>1</td>\n",
       "    </tr>\n",
       "    <tr>\n",
       "      <th>TRENDS IN MOLECULAR MEDICINE</th>\n",
       "      <td>1</td>\n",
       "    </tr>\n",
       "    <tr>\n",
       "      <th>TRENDS IN NEUROSCIENCE</th>\n",
       "      <td>1</td>\n",
       "    </tr>\n",
       "    <tr>\n",
       "      <th>TRENDS IN NEUROSCIENCES</th>\n",
       "      <td>2</td>\n",
       "    </tr>\n",
       "    <tr>\n",
       "      <th>TRENDS IN PARASITOLOGY</th>\n",
       "      <td>4</td>\n",
       "    </tr>\n",
       "    <tr>\n",
       "      <th>TRIALS</th>\n",
       "      <td>5</td>\n",
       "    </tr>\n",
       "    <tr>\n",
       "      <th>TROP MED INT HEALTH</th>\n",
       "      <td>1</td>\n",
       "    </tr>\n",
       "    <tr>\n",
       "      <th>TROPICAL ANIMAL HEALTH AND PRODUCTION</th>\n",
       "      <td>1</td>\n",
       "    </tr>\n",
       "    <tr>\n",
       "      <th>TROPICAL MEDICINE AND INTERNATIONAL HEALTH</th>\n",
       "      <td>6</td>\n",
       "    </tr>\n",
       "    <tr>\n",
       "      <th>TUBERCULOSIS</th>\n",
       "      <td>2</td>\n",
       "    </tr>\n",
       "    <tr>\n",
       "      <th>URBAN HISTORY</th>\n",
       "      <td>1</td>\n",
       "    </tr>\n",
       "    <tr>\n",
       "      <th>UROLITHIASIS</th>\n",
       "      <td>1</td>\n",
       "    </tr>\n",
       "    <tr>\n",
       "      <th>VACCINE</th>\n",
       "      <td>5</td>\n",
       "    </tr>\n",
       "    <tr>\n",
       "      <th>VASCULAR PHARMACOLOGY</th>\n",
       "      <td>1</td>\n",
       "    </tr>\n",
       "    <tr>\n",
       "      <th>VETERINARY MICROBIOLOGY</th>\n",
       "      <td>1</td>\n",
       "    </tr>\n",
       "    <tr>\n",
       "      <th>VETERINARY PARASITOLOGY</th>\n",
       "      <td>2</td>\n",
       "    </tr>\n",
       "    <tr>\n",
       "      <th>VETERINARY RECORD</th>\n",
       "      <td>1</td>\n",
       "    </tr>\n",
       "    <tr>\n",
       "      <th>VETERINARY RESEARCH</th>\n",
       "      <td>1</td>\n",
       "    </tr>\n",
       "    <tr>\n",
       "      <th>VIROLOGY</th>\n",
       "      <td>2</td>\n",
       "    </tr>\n",
       "    <tr>\n",
       "      <th>VIROLOGY JOURNAL</th>\n",
       "      <td>1</td>\n",
       "    </tr>\n",
       "    <tr>\n",
       "      <th>VIRUS RESEARCH</th>\n",
       "      <td>1</td>\n",
       "    </tr>\n",
       "    <tr>\n",
       "      <th>VISION RESEARCH</th>\n",
       "      <td>2</td>\n",
       "    </tr>\n",
       "    <tr>\n",
       "      <th>VISUAL NEUROSCIENCE</th>\n",
       "      <td>1</td>\n",
       "    </tr>\n",
       "    <tr>\n",
       "      <th>ZOONOSES AND PUBLIC HEALTH</th>\n",
       "      <td>1</td>\n",
       "    </tr>\n",
       "  </tbody>\n",
       "</table>\n",
       "<p>880 rows × 1 columns</p>\n",
       "</div>"
      ],
      "text/plain": [
       "                                                    Count\n",
       "ACADEMY OF NUTRITION AND DIETETICS                      1\n",
       "ACS CHEMICAL BIOLOGY                                    5\n",
       "ACS CHEMICAL NEUROSCIENCE                               1\n",
       "ACS NANO                                                2\n",
       "ACTA CRYSTALLOGRAPHICA SECTION D                        1\n",
       "ACTA CRYSTALLOGRAPHICA SECTION D  BIOLOGICAL CR...      1\n",
       "ACTA CRYSTALLOGRAPHICA SECTION D BIOLOGICAL CRY...      1\n",
       "ACTA CRYSTALLOGRAPHICA SECTION F STRUCTURAL BIO...      2\n",
       "ACTA CRYSTALLOGRAPHY D                                  1\n",
       "ACTA D                                                  1\n",
       "ACTA DERMATO VENEREOLOGICA                              1\n",
       "ACTA DIABETOLOGICA                                      1\n",
       "ACTA F                                                  1\n",
       "ACTA NEUROPATHOL                                        1\n",
       "ACTA NEUROPATHOLOGICA                                   3\n",
       "ACTA OPTHALMOLOGICA                                     1\n",
       "ACTA PHYSIOL                                            1\n",
       "ADDICTION                                               2\n",
       "ADVANCES IN EXPERIMENTAL MEDICINE AND BIOLOGY           4\n",
       "AGE                                                     2\n",
       "AGE AND AGEING                                          1\n",
       "AGEING AND SOCIETY                                      1\n",
       "AGING CELL                                              1\n",
       "AIDS                                                    3\n",
       "AIDS BEHAV                                              1\n",
       "AIDS CARE                                               4\n",
       "AIDS JOURNAL                                            1\n",
       "AIDS RESEARCH AND THERAPY                               1\n",
       "AIDS UK                                                 2\n",
       "ALCOHOL AND ALCOHOLISM                                  1\n",
       "...                                                   ...\n",
       "TISSUE ENGINEERING PART A                               1\n",
       "TRAFFIC                                                 6\n",
       "TRANSACTIONS OF THE ROYAL SOCIETY OF TROPICAL M...      1\n",
       "TRANSLATIONAL PSYCHIATRY                                2\n",
       "TRENDS IN COGNITIVE SCIENCE                             1\n",
       "TRENDS IN GENETICS                                      2\n",
       "TRENDS IN MICROBIOLOGY                                  1\n",
       "TRENDS IN MOLECULAR MEDICINE                            1\n",
       "TRENDS IN NEUROSCIENCE                                  1\n",
       "TRENDS IN NEUROSCIENCES                                 2\n",
       "TRENDS IN PARASITOLOGY                                  4\n",
       "TRIALS                                                  5\n",
       "TROP MED INT HEALTH                                     1\n",
       "TROPICAL ANIMAL HEALTH AND PRODUCTION                   1\n",
       "TROPICAL MEDICINE AND INTERNATIONAL HEALTH              6\n",
       "TUBERCULOSIS                                            2\n",
       "URBAN HISTORY                                           1\n",
       "UROLITHIASIS                                            1\n",
       "VACCINE                                                 5\n",
       "VASCULAR PHARMACOLOGY                                   1\n",
       "VETERINARY MICROBIOLOGY                                 1\n",
       "VETERINARY PARASITOLOGY                                 2\n",
       "VETERINARY RECORD                                       1\n",
       "VETERINARY RESEARCH                                     1\n",
       "VIROLOGY                                                2\n",
       "VIROLOGY JOURNAL                                        1\n",
       "VIRUS RESEARCH                                          1\n",
       "VISION RESEARCH                                         2\n",
       "VISUAL NEUROSCIENCE                                     1\n",
       "ZOONOSES AND PUBLIC HEALTH                              1\n",
       "\n",
       "[880 rows x 1 columns]"
      ]
     },
     "execution_count": 23,
     "metadata": {},
     "output_type": "execute_result"
    }
   ],
   "source": [
    "new_df = pd.DataFrame(data['Journal title'].value_counts())\n",
    "new_df.columns=['Count']\n",
    "new_df.sort_index()"
   ]
  },
  {
   "cell_type": "code",
   "execution_count": 49,
   "metadata": {
    "collapsed": true
   },
   "outputs": [],
   "source": [
    "#In order to perform mathematical calculations have to remove items and convert to a float.\n",
    "data['FCOST'] = data['COST'].str.replace('£','')\n",
    "data['FCOST'] = data['FCOST'].str.replace('$','')\n",
    "data['FCOST'] = data['FCOST'].apply(lambda x: float(x))"
   ]
  },
  {
   "cell_type": "code",
   "execution_count": 50,
   "metadata": {
    "collapsed": false
   },
   "outputs": [
    {
     "data": {
      "text/html": [
       "<div>\n",
       "<style>\n",
       "    .dataframe thead tr:only-child th {\n",
       "        text-align: right;\n",
       "    }\n",
       "\n",
       "    .dataframe thead th {\n",
       "        text-align: left;\n",
       "    }\n",
       "\n",
       "    .dataframe tbody tr th {\n",
       "        vertical-align: top;\n",
       "    }\n",
       "</style>\n",
       "<table border=\"1\" class=\"dataframe\">\n",
       "  <thead>\n",
       "    <tr style=\"text-align: right;\">\n",
       "      <th></th>\n",
       "      <th>PMID/PMCID</th>\n",
       "      <th>Publisher</th>\n",
       "      <th>Journal title</th>\n",
       "      <th>Article title</th>\n",
       "      <th>COST</th>\n",
       "      <th>FCOST</th>\n",
       "    </tr>\n",
       "  </thead>\n",
       "  <tbody>\n",
       "    <tr>\n",
       "      <th>0</th>\n",
       "      <td>NaN</td>\n",
       "      <td>CUP</td>\n",
       "      <td>Psychological Medicine</td>\n",
       "      <td>Reduced parahippocampal cortical thickness in ...</td>\n",
       "      <td>£0.00</td>\n",
       "      <td>0.00</td>\n",
       "    </tr>\n",
       "    <tr>\n",
       "      <th>1</th>\n",
       "      <td>PMC3679557</td>\n",
       "      <td>ACS</td>\n",
       "      <td>Biomacromolecules</td>\n",
       "      <td>Structural characterization of a Model Gram-ne...</td>\n",
       "      <td>£2381.04</td>\n",
       "      <td>2381.04</td>\n",
       "    </tr>\n",
       "    <tr>\n",
       "      <th>2</th>\n",
       "      <td>23043264  PMC3506128</td>\n",
       "      <td>ACS</td>\n",
       "      <td>J Med Chem</td>\n",
       "      <td>Fumaroylamino-4,5-epoxymorphinans and related ...</td>\n",
       "      <td>£642.56</td>\n",
       "      <td>642.56</td>\n",
       "    </tr>\n",
       "    <tr>\n",
       "      <th>3</th>\n",
       "      <td>23438330 PMC3646402</td>\n",
       "      <td>ACS</td>\n",
       "      <td>J Med Chem</td>\n",
       "      <td>Orvinols with mixed kappa/mu opioid receptor a...</td>\n",
       "      <td>£669.64</td>\n",
       "      <td>669.64</td>\n",
       "    </tr>\n",
       "    <tr>\n",
       "      <th>4</th>\n",
       "      <td>23438216 PMC3601604</td>\n",
       "      <td>ACS</td>\n",
       "      <td>J Org Chem</td>\n",
       "      <td>Regioselective opening of myo-inositol orthoes...</td>\n",
       "      <td>£685.88</td>\n",
       "      <td>685.88</td>\n",
       "    </tr>\n",
       "    <tr>\n",
       "      <th>5</th>\n",
       "      <td>PMC3579457</td>\n",
       "      <td>ACS</td>\n",
       "      <td>Journal of Medicinal Chemistry</td>\n",
       "      <td>Comparative Structural and Functional Studies ...</td>\n",
       "      <td>£2392.20</td>\n",
       "      <td>2392.20</td>\n",
       "    </tr>\n",
       "    <tr>\n",
       "      <th>6</th>\n",
       "      <td>PMC3709265</td>\n",
       "      <td>ACS</td>\n",
       "      <td>Journal of Proteome Research</td>\n",
       "      <td>Mapping Proteolytic Processing in the Secretom...</td>\n",
       "      <td>£2367.95</td>\n",
       "      <td>2367.95</td>\n",
       "    </tr>\n",
       "    <tr>\n",
       "      <th>7</th>\n",
       "      <td>23057412 PMC3495574</td>\n",
       "      <td>ACS</td>\n",
       "      <td>Mol Pharm</td>\n",
       "      <td>Quantitative silencing of EGFP reporter gene b...</td>\n",
       "      <td>£649.33</td>\n",
       "      <td>649.33</td>\n",
       "    </tr>\n",
       "    <tr>\n",
       "      <th>8</th>\n",
       "      <td>PMCID: PMC3780468</td>\n",
       "      <td>ACS (Amercian Chemical Society) Publications</td>\n",
       "      <td>ACS Chemical Biology</td>\n",
       "      <td>A Novel Allosteric Inhibitor of the Uridine Di...</td>\n",
       "      <td>£1294.59</td>\n",
       "      <td>1294.59</td>\n",
       "    </tr>\n",
       "    <tr>\n",
       "      <th>9</th>\n",
       "      <td>PMCID: PMC3621575</td>\n",
       "      <td>ACS (Amercian Chemical Society) Publications</td>\n",
       "      <td>ACS Chemical Biology</td>\n",
       "      <td>Chemical proteomic analysis reveals the drugab...</td>\n",
       "      <td>£1294.78</td>\n",
       "      <td>1294.78</td>\n",
       "    </tr>\n",
       "    <tr>\n",
       "      <th>10</th>\n",
       "      <td>PMCID: PMC3739413</td>\n",
       "      <td>ACS (Amercian Chemical Society) Publications</td>\n",
       "      <td>Journal of Chemical Information and Modeling</td>\n",
       "      <td>Locating Sweet Spots for Screening Hits and Ev...</td>\n",
       "      <td>£1329.69</td>\n",
       "      <td>1329.69</td>\n",
       "    </tr>\n",
       "    <tr>\n",
       "      <th>11</th>\n",
       "      <td>PMCID: PMC3530961</td>\n",
       "      <td>ACS (Amercian Chemical Society) Publications</td>\n",
       "      <td>Journal of Medicinal Chemistry</td>\n",
       "      <td>Synthesis and evaluation of ?-thymidine analog...</td>\n",
       "      <td>£1287.20</td>\n",
       "      <td>1287.20</td>\n",
       "    </tr>\n",
       "    <tr>\n",
       "      <th>12</th>\n",
       "      <td>PMCID: PMC3624797</td>\n",
       "      <td>ACS (Amercian Chemical Society) Publications</td>\n",
       "      <td>Journal of Medicinal Chemistry</td>\n",
       "      <td>Discovery and structure-activity relationships...</td>\n",
       "      <td>£1324.66</td>\n",
       "      <td>1324.66</td>\n",
       "    </tr>\n",
       "    <tr>\n",
       "      <th>13</th>\n",
       "      <td>PMC3413243</td>\n",
       "      <td>ACS Publications</td>\n",
       "      <td>Biochemistry</td>\n",
       "      <td>Monomeric 14-3-3 has a chaperone-like activity...</td>\n",
       "      <td>£665.64</td>\n",
       "      <td>665.64</td>\n",
       "    </tr>\n",
       "    <tr>\n",
       "      <th>14</th>\n",
       "      <td>PMC3694353</td>\n",
       "      <td>ACS Publications</td>\n",
       "      <td>Journal of Medicinal Chemistry</td>\n",
       "      <td>Synthesis and in vitro and in vivo characteriz...</td>\n",
       "      <td>£1006.72</td>\n",
       "      <td>1006.72</td>\n",
       "    </tr>\n",
       "  </tbody>\n",
       "</table>\n",
       "</div>"
      ],
      "text/plain": [
       "               PMID/PMCID                                     Publisher  \\\n",
       "0                     NaN                                           CUP   \n",
       "1              PMC3679557                                           ACS   \n",
       "2   23043264  PMC3506128                                            ACS   \n",
       "3     23438330 PMC3646402                                           ACS   \n",
       "4    23438216 PMC3601604                                            ACS   \n",
       "5              PMC3579457                                           ACS   \n",
       "6              PMC3709265                                           ACS   \n",
       "7    23057412 PMC3495574                                            ACS   \n",
       "8       PMCID: PMC3780468  ACS (Amercian Chemical Society) Publications   \n",
       "9       PMCID: PMC3621575  ACS (Amercian Chemical Society) Publications   \n",
       "10      PMCID: PMC3739413  ACS (Amercian Chemical Society) Publications   \n",
       "11      PMCID: PMC3530961  ACS (Amercian Chemical Society) Publications   \n",
       "12      PMCID: PMC3624797  ACS (Amercian Chemical Society) Publications   \n",
       "13             PMC3413243                              ACS Publications   \n",
       "14             PMC3694353                              ACS Publications   \n",
       "\n",
       "                                   Journal title  \\\n",
       "0                         Psychological Medicine   \n",
       "1                              Biomacromolecules   \n",
       "2                                     J Med Chem   \n",
       "3                                     J Med Chem   \n",
       "4                                     J Org Chem   \n",
       "5                 Journal of Medicinal Chemistry   \n",
       "6                   Journal of Proteome Research   \n",
       "7                                      Mol Pharm   \n",
       "8                           ACS Chemical Biology   \n",
       "9                           ACS Chemical Biology   \n",
       "10  Journal of Chemical Information and Modeling   \n",
       "11                Journal of Medicinal Chemistry   \n",
       "12                Journal of Medicinal Chemistry   \n",
       "13                                  Biochemistry   \n",
       "14                Journal of Medicinal Chemistry   \n",
       "\n",
       "                                        Article title      COST    FCOST  \n",
       "0   Reduced parahippocampal cortical thickness in ...     £0.00     0.00  \n",
       "1   Structural characterization of a Model Gram-ne...  £2381.04  2381.04  \n",
       "2   Fumaroylamino-4,5-epoxymorphinans and related ...   £642.56   642.56  \n",
       "3   Orvinols with mixed kappa/mu opioid receptor a...   £669.64   669.64  \n",
       "4   Regioselective opening of myo-inositol orthoes...   £685.88   685.88  \n",
       "5   Comparative Structural and Functional Studies ...  £2392.20  2392.20  \n",
       "6   Mapping Proteolytic Processing in the Secretom...  £2367.95  2367.95  \n",
       "7   Quantitative silencing of EGFP reporter gene b...   £649.33   649.33  \n",
       "8   A Novel Allosteric Inhibitor of the Uridine Di...  £1294.59  1294.59  \n",
       "9   Chemical proteomic analysis reveals the drugab...  £1294.78  1294.78  \n",
       "10  Locating Sweet Spots for Screening Hits and Ev...  £1329.69  1329.69  \n",
       "11  Synthesis and evaluation of ?-thymidine analog...  £1287.20  1287.20  \n",
       "12  Discovery and structure-activity relationships...  £1324.66  1324.66  \n",
       "13  Monomeric 14-3-3 has a chaperone-like activity...   £665.64   665.64  \n",
       "14  Synthesis and in vitro and in vivo characteriz...  £1006.72  1006.72  "
      ]
     },
     "execution_count": 50,
     "metadata": {},
     "output_type": "execute_result"
    }
   ],
   "source": [
    "data.head(15)"
   ]
  },
  {
   "cell_type": "code",
   "execution_count": 52,
   "metadata": {
    "collapsed": false
   },
   "outputs": [
    {
     "name": "stdout",
     "output_type": "stream",
     "text": [
      "<class 'pandas.core.frame.DataFrame'>\n",
      "RangeIndex: 2127 entries, 0 to 2126\n",
      "Data columns (total 6 columns):\n",
      "PMID/PMCID       1928 non-null object\n",
      "Publisher        2127 non-null object\n",
      "Journal title    2126 non-null object\n",
      "Article title    2127 non-null object\n",
      "COST             2127 non-null object\n",
      "FCOST            2127 non-null float64\n",
      "dtypes: float64(1), object(5)\n",
      "memory usage: 99.8+ KB\n"
     ]
    }
   ],
   "source": [
    "data.info()"
   ]
  },
  {
   "cell_type": "code",
   "execution_count": 42,
   "metadata": {
    "collapsed": false
   },
   "outputs": [
    {
     "data": {
      "text/plain": [
       "24067.33997179131"
      ]
     },
     "execution_count": 42,
     "metadata": {},
     "output_type": "execute_result"
    }
   ],
   "source": [
    "data['COST'].mean()"
   ]
  },
  {
   "cell_type": "code",
   "execution_count": 43,
   "metadata": {
    "collapsed": false
   },
   "outputs": [
    {
     "data": {
      "text/plain": [
       "1884.01"
      ]
     },
     "execution_count": 43,
     "metadata": {},
     "output_type": "execute_result"
    }
   ],
   "source": [
    "data['COST'].median()"
   ]
  },
  {
   "cell_type": "code",
   "execution_count": 44,
   "metadata": {
    "collapsed": false
   },
   "outputs": [
    {
     "data": {
      "text/plain": [
       "146860.6655590476"
      ]
     },
     "execution_count": 44,
     "metadata": {},
     "output_type": "execute_result"
    }
   ],
   "source": [
    "data['COST'].std()"
   ]
  },
  {
   "cell_type": "code",
   "execution_count": 45,
   "metadata": {
    "collapsed": false
   },
   "outputs": [
    {
     "data": {
      "text/plain": [
       "999999.0"
      ]
     },
     "execution_count": 45,
     "metadata": {},
     "output_type": "execute_result"
    }
   ],
   "source": [
    "data['COST'].max()"
   ]
  },
  {
   "cell_type": "markdown",
   "metadata": {},
   "source": [
    "## Challenge"
   ]
  },
  {
   "cell_type": "code",
   "execution_count": 51,
   "metadata": {
    "collapsed": false
   },
   "outputs": [
    {
     "data": {
      "text/plain": [
       "PLoS One                                                                92\n",
       "PLoS ONE                                                                62\n",
       "Journal of Biological Chemistry                                         48\n",
       "Nucleic Acids Research                                                  21\n",
       "Proceedings of the National Academy of Sciences                         19\n",
       "PLoS Neglected Tropical Diseases                                        18\n",
       "Human Molecular Genetics                                                18\n",
       "Nature Communications                                                   17\n",
       "Neuroimage                                                              15\n",
       "PLoS Genetics                                                           15\n",
       "PLoS Pathogens                                                          15\n",
       "BMC Public Health                                                       14\n",
       "PLOS ONE                                                                14\n",
       "NeuroImage                                                              14\n",
       "Brain                                                                   14\n",
       "Movement Disorders                                                      13\n",
       "Developmental Cell                                                      12\n",
       "Journal of Neuroscience                                                 12\n",
       "Biochemical Journal                                                     12\n",
       "Journal of General Virology                                             11\n",
       "PLOS One                                                                10\n",
       "BMJ                                                                     10\n",
       "Current Biology                                                         10\n",
       "Neuron                                                                   9\n",
       "Cell Reports                                                             9\n",
       "Journal of Cell Science                                                  8\n",
       "Development                                                              8\n",
       "Journal of Physiology                                                    8\n",
       "European Journal of Immunology                                           8\n",
       "Journal of Virology                                                      8\n",
       "                                                                        ..\n",
       "Marten Child Nutr                                                        1\n",
       "Plos one                                                                 1\n",
       "Journal of Vision                                                        1\n",
       "Journal of Experimental Nanoscience                                      1\n",
       "Public Library of Science                                                1\n",
       "Journal of Bioethical Inquiry                                            1\n",
       "BMC Medical Imaging                                                      1\n",
       "Oxford Journals                                                          1\n",
       "Journal of Neurology, Neurosurgery & Psychiatry                          1\n",
       "Emotion                                                                  1\n",
       "Veterinary Research                                                      1\n",
       "Bioscience Reports                                                       1\n",
       "Human Brain Mapping                                                      1\n",
       "Chromosome Research                                                      1\n",
       "Acta Crystallographica, Section D                                        1\n",
       "Journal of Cerebral Blood Flow and Metabolism                            1\n",
       "Journal of Neurology, Neurosurgery & Psychiatry                          1\n",
       "Cell Calcium                                                             1\n",
       "International Journal of Behavioural Nutrition and Physical Activity     1\n",
       "Frontiers in Auditory Cognitive Neuroscience                             1\n",
       "Birth Defects Research Part A: Clinical and Molecular Teratology         1\n",
       "Journal of Medicinal Chemistry                                           1\n",
       "PONE-D12-17947                                                           1\n",
       "Qualitative Research                                                     1\n",
       "Health Psychology                                                        1\n",
       "Journal of Comparative Neurology                                         1\n",
       "Calcified Tissue International                                           1\n",
       "Journal of Transport Geography                                           1\n",
       "Journal of Small Animal Practice                                         1\n",
       "J Steroid Biochem Mol Biol                                               1\n",
       "Name: Journal title, Length: 984, dtype: int64"
      ]
     },
     "execution_count": 51,
     "metadata": {},
     "output_type": "execute_result"
    }
   ],
   "source": [
    "data['Journal title'].value_counts()"
   ]
  },
  {
   "cell_type": "code",
   "execution_count": null,
   "metadata": {
    "collapsed": true
   },
   "outputs": [],
   "source": [
    "#What is meant by subject?\n"
   ]
  }
 ],
 "metadata": {
  "kernelspec": {
   "display_name": "Python 3",
   "language": "python",
   "name": "python3"
  },
  "language_info": {
   "codemirror_mode": {
    "name": "ipython",
    "version": 3
   },
   "file_extension": ".py",
   "mimetype": "text/x-python",
   "name": "python",
   "nbconvert_exporter": "python",
   "pygments_lexer": "ipython3",
   "version": "3.6.0"
  }
 },
 "nbformat": 4,
 "nbformat_minor": 2
}
