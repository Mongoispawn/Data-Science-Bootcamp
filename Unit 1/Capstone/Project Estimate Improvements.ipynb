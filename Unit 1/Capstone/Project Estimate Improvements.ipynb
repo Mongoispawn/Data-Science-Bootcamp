{
 "cells": [
  {
   "cell_type": "markdown",
   "metadata": {},
   "source": [
    "# Project Estimate Improvement"
   ]
  },
  {
   "cell_type": "markdown",
   "metadata": {},
   "source": [
    "<img src=\"Company logo.png\">"
   ]
  },
  {
   "cell_type": "markdown",
   "metadata": {},
   "source": [
    "#### Galactic Instruments is an engineering company dedicated to enabling space travel. They make various products that can be used in advanced spaceships. Each Team is aligned on the products they serve. The products are:\n",
    "\n",
    "1. Warp Engines\n",
    "2. Transporters\n",
    "3. Tricorders\n",
    "4. Universal Translators\n",
    "5. Tractor Beams\n",
    "6. Photon Torpedos\n",
    "\n",
    "#### There are also 3 different deparentments (Parent Organizations) that server different functions. The departments are:\n",
    "\n",
    "1. Systems Engineering: Technical branch for the sales team. They work with customers to prove the equipement can meet the customers needs before purchase.\n",
    "2. Support Engineering: Assist customers in troubleshooting and ensuring they are successful after the sale.\n",
    "3. R&D: Research and Development are focused on creating new products, but sometimes get involved in special projects for certain customers."
   ]
  },
  {
   "cell_type": "markdown",
   "metadata": {},
   "source": []
  },
  {
   "cell_type": "code",
   "execution_count": null,
   "metadata": {
    "collapsed": true
   },
   "outputs": [],
   "source": []
  },
  {
   "cell_type": "code",
   "execution_count": null,
   "metadata": {
    "collapsed": true
   },
   "outputs": [],
   "source": []
  },
  {
   "cell_type": "code",
   "execution_count": null,
   "metadata": {
    "collapsed": true
   },
   "outputs": [],
   "source": []
  },
  {
   "cell_type": "code",
   "execution_count": null,
   "metadata": {
    "collapsed": true
   },
   "outputs": [],
   "source": []
  },
  {
   "cell_type": "code",
   "execution_count": 1,
   "metadata": {
    "collapsed": true
   },
   "outputs": [],
   "source": [
    "#Imports\n",
    "import numpy as np\n",
    "import pandas as pd\n",
    "import matplotlib.pyplot as plt\n",
    "import seaborn as sns\n",
    "%matplotlib inline"
   ]
  },
  {
   "cell_type": "code",
   "execution_count": 5,
   "metadata": {
    "collapsed": false
   },
   "outputs": [
    {
     "data": {
      "text/html": [
       "<div>\n",
       "<table border=\"1\" class=\"dataframe\">\n",
       "  <thead>\n",
       "    <tr style=\"text-align: right;\">\n",
       "      <th></th>\n",
       "      <th>First_Estimate</th>\n",
       "      <th>Days_between_estimate</th>\n",
       "      <th>EstimatedEffort</th>\n",
       "      <th>Total_Hours</th>\n",
       "      <th>Effort_over_Estimate</th>\n",
       "      <th>Parent_Team</th>\n",
       "      <th>Team_Name</th>\n",
       "      <th>Region</th>\n",
       "    </tr>\n",
       "    <tr>\n",
       "      <th>Date</th>\n",
       "      <th></th>\n",
       "      <th></th>\n",
       "      <th></th>\n",
       "      <th></th>\n",
       "      <th></th>\n",
       "      <th></th>\n",
       "      <th></th>\n",
       "      <th></th>\n",
       "    </tr>\n",
       "  </thead>\n",
       "  <tbody>\n",
       "    <tr>\n",
       "      <th>2016-10-05</th>\n",
       "      <td>2016-10-11</td>\n",
       "      <td>6</td>\n",
       "      <td>20.0</td>\n",
       "      <td>12.5</td>\n",
       "      <td>62</td>\n",
       "      <td>Support Engineering</td>\n",
       "      <td>Tricorders</td>\n",
       "      <td>US &amp; Canada</td>\n",
       "    </tr>\n",
       "    <tr>\n",
       "      <th>2016-10-05</th>\n",
       "      <td>2016-10-24</td>\n",
       "      <td>19</td>\n",
       "      <td>24.0</td>\n",
       "      <td>44.0</td>\n",
       "      <td>183</td>\n",
       "      <td>Systems Engineering</td>\n",
       "      <td>Warp Engines</td>\n",
       "      <td>US &amp; Canada</td>\n",
       "    </tr>\n",
       "    <tr>\n",
       "      <th>2016-10-05</th>\n",
       "      <td>2016-11-28</td>\n",
       "      <td>54</td>\n",
       "      <td>60.0</td>\n",
       "      <td>57.5</td>\n",
       "      <td>95</td>\n",
       "      <td>Support Engineering</td>\n",
       "      <td>Warp Engines</td>\n",
       "      <td>US &amp; Canada</td>\n",
       "    </tr>\n",
       "    <tr>\n",
       "      <th>2016-10-05</th>\n",
       "      <td>2016-10-11</td>\n",
       "      <td>6</td>\n",
       "      <td>7.0</td>\n",
       "      <td>5.0</td>\n",
       "      <td>71</td>\n",
       "      <td>Support Engineering</td>\n",
       "      <td>Transporters</td>\n",
       "      <td>US &amp; Canada</td>\n",
       "    </tr>\n",
       "    <tr>\n",
       "      <th>2016-10-06</th>\n",
       "      <td>2016-10-19</td>\n",
       "      <td>13</td>\n",
       "      <td>24.0</td>\n",
       "      <td>2.0</td>\n",
       "      <td>8</td>\n",
       "      <td>Support Engineering</td>\n",
       "      <td>Warp Engines</td>\n",
       "      <td>US &amp; Canada</td>\n",
       "    </tr>\n",
       "  </tbody>\n",
       "</table>\n",
       "</div>"
      ],
      "text/plain": [
       "           First_Estimate  Days_between_estimate  EstimatedEffort  \\\n",
       "Date                                                                \n",
       "2016-10-05     2016-10-11                      6             20.0   \n",
       "2016-10-05     2016-10-24                     19             24.0   \n",
       "2016-10-05     2016-11-28                     54             60.0   \n",
       "2016-10-05     2016-10-11                      6              7.0   \n",
       "2016-10-06     2016-10-19                     13             24.0   \n",
       "\n",
       "            Total_Hours  Effort_over_Estimate          Parent_Team  \\\n",
       "Date                                                                 \n",
       "2016-10-05         12.5                    62  Support Engineering   \n",
       "2016-10-05         44.0                   183  Systems Engineering   \n",
       "2016-10-05         57.5                    95  Support Engineering   \n",
       "2016-10-05          5.0                    71  Support Engineering   \n",
       "2016-10-06          2.0                     8  Support Engineering   \n",
       "\n",
       "               Team_Name       Region  \n",
       "Date                                   \n",
       "2016-10-05    Tricorders  US & Canada  \n",
       "2016-10-05  Warp Engines  US & Canada  \n",
       "2016-10-05  Warp Engines  US & Canada  \n",
       "2016-10-05  Transporters  US & Canada  \n",
       "2016-10-06  Warp Engines  US & Canada  "
      ]
     },
     "execution_count": 5,
     "metadata": {},
     "output_type": "execute_result"
    }
   ],
   "source": [
    "#Bring in data\n",
    "data = pd.read_csv('Project Estimates Scrubbed.csv', index_col='Date')\n",
    "data.index = pd.to_datetime(data.index)\n",
    "data['First_Estimate'] = pd.to_datetime(data['First_Estimate'])\n",
    "data.sort_index(inplace=True)\n",
    "data.head(5)"
   ]
  },
  {
   "cell_type": "code",
   "execution_count": 6,
   "metadata": {
    "collapsed": true
   },
   "outputs": [],
   "source": [
    "#Create Bucket Functions\n",
    "def days_bucket(days):\n",
    "    output = \"\"\n",
    "    if days == 0:\n",
    "        output = \"0\"\n",
    "    elif days == 1:\n",
    "        output = \"1\"\n",
    "    elif days == 2:\n",
    "        output = \"2\"\n",
    "    elif days == 3:\n",
    "        output = \"3\"\n",
    "    elif days == 4:\n",
    "        output = \"4\"\n",
    "    elif days == 5:\n",
    "        output = \"5\"\n",
    "    elif days == 6:\n",
    "        output = \"6\"\n",
    "    elif days == 7:\n",
    "        output = \"7\"\n",
    "    elif days > 7 and days <=20:\n",
    "        output = \"Between 7 & 20\"\n",
    "    elif days > 20 and days <=40:\n",
    "        output = \"Between 20 and 40\"\n",
    "    else:\n",
    "        output = \"Greater than 40\"\n",
    "    \n",
    "    return output\n",
    "\n",
    "def estimate_effort_bucket(ee):\n",
    "    output = ''\n",
    "    if ee < 80:\n",
    "        output = \"Less than 80\"\n",
    "    elif (ee >= 80 and ee < 120):\n",
    "        output = \"Between 80 and 120\"\n",
    "    elif (ee >= 120 and ee < 200):\n",
    "        output = \"Between 120 and 200\"\n",
    "    else:\n",
    "        output = \"Over 200\"\n",
    "    \n",
    "    return output\n",
    "\n",
    "\n",
    "def effort_bucket(effort):\n",
    "    output = ''\n",
    "    if effort <= 8:\n",
    "        output = \"Less than 8\"\n",
    "    elif (effort > 8 and effort < 20):\n",
    "        output = \"Between 8 and 20\"\n",
    "    elif (effort >= 20 and effort < 40):\n",
    "        output = \"Between 20 and 40\"\n",
    "    elif (effort >= 40 and effort < 80):\n",
    "        output = \"Between 40 and 80\"\n",
    "    else:\n",
    "        output = \"Over 80\"\n",
    "    \n",
    "    return output"
   ]
  },
  {
   "cell_type": "code",
   "execution_count": 7,
   "metadata": {
    "collapsed": true
   },
   "outputs": [],
   "source": [
    "data['Days Bucket'] = data['Days_between_estimate'].apply(lambda x: days_bucket(x))\n",
    "data['Estimate Effort Bucket'] = data['Effort_over_Estimate'].apply(lambda x: estimate_effort_bucket(x))\n",
    "data['Effort Bucket'] = data['EstimatedEffort'].apply(lambda x: effort_bucket(x))"
   ]
  },
  {
   "cell_type": "markdown",
   "metadata": {},
   "source": [
    "## Effort over Estimate Analysis"
   ]
  },
  {
   "cell_type": "code",
   "execution_count": 9,
   "metadata": {
    "collapsed": false
   },
   "outputs": [
    {
     "data": {
      "image/png": "[encoded data removed]",
      "text/plain": [
       "<matplotlib.figure.Figure at 0x108757048>"
      ]
     },
     "metadata": {},
     "output_type": "display_data"
    }
   ],
   "source": [
    "sns.set(style=\"whitegrid\")\n",
    "g = sns.factorplot(x=\"Parent_Team\", y=\"Effort_over_Estimate\",data=data, join=False, palette=\"pastel\", kind=\"point\",\n",
    "                  size=7)\n",
    "g.set_ylabels(\"Effort_over_Estimate\")\n",
    "g.set_xlabels(\"\")\n",
    "plt.title('Pointplot: Effort over Estimate by Parent Organization')\n",
    "plt.show()"
   ]
  },
  {
   "cell_type": "code",
   "execution_count": 11,
   "metadata": {
    "collapsed": false
   },
   "outputs": [
    {
     "data": {
      "image/png": "[encoded data removed]",
      "text/plain": [
       "<matplotlib.figure.Figure at 0x115dd29e8>"
      ]
     },
     "metadata": {},
     "output_type": "display_data"
    }
   ],
   "source": [
    "sns.set(style=\"whitegrid\")\n",
    "g = sns.factorplot(x=\"Team_Name\", y=\"Effort_over_Estimate\",data=data, join=False, palette=\"pastel\", kind=\"point\",\n",
    "                  size=8)\n",
    "#g = sns.pointplot(x=\"Parent_Team\", y=\"Effort_over_Estimate\",data=new_df, join=False, palette=\"pastel\")\n",
    "#g.despine(left=True)\n",
    "g.set_ylabels(\"Effort_over_Estimate\")\n",
    "g.set_xlabels(\"\")\n",
    "plt.title('Pointplot: Effort over Estimate by Team')\n",
    "plt.show()"
   ]
  },
  {
   "cell_type": "code",
   "execution_count": null,
   "metadata": {
    "collapsed": true
   },
   "outputs": [],
   "source": []
  }
 ],
 "metadata": {
  "kernelspec": {
   "display_name": "Python 3",
   "language": "python",
   "name": "python3"
  },
  "language_info": {
   "codemirror_mode": {
    "name": "ipython",
    "version": 3
   },
   "file_extension": ".py",
   "mimetype": "text/x-python",
   "name": "python",
   "nbconvert_exporter": "python",
   "pygments_lexer": "ipython3",
   "version": "3.6.0"
  }
 },
 "nbformat": 4,
 "nbformat_minor": 2
}
