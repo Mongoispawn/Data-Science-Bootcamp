{
 "cells": [
  {
   "cell_type": "markdown",
   "metadata": {},
   "source": [
    "# Challenge: Make your own regression Model\n",
    "\n",
    "Using this data, build a regression model to predict property crimes. You can use the features you prepared in the previous assignment, new features of your own choosing, or a combination. The goal here is prediction rather than understanding mechanisms, so the focus is on creating a model that explains a lot of variance."
   ]
  },
  {
   "cell_type": "code",
   "execution_count": 5,
   "metadata": {},
   "outputs": [],
   "source": [
    "#Imports\n",
    "import math\n",
    "import warnings\n",
    "import numpy as np\n",
    "import pandas as pd\n",
    "\n",
    "from sklearn import linear_model\n",
    "import statsmodels.formula.api as smf\n",
    "\n",
    "#Plotting\n",
    "from IPython.display import display\n",
    "from matplotlib import pyplot as plt\n",
    "import seaborn as sns\n",
    "sns.set(style=\"whitegrid\")\n",
    "%matplotlib inline\n",
    "pd.options.display.float_format = '{:.3f}'.format\n",
    "\n",
    "#Winsorizing\n",
    "import scipy.stats\n",
    "\n",
    "# Suppress annoying harmless error.\n",
    "warnings.filterwarnings(\n",
    "    action=\"ignore\",\n",
    "    module=\"scipy\",\n",
    "    message=\"^internal gelsd\"\n",
    ")"
   ]
  },
  {
   "cell_type": "code",
   "execution_count": 76,
   "metadata": {},
   "outputs": [
    {
     "data": {
      "text/html": [
       "<div>\n",
       "<style>\n",
       "    .dataframe thead tr:only-child th {\n",
       "        text-align: right;\n",
       "    }\n",
       "\n",
       "    .dataframe thead th {\n",
       "        text-align: left;\n",
       "    }\n",
       "\n",
       "    .dataframe tbody tr th {\n",
       "        vertical-align: top;\n",
       "    }\n",
       "</style>\n",
       "<table border=\"1\" class=\"dataframe\">\n",
       "  <thead>\n",
       "    <tr style=\"text-align: right;\">\n",
       "      <th></th>\n",
       "      <th>City</th>\n",
       "      <th>Population</th>\n",
       "      <th>Violent crime</th>\n",
       "      <th>Murder</th>\n",
       "      <th>Rape</th>\n",
       "      <th>Robbery</th>\n",
       "      <th>Aggravated Assault</th>\n",
       "      <th>Property Crime</th>\n",
       "      <th>Burglary</th>\n",
       "      <th>Larceny-theft</th>\n",
       "      <th>Motor vehicle theft</th>\n",
       "      <th>Arson</th>\n",
       "    </tr>\n",
       "  </thead>\n",
       "  <tbody>\n",
       "    <tr>\n",
       "      <th>0</th>\n",
       "      <td>Adams Village</td>\n",
       "      <td>1,861</td>\n",
       "      <td>0</td>\n",
       "      <td>0</td>\n",
       "      <td>0</td>\n",
       "      <td>0</td>\n",
       "      <td>0</td>\n",
       "      <td>12</td>\n",
       "      <td>2</td>\n",
       "      <td>10</td>\n",
       "      <td>0</td>\n",
       "      <td>0.000</td>\n",
       "    </tr>\n",
       "    <tr>\n",
       "      <th>1</th>\n",
       "      <td>Addison Town and Village</td>\n",
       "      <td>2,577</td>\n",
       "      <td>3</td>\n",
       "      <td>0</td>\n",
       "      <td>0</td>\n",
       "      <td>0</td>\n",
       "      <td>3</td>\n",
       "      <td>24</td>\n",
       "      <td>3</td>\n",
       "      <td>20</td>\n",
       "      <td>1</td>\n",
       "      <td>0.000</td>\n",
       "    </tr>\n",
       "    <tr>\n",
       "      <th>2</th>\n",
       "      <td>Akron Village</td>\n",
       "      <td>2,846</td>\n",
       "      <td>3</td>\n",
       "      <td>0</td>\n",
       "      <td>0</td>\n",
       "      <td>0</td>\n",
       "      <td>3</td>\n",
       "      <td>16</td>\n",
       "      <td>1</td>\n",
       "      <td>15</td>\n",
       "      <td>0</td>\n",
       "      <td>0.000</td>\n",
       "    </tr>\n",
       "    <tr>\n",
       "      <th>3</th>\n",
       "      <td>Albany</td>\n",
       "      <td>97,956</td>\n",
       "      <td>791</td>\n",
       "      <td>8</td>\n",
       "      <td>30</td>\n",
       "      <td>227</td>\n",
       "      <td>526</td>\n",
       "      <td>4,090</td>\n",
       "      <td>705</td>\n",
       "      <td>3,243</td>\n",
       "      <td>142</td>\n",
       "      <td>nan</td>\n",
       "    </tr>\n",
       "    <tr>\n",
       "      <th>4</th>\n",
       "      <td>Albion Village</td>\n",
       "      <td>6,388</td>\n",
       "      <td>23</td>\n",
       "      <td>0</td>\n",
       "      <td>3</td>\n",
       "      <td>4</td>\n",
       "      <td>16</td>\n",
       "      <td>223</td>\n",
       "      <td>53</td>\n",
       "      <td>165</td>\n",
       "      <td>5</td>\n",
       "      <td>nan</td>\n",
       "    </tr>\n",
       "  </tbody>\n",
       "</table>\n",
       "</div>"
      ],
      "text/plain": [
       "                       City Population Violent crime  Murder Rape Robbery  \\\n",
       "0             Adams Village      1,861             0       0    0       0   \n",
       "1  Addison Town and Village      2,577             3       0    0       0   \n",
       "2             Akron Village      2,846             3       0    0       0   \n",
       "3                    Albany     97,956           791       8   30     227   \n",
       "4            Albion Village      6,388            23       0    3       4   \n",
       "\n",
       "  Aggravated Assault Property Crime Burglary Larceny-theft  \\\n",
       "0                  0             12        2            10   \n",
       "1                  3             24        3            20   \n",
       "2                  3             16        1            15   \n",
       "3                526          4,090      705         3,243   \n",
       "4                 16            223       53           165   \n",
       "\n",
       "  Motor vehicle theft  Arson  \n",
       "0                   0  0.000  \n",
       "1                   1  0.000  \n",
       "2                   0  0.000  \n",
       "3                 142    nan  \n",
       "4                   5    nan  "
      ]
     },
     "execution_count": 76,
     "metadata": {},
     "output_type": "execute_result"
    }
   ],
   "source": [
    "#Bring in Data\n",
    "data = pd.read_csv('ny_offenses.csv')\n",
    "data.head()"
   ]
  },
  {
   "cell_type": "markdown",
   "metadata": {},
   "source": [
    "### Feature Engineering from Previous Assignment"
   ]
  },
  {
   "cell_type": "code",
   "execution_count": 3,
   "metadata": {},
   "outputs": [],
   "source": [
    "#Clean Up Data\n",
    "#Create Variables\n",
    "def convert_number(number):\n",
    "    try:\n",
    "        converted = float(number.replace(',', ''))\n",
    "    except:\n",
    "        converted = number\n",
    "    \n",
    "    return converted\n",
    "    \n",
    "def convert_category(number):\n",
    "    value = convert_number(number)\n",
    "    \n",
    "    if value>0:\n",
    "        return 1\n",
    "    else:\n",
    "        return 0\n"
   ]
  },
  {
   "cell_type": "code",
   "execution_count": 50,
   "metadata": {},
   "outputs": [],
   "source": [
    "data.fillna(0)\n",
    "data['Population'] = data['Population'].apply(lambda x: convert_number(x))\n",
    "data['Population Squared'] = data['Population'].apply(lambda x: math.pow(convert_number(x),2))\n",
    "data['Murder'] = data['Murder'].apply(lambda x: convert_category(x))\n",
    "data['Robbery'] = data['Robbery'].apply(lambda x: convert_category(x))\n",
    "data['Property Crime'] = data['Property Crime'].apply(lambda x: convert_category(x))\n",
    "data['Violent crime'] = data['Violent crime'].apply(lambda x: convert_category(x))\n",
    "data['Arson'] = data['Arson'].apply(lambda x: convert_category(x))\n",
    "data['Motor vehicle theft'] = data['Motor vehicle theft'].apply(lambda x: convert_category(x))\n",
    "data['Larceny-theft'] = data['Larceny-theft'].apply(lambda x: convert_category(x))\n",
    "data['Burglary'] = data['Burglary'].apply(lambda x: convert_category(x))\n",
    "data['Aggravated Assault'] = data['Aggravated Assault'].apply(lambda x: convert_category(x))\n",
    "data['Rape'] = data['Rape'].apply(lambda x: convert_category(x))\n"
   ]
  },
  {
   "cell_type": "code",
   "execution_count": 51,
   "metadata": {},
   "outputs": [],
   "source": [
    "#Winsorize the values to deal with outliers\n",
    "data['Population'] = scipy.stats.mstats.winsorize(data['Population'], limits=[0,0.03])"
   ]
  },
  {
   "cell_type": "code",
   "execution_count": 53,
   "metadata": {},
   "outputs": [],
   "source": [
    "#Since updated the population, need to also update population squared\n",
    "data['Population Squared'] = data['Population'].apply(lambda x: math.pow(convert_number(x),2))"
   ]
  },
  {
   "cell_type": "code",
   "execution_count": 17,
   "metadata": {},
   "outputs": [],
   "source": [
    "features=data[['Population','Population Squared','Murder','Robbery']]"
   ]
  },
  {
   "cell_type": "code",
   "execution_count": 54,
   "metadata": {},
   "outputs": [
    {
     "name": "stdout",
     "output_type": "stream",
     "text": [
      "\n",
      "Coefficients: \n",
      " [[  1.87666416e-06  -2.18974676e-11  -7.35845021e-03   3.17457416e-02]]\n",
      "\n",
      "Intercept: \n",
      " [ 0.94926488]\n",
      "\n",
      "R-squared:\n",
      "0.0317300953844\n"
     ]
    }
   ],
   "source": [
    "# Instantiate and fit our model.\n",
    "regr = linear_model.LinearRegression()\n",
    "Y = data['Property Crime'].values.reshape(-1, 1)\n",
    "X = data[['Population','Population Squared','Murder','Robbery']]\n",
    "regr.fit(X, Y)\n",
    "\n",
    "# Inspect the results.\n",
    "print('\\nCoefficients: \\n', regr.coef_)\n",
    "print('\\nIntercept: \\n', regr.intercept_)\n",
    "print('\\nR-squared:')\n",
    "print(regr.score(X, Y))"
   ]
  },
  {
   "cell_type": "markdown",
   "metadata": {},
   "source": [
    "The R Squared value was not very good. First thing need to do is deal with the New York Outlier. "
   ]
  },
  {
   "cell_type": "markdown",
   "metadata": {},
   "source": [
    "### Version 2"
   ]
  },
  {
   "cell_type": "markdown",
   "metadata": {},
   "source": [
    "This version, will deal with the NY outliers And didnt do the 1 or 0 value."
   ]
  },
  {
   "cell_type": "code",
   "execution_count": 87,
   "metadata": {},
   "outputs": [],
   "source": [
    "#Bring in Data\n",
    "data = pd.read_csv('ny_offenses.csv')"
   ]
  },
  {
   "cell_type": "code",
   "execution_count": 88,
   "metadata": {},
   "outputs": [],
   "source": [
    "data.fillna(0)\n",
    "data['Population'] = data['Population'].apply(lambda x: convert_number(x))\n",
    "data['Population Squared'] = data['Population'].apply(lambda x: math.pow(convert_number(x),2))\n",
    "data['Murder'] = data['Murder'].apply(lambda x: convert_number(x))\n",
    "data['Robbery'] = data['Robbery'].apply(lambda x: convert_number(x))\n",
    "data['Property Crime'] = data['Property Crime'].apply(lambda x: convert_number(x))\n",
    "data['Violent crime'] = data['Violent crime'].apply(lambda x: convert_number(x))\n",
    "data['Arson'] = data['Arson'].apply(lambda x: convert_number(x))\n",
    "data['Motor vehicle theft'] = data['Motor vehicle theft'].apply(lambda x: convert_number(x))\n",
    "data['Larceny-theft'] = data['Larceny-theft'].apply(lambda x: convert_number(x))\n",
    "data['Burglary'] = data['Burglary'].apply(lambda x: convert_number(x))\n",
    "data['Aggravated Assault'] = data['Aggravated Assault'].apply(lambda x: convert_number(x))\n",
    "data['Rape'] = data['Rape'].apply(lambda x: convert_number(x))"
   ]
  },
  {
   "cell_type": "code",
   "execution_count": 91,
   "metadata": {},
   "outputs": [
    {
     "data": {
      "text/plain": [
       "348"
      ]
     },
     "execution_count": 91,
     "metadata": {},
     "output_type": "execute_result"
    }
   ],
   "source": [
    "#Total Count\n",
    "data.count()['City']"
   ]
  },
  {
   "cell_type": "code",
   "execution_count": 98,
   "metadata": {},
   "outputs": [],
   "source": [
    "#Limit the number of cities to deal with outliers\n",
    "data = data[data['Population']<120000]"
   ]
  },
  {
   "cell_type": "code",
   "execution_count": 99,
   "metadata": {},
   "outputs": [],
   "source": [
    "#Winsorize the values to deal with outliers\n",
    "data['Population'] = scipy.stats.mstats.winsorize(data['Population'], limits=[0,0.03])\n",
    "data['Murder'] = scipy.stats.mstats.winsorize(data['Murder'], limits=[0,0.03])\n",
    "data['Robbery'] = scipy.stats.mstats.winsorize(data['Robbery'], limits=[0,0.03])"
   ]
  },
  {
   "cell_type": "code",
   "execution_count": 100,
   "metadata": {},
   "outputs": [],
   "source": [
    "#Since updated the population, need to also update population squared\n",
    "data['Population Squared'] = data['Population'].apply(lambda x: math.pow(convert_number(x),2))"
   ]
  },
  {
   "cell_type": "code",
   "execution_count": 101,
   "metadata": {},
   "outputs": [
    {
     "name": "stdout",
     "output_type": "stream",
     "text": [
      "\n",
      "Coefficients: \n",
      " [[  6.05874850e-03   2.20871716e-07  -8.91221746e+00   1.32586679e+01]]\n",
      "\n",
      "Intercept: \n",
      " [ 43.63883763]\n",
      "\n",
      "R-squared:\n",
      "0.807982260778\n"
     ]
    }
   ],
   "source": [
    "# Instantiate and fit our model.\n",
    "regr = linear_model.LinearRegression()\n",
    "Y = data['Property Crime'].values.reshape(-1, 1)\n",
    "X = data[['Population','Population Squared','Murder','Robbery']]\n",
    "regr.fit(X, Y)\n",
    "\n",
    "# Inspect the results.\n",
    "print('\\nCoefficients: \\n', regr.coef_)\n",
    "print('\\nIntercept: \\n', regr.intercept_)\n",
    "print('\\nR-squared:')\n",
    "print(regr.score(X, Y))"
   ]
  },
  {
   "cell_type": "markdown",
   "metadata": {},
   "source": [
    "### Version 3\n",
    "\n",
    "Feature Engineering"
   ]
  },
  {
   "cell_type": "code",
   "execution_count": 103,
   "metadata": {},
   "outputs": [],
   "source": [
    "outcome = data['Property Crime']"
   ]
  },
  {
   "cell_type": "code",
   "execution_count": 104,
   "metadata": {},
   "outputs": [],
   "source": [
    "features=data[['Population','Violent crime','Murder','Robbery','Burglary','Rape',\n",
    "              'Larceny-theft','Motor vehicle theft','Arson','Aggravated Assault']]"
   ]
  },
  {
   "cell_type": "markdown",
   "metadata": {},
   "source": [
    "#### Linear Relationship"
   ]
  },
  {
   "cell_type": "markdown",
   "metadata": {},
   "source": [
    "All Except Murder is linear."
   ]
  },
  {
   "cell_type": "code",
   "execution_count": 111,
   "metadata": {},
   "outputs": [
    {
     "data": {
      "text/plain": [
       "<matplotlib.text.Text at 0x116fd1240>"
      ]
     },
     "execution_count": 111,
     "metadata": {},
     "output_type": "execute_result"
    },
    {
     "data": {
      "image/png": "[encoded data removed]",
      "text/plain": [
       "<matplotlib.figure.Figure at 0x1168a56a0>"
      ]
     },
     "metadata": {},
     "output_type": "display_data"
    }
   ],
   "source": [
    "plt.figure(figsize=(16,16))\n",
    "\n",
    "#Population\n",
    "plt.subplot(4, 3, 1)\n",
    "plt.scatter(outcome, data['Population'])\n",
    "plt.title('Population')\n",
    "\n",
    "#Violent crime\n",
    "plt.subplot(4, 3, 2)\n",
    "plt.scatter(outcome, data['Violent crime'])\n",
    "plt.title('Violent Crime')\n",
    "\n",
    "#Murder\n",
    "plt.subplot(4, 3, 3)\n",
    "plt.scatter(outcome, data['Murder'])\n",
    "plt.title('Murder')\n",
    "\n",
    "#Robbery\n",
    "plt.subplot(4, 3, 4)\n",
    "plt.scatter(outcome, data['Robbery'])\n",
    "plt.title('Robbery')\n",
    "\n",
    "#Larceny-Theft\n",
    "plt.subplot(4, 3, 5)\n",
    "plt.scatter(outcome, data['Larceny-theft'])\n",
    "plt.title('Larceny-theft')\n",
    "\n",
    "#Burglary\n",
    "plt.subplot(4, 3, 6)\n",
    "plt.scatter(outcome, data['Burglary'])\n",
    "plt.title('Burglary')\n",
    "\n",
    "#Rape\n",
    "plt.subplot(4, 3, 7)\n",
    "plt.scatter(outcome, data['Rape'])\n",
    "plt.title('Rape')\n",
    "\n",
    "#Motor vehicle theft\n",
    "plt.subplot(4, 3, 8)\n",
    "plt.scatter(outcome, data['Motor vehicle theft'])\n",
    "plt.title('Motor vehicle theft')\n",
    "\n",
    "#Aggravated Assault\n",
    "plt.subplot(4, 3, 9)\n",
    "plt.scatter(outcome, data['Aggravated Assault'])\n",
    "plt.title('Aggravated Assault')"
   ]
  },
  {
   "cell_type": "code",
   "execution_count": 124,
   "metadata": {},
   "outputs": [
    {
     "data": {
      "text/plain": [
       "<matplotlib.axes._subplots.AxesSubplot at 0x117149dd8>"
      ]
     },
     "execution_count": 124,
     "metadata": {},
     "output_type": "execute_result"
    },
    {
     "data": {
      "image/png": "[encoded data removed]",
      "text/plain": [
       "<matplotlib.figure.Figure at 0x1170ae7f0>"
      ]
     },
     "metadata": {},
     "output_type": "display_data"
    }
   ],
   "source": [
    "sns.heatmap(data.corr())"
   ]
  },
  {
   "cell_type": "markdown",
   "metadata": {},
   "source": [
    "#### Multivariate Normality"
   ]
  },
  {
   "cell_type": "code",
   "execution_count": 122,
   "metadata": {},
   "outputs": [
    {
     "data": {
      "text/html": [
       "<div>\n",
       "<style>\n",
       "    .dataframe thead tr:only-child th {\n",
       "        text-align: right;\n",
       "    }\n",
       "\n",
       "    .dataframe thead th {\n",
       "        text-align: left;\n",
       "    }\n",
       "\n",
       "    .dataframe tbody tr th {\n",
       "        vertical-align: top;\n",
       "    }\n",
       "</style>\n",
       "<table border=\"1\" class=\"dataframe\">\n",
       "  <thead>\n",
       "    <tr style=\"text-align: right;\">\n",
       "      <th></th>\n",
       "      <th>City</th>\n",
       "      <th>Population</th>\n",
       "      <th>Violent crime</th>\n",
       "      <th>Murder</th>\n",
       "      <th>Rape</th>\n",
       "      <th>Robbery</th>\n",
       "      <th>Aggravated Assault</th>\n",
       "      <th>Property Crime</th>\n",
       "      <th>Burglary</th>\n",
       "      <th>Larceny-theft</th>\n",
       "      <th>Motor vehicle theft</th>\n",
       "      <th>Arson</th>\n",
       "      <th>Population Squared</th>\n",
       "    </tr>\n",
       "  </thead>\n",
       "  <tbody>\n",
       "    <tr>\n",
       "      <th>0</th>\n",
       "      <td>Adams Village</td>\n",
       "      <td>1861.000</td>\n",
       "      <td>0.000</td>\n",
       "      <td>0</td>\n",
       "      <td>0.000</td>\n",
       "      <td>0.000</td>\n",
       "      <td>0.000</td>\n",
       "      <td>12.000</td>\n",
       "      <td>2.000</td>\n",
       "      <td>10.000</td>\n",
       "      <td>0.000</td>\n",
       "      <td>0.000</td>\n",
       "      <td>3463321.000</td>\n",
       "    </tr>\n",
       "    <tr>\n",
       "      <th>1</th>\n",
       "      <td>Addison Town and Village</td>\n",
       "      <td>2577.000</td>\n",
       "      <td>3.000</td>\n",
       "      <td>0</td>\n",
       "      <td>0.000</td>\n",
       "      <td>0.000</td>\n",
       "      <td>3.000</td>\n",
       "      <td>24.000</td>\n",
       "      <td>3.000</td>\n",
       "      <td>20.000</td>\n",
       "      <td>1.000</td>\n",
       "      <td>0.000</td>\n",
       "      <td>6640929.000</td>\n",
       "    </tr>\n",
       "    <tr>\n",
       "      <th>2</th>\n",
       "      <td>Akron Village</td>\n",
       "      <td>2846.000</td>\n",
       "      <td>3.000</td>\n",
       "      <td>0</td>\n",
       "      <td>0.000</td>\n",
       "      <td>0.000</td>\n",
       "      <td>3.000</td>\n",
       "      <td>16.000</td>\n",
       "      <td>1.000</td>\n",
       "      <td>15.000</td>\n",
       "      <td>0.000</td>\n",
       "      <td>0.000</td>\n",
       "      <td>8099716.000</td>\n",
       "    </tr>\n",
       "    <tr>\n",
       "      <th>3</th>\n",
       "      <td>Albany</td>\n",
       "      <td>61686.000</td>\n",
       "      <td>791.000</td>\n",
       "      <td>2</td>\n",
       "      <td>30.000</td>\n",
       "      <td>81.000</td>\n",
       "      <td>526.000</td>\n",
       "      <td>4090.000</td>\n",
       "      <td>705.000</td>\n",
       "      <td>3243.000</td>\n",
       "      <td>142.000</td>\n",
       "      <td>nan</td>\n",
       "      <td>3805162596.000</td>\n",
       "    </tr>\n",
       "    <tr>\n",
       "      <th>4</th>\n",
       "      <td>Albion Village</td>\n",
       "      <td>6388.000</td>\n",
       "      <td>23.000</td>\n",
       "      <td>0</td>\n",
       "      <td>3.000</td>\n",
       "      <td>4.000</td>\n",
       "      <td>16.000</td>\n",
       "      <td>223.000</td>\n",
       "      <td>53.000</td>\n",
       "      <td>165.000</td>\n",
       "      <td>5.000</td>\n",
       "      <td>nan</td>\n",
       "      <td>40806544.000</td>\n",
       "    </tr>\n",
       "  </tbody>\n",
       "</table>\n",
       "</div>"
      ],
      "text/plain": [
       "                       City  Population  Violent crime  Murder   Rape  \\\n",
       "0             Adams Village    1861.000          0.000       0  0.000   \n",
       "1  Addison Town and Village    2577.000          3.000       0  0.000   \n",
       "2             Akron Village    2846.000          3.000       0  0.000   \n",
       "3                    Albany   61686.000        791.000       2 30.000   \n",
       "4            Albion Village    6388.000         23.000       0  3.000   \n",
       "\n",
       "   Robbery  Aggravated Assault  Property Crime  Burglary  Larceny-theft  \\\n",
       "0    0.000               0.000          12.000     2.000         10.000   \n",
       "1    0.000               3.000          24.000     3.000         20.000   \n",
       "2    0.000               3.000          16.000     1.000         15.000   \n",
       "3   81.000             526.000        4090.000   705.000       3243.000   \n",
       "4    4.000              16.000         223.000    53.000        165.000   \n",
       "\n",
       "   Motor vehicle theft  Arson  Population Squared  \n",
       "0                0.000  0.000         3463321.000  \n",
       "1                1.000  0.000         6640929.000  \n",
       "2                0.000  0.000         8099716.000  \n",
       "3              142.000    nan      3805162596.000  \n",
       "4                5.000    nan        40806544.000  "
      ]
     },
     "execution_count": 122,
     "metadata": {},
     "output_type": "execute_result"
    }
   ],
   "source": [
    "data.fillna(0)\n",
    "data.head()"
   ]
  },
  {
   "cell_type": "code",
   "execution_count": 123,
   "metadata": {},
   "outputs": [
    {
     "name": "stdout",
     "output_type": "stream",
     "text": [
      "\n",
      "Coefficients: \n",
      " [[  8.95678462e-17   4.81543491e-16  -2.63667784e-15   1.00000000e+00\n",
      "    1.00000000e+00   1.00000000e+00  -1.34675797e-15]]\n",
      "\n",
      "Intercept: \n",
      " [ -1.19371180e-12]\n",
      "\n",
      "R-squared:\n",
      "1.0\n"
     ]
    }
   ],
   "source": [
    "# Instantiate and fit our model.\n",
    "regr = linear_model.LinearRegression()\n",
    "\n",
    "#Need to split data because R sqaured is 1, which means the data is overfitting.\n",
    "\n",
    "\n",
    "Y = data['Property Crime'].values.reshape(-1, 1)\n",
    "X = data[['Population','Violent crime','Robbery','Burglary',\n",
    "              'Larceny-theft','Motor vehicle theft','Aggravated Assault']]\n",
    "regr.fit(X, Y)\n",
    "\n",
    "# Inspect the results.\n",
    "print('\\nCoefficients: \\n', regr.coef_)\n",
    "print('\\nIntercept: \\n', regr.intercept_)\n",
    "print('\\nR-squared:')\n",
    "print(regr.score(X, Y))"
   ]
  },
  {
   "cell_type": "markdown",
   "metadata": {},
   "source": [
    "R-Squared is 1, which means that the data is overfitted."
   ]
  },
  {
   "cell_type": "code",
   "execution_count": 126,
   "metadata": {},
   "outputs": [
    {
     "data": {
      "image/png": "[encoded data removed]",
      "text/plain": [
       "<matplotlib.figure.Figure at 0x117586e80>"
      ]
     },
     "metadata": {},
     "output_type": "display_data"
    }
   ],
   "source": [
    "#Extract predicted values.\n",
    "predicted = regr.predict(X).ravel()\n",
    "actual = data['Property Crime']\n",
    "\n",
    "# Calculate the error, also called the residual.\n",
    "residual = actual - predicted\n",
    "\n",
    "plt.hist(residual)\n",
    "plt.title('Residual counts')\n",
    "plt.xlabel('Residual')\n",
    "plt.ylabel('Count')\n",
    "plt.show()"
   ]
  },
  {
   "cell_type": "markdown",
   "metadata": {},
   "source": [
    "The residuals are not normal. So there is a couple problems. The data is overfitted and the residuals are not normal."
   ]
  },
  {
   "cell_type": "markdown",
   "metadata": {},
   "source": [
    "### Fixing Issues"
   ]
  },
  {
   "cell_type": "markdown",
   "metadata": {},
   "source": [
    "To deal with the overfitting will try various approaches:\n",
    "\n",
    "1. Use Cross Validation\n",
    "2. Remove features\n"
   ]
  },
  {
   "cell_type": "code",
   "execution_count": 130,
   "metadata": {},
   "outputs": [],
   "source": [
    "Y = data['Property Crime'].values.reshape(-1, 1)\n",
    "X = data[['Population','Violent crime','Robbery','Burglary',\n",
    "              'Motor vehicle theft','Aggravated Assault']]"
   ]
  },
  {
   "cell_type": "code",
   "execution_count": 131,
   "metadata": {},
   "outputs": [
    {
     "name": "stdout",
     "output_type": "stream",
     "text": [
      "[ 0.85979983  0.88107967  0.85552303  0.87549921  0.89715746  0.90942016\n",
      "  0.81998095  0.8396319   0.91814119  0.9022651 ]\n"
     ]
    }
   ],
   "source": [
    "from sklearn.model_selection import cross_val_score\n",
    "\n",
    "regr = linear_model.LinearRegression()\n",
    "\n",
    "print(cross_val_score(regr, X, Y ,cv=10))\n"
   ]
  },
  {
   "cell_type": "code",
   "execution_count": 136,
   "metadata": {},
   "outputs": [],
   "source": [
    "from sklearn.model_selection import cross_val_predict\n",
    "\n",
    "predicted = cross_val_predict(regr, X, Y).ravel()"
   ]
  },
  {
   "cell_type": "code",
   "execution_count": 137,
   "metadata": {},
   "outputs": [
    {
     "data": {
      "image/png": "[encoded data removed]",
      "text/plain": [
       "<matplotlib.figure.Figure at 0x117725c18>"
      ]
     },
     "metadata": {},
     "output_type": "display_data"
    }
   ],
   "source": [
    "#Extract predicted values.\n",
    "\n",
    "actual = data['Property Crime']\n",
    "\n",
    "# Calculate the error, also called the residual.\n",
    "residual = actual - predicted\n",
    "\n",
    "\n",
    "plt.hist(residual)\n",
    "plt.title('Residual counts')\n",
    "plt.xlabel('Residual')\n",
    "plt.ylabel('Count')\n",
    "plt.show()"
   ]
  },
  {
   "cell_type": "code",
   "execution_count": null,
   "metadata": {},
   "outputs": [],
   "source": []
  }
 ],
 "metadata": {
  "kernelspec": {
   "display_name": "Python 3",
   "language": "python",
   "name": "python3"
  },
  "language_info": {
   "codemirror_mode": {
    "name": "ipython",
    "version": 3
   },
   "file_extension": ".py",
   "mimetype": "text/x-python",
   "name": "python",
   "nbconvert_exporter": "python",
   "pygments_lexer": "ipython3",
   "version": "3.6.1"
  }
 },
 "nbformat": 4,
 "nbformat_minor": 2
}
