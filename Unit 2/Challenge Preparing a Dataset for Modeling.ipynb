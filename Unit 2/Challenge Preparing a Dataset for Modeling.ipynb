{
 "cells": [
  {
   "cell_type": "markdown",
   "metadata": {},
   "source": [
    "# Challenge: Preparing a dataset for modeling\n",
    "\n",
    "1. Using a dataset of your choice, select an outcome variable and then pick four or five other variables (one to two categorical, three to four continuous) to act as the basis for features. Explore the variables using the univariate and bivariate methods you've learned so far.\n",
    "\n",
    "2. Next, based on what you learned via your data exploration, create ten new features. Explain the reasoning behind each one.\n",
    "\n",
    "3. Finally, use filtering methods to select the five best features and justify your choices."
   ]
  },
  {
   "cell_type": "markdown",
   "metadata": {},
   "source": [
    "<img src='logo.png'>"
   ]
  },
  {
   "cell_type": "markdown",
   "metadata": {},
   "source": [
    "The data contains complete loan data for all loans issued through 2007-2015."
   ]
  },
  {
   "cell_type": "code",
   "execution_count": 80,
   "metadata": {
    "collapsed": true
   },
   "outputs": [],
   "source": [
    "#Imports\n",
    "import pandas as pd\n",
    "import numpy as np\n",
    "\n",
    "import matplotlib.pyplot as plt\n",
    "import seaborn as sns\n",
    "\n",
    "from sklearn.feature_selection import SelectKBest\n",
    "from sklearn.feature_selection import chi2, f_classif\n",
    "\n",
    "sns.set(style=\"whitegrid\")\n",
    "%matplotlib inline"
   ]
  },
  {
   "cell_type": "code",
   "execution_count": 4,
   "metadata": {
    "collapsed": true
   },
   "outputs": [],
   "source": [
    "#Bring In Data\n",
    "data = pd.read_csv('loan.csv', low_memory=False)"
   ]
  },
  {
   "cell_type": "code",
   "execution_count": 5,
   "metadata": {},
   "outputs": [
    {
     "data": {
      "text/html": [
       "<div>\n",
       "<style>\n",
       "    .dataframe thead tr:only-child th {\n",
       "        text-align: right;\n",
       "    }\n",
       "\n",
       "    .dataframe thead th {\n",
       "        text-align: left;\n",
       "    }\n",
       "\n",
       "    .dataframe tbody tr th {\n",
       "        vertical-align: top;\n",
       "    }\n",
       "</style>\n",
       "<table border=\"1\" class=\"dataframe\">\n",
       "  <thead>\n",
       "    <tr style=\"text-align: right;\">\n",
       "      <th></th>\n",
       "      <th>id</th>\n",
       "      <th>member_id</th>\n",
       "      <th>loan_amnt</th>\n",
       "      <th>funded_amnt</th>\n",
       "      <th>funded_amnt_inv</th>\n",
       "      <th>term</th>\n",
       "      <th>int_rate</th>\n",
       "      <th>installment</th>\n",
       "      <th>grade</th>\n",
       "      <th>sub_grade</th>\n",
       "      <th>...</th>\n",
       "      <th>total_bal_il</th>\n",
       "      <th>il_util</th>\n",
       "      <th>open_rv_12m</th>\n",
       "      <th>open_rv_24m</th>\n",
       "      <th>max_bal_bc</th>\n",
       "      <th>all_util</th>\n",
       "      <th>total_rev_hi_lim</th>\n",
       "      <th>inq_fi</th>\n",
       "      <th>total_cu_tl</th>\n",
       "      <th>inq_last_12m</th>\n",
       "    </tr>\n",
       "  </thead>\n",
       "  <tbody>\n",
       "    <tr>\n",
       "      <th>0</th>\n",
       "      <td>1077501</td>\n",
       "      <td>1296599</td>\n",
       "      <td>5000.0</td>\n",
       "      <td>5000.0</td>\n",
       "      <td>4975.0</td>\n",
       "      <td>36 months</td>\n",
       "      <td>10.65</td>\n",
       "      <td>162.87</td>\n",
       "      <td>B</td>\n",
       "      <td>B2</td>\n",
       "      <td>...</td>\n",
       "      <td>NaN</td>\n",
       "      <td>NaN</td>\n",
       "      <td>NaN</td>\n",
       "      <td>NaN</td>\n",
       "      <td>NaN</td>\n",
       "      <td>NaN</td>\n",
       "      <td>NaN</td>\n",
       "      <td>NaN</td>\n",
       "      <td>NaN</td>\n",
       "      <td>NaN</td>\n",
       "    </tr>\n",
       "    <tr>\n",
       "      <th>1</th>\n",
       "      <td>1077430</td>\n",
       "      <td>1314167</td>\n",
       "      <td>2500.0</td>\n",
       "      <td>2500.0</td>\n",
       "      <td>2500.0</td>\n",
       "      <td>60 months</td>\n",
       "      <td>15.27</td>\n",
       "      <td>59.83</td>\n",
       "      <td>C</td>\n",
       "      <td>C4</td>\n",
       "      <td>...</td>\n",
       "      <td>NaN</td>\n",
       "      <td>NaN</td>\n",
       "      <td>NaN</td>\n",
       "      <td>NaN</td>\n",
       "      <td>NaN</td>\n",
       "      <td>NaN</td>\n",
       "      <td>NaN</td>\n",
       "      <td>NaN</td>\n",
       "      <td>NaN</td>\n",
       "      <td>NaN</td>\n",
       "    </tr>\n",
       "    <tr>\n",
       "      <th>2</th>\n",
       "      <td>1077175</td>\n",
       "      <td>1313524</td>\n",
       "      <td>2400.0</td>\n",
       "      <td>2400.0</td>\n",
       "      <td>2400.0</td>\n",
       "      <td>36 months</td>\n",
       "      <td>15.96</td>\n",
       "      <td>84.33</td>\n",
       "      <td>C</td>\n",
       "      <td>C5</td>\n",
       "      <td>...</td>\n",
       "      <td>NaN</td>\n",
       "      <td>NaN</td>\n",
       "      <td>NaN</td>\n",
       "      <td>NaN</td>\n",
       "      <td>NaN</td>\n",
       "      <td>NaN</td>\n",
       "      <td>NaN</td>\n",
       "      <td>NaN</td>\n",
       "      <td>NaN</td>\n",
       "      <td>NaN</td>\n",
       "    </tr>\n",
       "    <tr>\n",
       "      <th>3</th>\n",
       "      <td>1076863</td>\n",
       "      <td>1277178</td>\n",
       "      <td>10000.0</td>\n",
       "      <td>10000.0</td>\n",
       "      <td>10000.0</td>\n",
       "      <td>36 months</td>\n",
       "      <td>13.49</td>\n",
       "      <td>339.31</td>\n",
       "      <td>C</td>\n",
       "      <td>C1</td>\n",
       "      <td>...</td>\n",
       "      <td>NaN</td>\n",
       "      <td>NaN</td>\n",
       "      <td>NaN</td>\n",
       "      <td>NaN</td>\n",
       "      <td>NaN</td>\n",
       "      <td>NaN</td>\n",
       "      <td>NaN</td>\n",
       "      <td>NaN</td>\n",
       "      <td>NaN</td>\n",
       "      <td>NaN</td>\n",
       "    </tr>\n",
       "    <tr>\n",
       "      <th>4</th>\n",
       "      <td>1075358</td>\n",
       "      <td>1311748</td>\n",
       "      <td>3000.0</td>\n",
       "      <td>3000.0</td>\n",
       "      <td>3000.0</td>\n",
       "      <td>60 months</td>\n",
       "      <td>12.69</td>\n",
       "      <td>67.79</td>\n",
       "      <td>B</td>\n",
       "      <td>B5</td>\n",
       "      <td>...</td>\n",
       "      <td>NaN</td>\n",
       "      <td>NaN</td>\n",
       "      <td>NaN</td>\n",
       "      <td>NaN</td>\n",
       "      <td>NaN</td>\n",
       "      <td>NaN</td>\n",
       "      <td>NaN</td>\n",
       "      <td>NaN</td>\n",
       "      <td>NaN</td>\n",
       "      <td>NaN</td>\n",
       "    </tr>\n",
       "  </tbody>\n",
       "</table>\n",
       "<p>5 rows × 74 columns</p>\n",
       "</div>"
      ],
      "text/plain": [
       "        id  member_id  loan_amnt  funded_amnt  funded_amnt_inv        term  \\\n",
       "0  1077501    1296599     5000.0       5000.0           4975.0   36 months   \n",
       "1  1077430    1314167     2500.0       2500.0           2500.0   60 months   \n",
       "2  1077175    1313524     2400.0       2400.0           2400.0   36 months   \n",
       "3  1076863    1277178    10000.0      10000.0          10000.0   36 months   \n",
       "4  1075358    1311748     3000.0       3000.0           3000.0   60 months   \n",
       "\n",
       "   int_rate  installment grade sub_grade     ...      total_bal_il il_util  \\\n",
       "0     10.65       162.87     B        B2     ...               NaN     NaN   \n",
       "1     15.27        59.83     C        C4     ...               NaN     NaN   \n",
       "2     15.96        84.33     C        C5     ...               NaN     NaN   \n",
       "3     13.49       339.31     C        C1     ...               NaN     NaN   \n",
       "4     12.69        67.79     B        B5     ...               NaN     NaN   \n",
       "\n",
       "  open_rv_12m  open_rv_24m max_bal_bc all_util total_rev_hi_lim inq_fi  \\\n",
       "0         NaN          NaN        NaN      NaN              NaN    NaN   \n",
       "1         NaN          NaN        NaN      NaN              NaN    NaN   \n",
       "2         NaN          NaN        NaN      NaN              NaN    NaN   \n",
       "3         NaN          NaN        NaN      NaN              NaN    NaN   \n",
       "4         NaN          NaN        NaN      NaN              NaN    NaN   \n",
       "\n",
       "  total_cu_tl inq_last_12m  \n",
       "0         NaN          NaN  \n",
       "1         NaN          NaN  \n",
       "2         NaN          NaN  \n",
       "3         NaN          NaN  \n",
       "4         NaN          NaN  \n",
       "\n",
       "[5 rows x 74 columns]"
      ]
     },
     "execution_count": 5,
     "metadata": {},
     "output_type": "execute_result"
    }
   ],
   "source": [
    "data.head()"
   ]
  },
  {
   "cell_type": "markdown",
   "metadata": {},
   "source": [
    "### 1. Using a dataset of your choice, select an outcome variable and then pick four or five other variables (one to two categorical, three to four continuous) to act as the basis for features. Explore the variables using the univariate and bivariate methods you've learned so far."
   ]
  },
  {
   "cell_type": "markdown",
   "metadata": {},
   "source": [
    "Assumptions\n",
    "\n",
    "1. Based on gut, Im assuming that the loan amount, interest rate, revolving balance, installment, annual income,sub grade, purpose and home ownership will be interesting features. Will use these as my basis for features\n",
    "\n",
    "2. The sub grade, will already account for a lot of the features, so there is correlation."
   ]
  },
  {
   "cell_type": "markdown",
   "metadata": {},
   "source": [
    "How many variables?"
   ]
  },
  {
   "cell_type": "code",
   "execution_count": 8,
   "metadata": {},
   "outputs": [
    {
     "data": {
      "text/plain": [
       "74"
      ]
     },
     "execution_count": 8,
     "metadata": {},
     "output_type": "execute_result"
    }
   ],
   "source": [
    "len(data.columns)"
   ]
  },
  {
   "cell_type": "markdown",
   "metadata": {},
   "source": [
    "How many datapoints?"
   ]
  },
  {
   "cell_type": "code",
   "execution_count": 9,
   "metadata": {},
   "outputs": [
    {
     "name": "stdout",
     "output_type": "stream",
     "text": [
      "<class 'pandas.core.frame.DataFrame'>\n",
      "RangeIndex: 887379 entries, 0 to 887378\n",
      "Data columns (total 74 columns):\n",
      "id                             887379 non-null int64\n",
      "member_id                      887379 non-null int64\n",
      "loan_amnt                      887379 non-null float64\n",
      "funded_amnt                    887379 non-null float64\n",
      "funded_amnt_inv                887379 non-null float64\n",
      "term                           887379 non-null object\n",
      "int_rate                       887379 non-null float64\n",
      "installment                    887379 non-null float64\n",
      "grade                          887379 non-null object\n",
      "sub_grade                      887379 non-null object\n",
      "emp_title                      835922 non-null object\n",
      "emp_length                     887379 non-null object\n",
      "home_ownership                 887379 non-null object\n",
      "annual_inc                     887375 non-null float64\n",
      "verification_status            887379 non-null object\n",
      "issue_d                        887379 non-null object\n",
      "loan_status                    887379 non-null object\n",
      "pymnt_plan                     887379 non-null object\n",
      "url                            887379 non-null object\n",
      "desc                           126029 non-null object\n",
      "purpose                        887379 non-null object\n",
      "title                          887228 non-null object\n",
      "zip_code                       887379 non-null object\n",
      "addr_state                     887379 non-null object\n",
      "dti                            887379 non-null float64\n",
      "delinq_2yrs                    887350 non-null float64\n",
      "earliest_cr_line               887350 non-null object\n",
      "inq_last_6mths                 887350 non-null float64\n",
      "mths_since_last_delinq         433067 non-null float64\n",
      "mths_since_last_record         137053 non-null float64\n",
      "open_acc                       887350 non-null float64\n",
      "pub_rec                        887350 non-null float64\n",
      "revol_bal                      887379 non-null float64\n",
      "revol_util                     886877 non-null float64\n",
      "total_acc                      887350 non-null float64\n",
      "initial_list_status            887379 non-null object\n",
      "out_prncp                      887379 non-null float64\n",
      "out_prncp_inv                  887379 non-null float64\n",
      "total_pymnt                    887379 non-null float64\n",
      "total_pymnt_inv                887379 non-null float64\n",
      "total_rec_prncp                887379 non-null float64\n",
      "total_rec_int                  887379 non-null float64\n",
      "total_rec_late_fee             887379 non-null float64\n",
      "recoveries                     887379 non-null float64\n",
      "collection_recovery_fee        887379 non-null float64\n",
      "last_pymnt_d                   869720 non-null object\n",
      "last_pymnt_amnt                887379 non-null float64\n",
      "next_pymnt_d                   634408 non-null object\n",
      "last_credit_pull_d             887326 non-null object\n",
      "collections_12_mths_ex_med     887234 non-null float64\n",
      "mths_since_last_major_derog    221703 non-null float64\n",
      "policy_code                    887379 non-null float64\n",
      "application_type               887379 non-null object\n",
      "annual_inc_joint               511 non-null float64\n",
      "dti_joint                      509 non-null float64\n",
      "verification_status_joint      511 non-null object\n",
      "acc_now_delinq                 887350 non-null float64\n",
      "tot_coll_amt                   817103 non-null float64\n",
      "tot_cur_bal                    817103 non-null float64\n",
      "open_acc_6m                    21372 non-null float64\n",
      "open_il_6m                     21372 non-null float64\n",
      "open_il_12m                    21372 non-null float64\n",
      "open_il_24m                    21372 non-null float64\n",
      "mths_since_rcnt_il             20810 non-null float64\n",
      "total_bal_il                   21372 non-null float64\n",
      "il_util                        18617 non-null float64\n",
      "open_rv_12m                    21372 non-null float64\n",
      "open_rv_24m                    21372 non-null float64\n",
      "max_bal_bc                     21372 non-null float64\n",
      "all_util                       21372 non-null float64\n",
      "total_rev_hi_lim               817103 non-null float64\n",
      "inq_fi                         21372 non-null float64\n",
      "total_cu_tl                    21372 non-null float64\n",
      "inq_last_12m                   21372 non-null float64\n",
      "dtypes: float64(49), int64(2), object(23)\n",
      "memory usage: 501.0+ MB\n"
     ]
    }
   ],
   "source": [
    "#This shows how many datapoints, how many nulls and the datatypes for each variable\n",
    "data.info()"
   ]
  },
  {
   "cell_type": "markdown",
   "metadata": {},
   "source": [
    "Since there are several columns with a lot of missing data. Im going to establish a threshold, and then remove all columns that do not meet this threshold."
   ]
  },
  {
   "cell_type": "code",
   "execution_count": 6,
   "metadata": {
    "collapsed": true
   },
   "outputs": [],
   "source": [
    "#Drop columns that dont meet the threshold\n",
    "#Need to look at the process why the data was missing. \n",
    "data = data.dropna(axis=1, thresh=887370)"
   ]
  },
  {
   "cell_type": "code",
   "execution_count": 7,
   "metadata": {},
   "outputs": [
    {
     "data": {
      "text/plain": [
       "36"
      ]
     },
     "execution_count": 7,
     "metadata": {},
     "output_type": "execute_result"
    }
   ],
   "source": [
    "#Number of attributes/vvariables that are reduced because of the dropping\n",
    "len(data.columns)"
   ]
  },
  {
   "cell_type": "code",
   "execution_count": 86,
   "metadata": {},
   "outputs": [
    {
     "name": "stderr",
     "output_type": "stream",
     "text": [
      "/Users/brandyn/anaconda/lib/python3.6/site-packages/pandas/core/generic.py:3549: SettingWithCopyWarning: \n",
      "A value is trying to be set on a copy of a slice from a DataFrame\n",
      "\n",
      "See the caveats in the documentation: http://pandas.pydata.org/pandas-docs/stable/indexing.html#indexing-view-versus-copy\n",
      "  self._update_inplace(new_data)\n"
     ]
    }
   ],
   "source": [
    "#Create basis called attributes\n",
    "attributes = data[['sub_grade','grade','home_ownership', 'loan_amnt','purpose','installment','int_rate', 'revol_bal','annual_inc']]\n",
    "\n",
    "#Need to impute value on annual income. \n",
    "attributes['annual_inc'].fillna(0, inplace=True)"
   ]
  },
  {
   "cell_type": "code",
   "execution_count": 53,
   "metadata": {},
   "outputs": [
    {
     "name": "stdout",
     "output_type": "stream",
     "text": [
      "<class 'pandas.core.frame.DataFrame'>\n",
      "RangeIndex: 887379 entries, 0 to 887378\n",
      "Data columns (total 9 columns):\n",
      "sub_grade         887379 non-null object\n",
      "grade             887379 non-null object\n",
      "home_ownership    887379 non-null object\n",
      "loan_amnt         887379 non-null float64\n",
      "purpose           887379 non-null object\n",
      "installment       887379 non-null float64\n",
      "int_rate          887379 non-null float64\n",
      "revol_bal         887379 non-null float64\n",
      "annual_inc        887379 non-null float64\n",
      "dtypes: float64(5), object(4)\n",
      "memory usage: 60.9+ MB\n"
     ]
    }
   ],
   "source": [
    "attributes.info()"
   ]
  },
  {
   "cell_type": "code",
   "execution_count": 54,
   "metadata": {
    "collapsed": true
   },
   "outputs": [],
   "source": [
    "#Outcome variable will be Default, will include charge off as default\n",
    "outcome = np.where((data['loan_status'].isin(['Default','Charged Off'])),1,0)"
   ]
  },
  {
   "cell_type": "code",
   "execution_count": 49,
   "metadata": {},
   "outputs": [
    {
     "data": {
      "text/plain": [
       "887379"
      ]
     },
     "execution_count": 49,
     "metadata": {},
     "output_type": "execute_result"
    }
   ],
   "source": [
    "len(outcome)"
   ]
  },
  {
   "cell_type": "markdown",
   "metadata": {},
   "source": [
    "#### Univariate Analysis"
   ]
  },
  {
   "cell_type": "code",
   "execution_count": 26,
   "metadata": {},
   "outputs": [
    {
     "name": "stdout",
     "output_type": "stream",
     "text": [
      "<class 'pandas.core.frame.DataFrame'>\n",
      "RangeIndex: 887379 entries, 0 to 887378\n",
      "Data columns (total 7 columns):\n",
      "sub_grade         887379 non-null object\n",
      "home_ownership    887379 non-null object\n",
      "loan_amnt         887379 non-null float64\n",
      "installment       887379 non-null float64\n",
      "int_rate          887379 non-null float64\n",
      "revol_bal         887379 non-null float64\n",
      "annual_inc        887375 non-null float64\n",
      "dtypes: float64(5), object(2)\n",
      "memory usage: 47.4+ MB\n"
     ]
    }
   ],
   "source": [
    "attributes.info()"
   ]
  },
  {
   "cell_type": "markdown",
   "metadata": {},
   "source": [
    "Continuous Variables:\n",
    "1. loan_amount\n",
    "2. installment\n",
    "3. int_rate\n",
    "4. revol_bal\n",
    "5. annual_inc\n",
    "\n",
    "Categorical Variables:\n",
    "1. home_ownership\n",
    "2. sub_grade\n",
    "3. Purpose\n",
    "4. Grade\n",
    "\n"
   ]
  },
  {
   "cell_type": "markdown",
   "metadata": {},
   "source": [
    "### Bivariate Analysis"
   ]
  },
  {
   "cell_type": "markdown",
   "metadata": {},
   "source": [
    "Continuous Variables"
   ]
  },
  {
   "cell_type": "code",
   "execution_count": 32,
   "metadata": {},
   "outputs": [
    {
     "data": {
      "text/plain": [
       "<matplotlib.axes._subplots.AxesSubplot at 0x13b52e278>"
      ]
     },
     "execution_count": 32,
     "metadata": {},
     "output_type": "execute_result"
    },
    {
     "data": {
      "image/png": "[encoded data removed]",
      "text/plain": [
       "<matplotlib.figure.Figure at 0x13ad1fcc0>"
      ]
     },
     "metadata": {},
     "output_type": "display_data"
    }
   ],
   "source": [
    "#Make a correlation matrix\n",
    "plt.figure(figsize=(16,8))\n",
    "datacorr = attributes.corr()\n",
    "sns.heatmap(datacorr)"
   ]
  },
  {
   "cell_type": "markdown",
   "metadata": {},
   "source": [
    "Note that the installment and loan amount is very correlated."
   ]
  },
  {
   "cell_type": "markdown",
   "metadata": {},
   "source": [
    "Continuous and Categorical Pair"
   ]
  },
  {
   "cell_type": "code",
   "execution_count": 59,
   "metadata": {},
   "outputs": [
    {
     "data": {
      "text/plain": [
       "<matplotlib.figure.Figure at 0x124008a58>"
      ]
     },
     "metadata": {},
     "output_type": "display_data"
    },
    {
     "data": {
      "image/png": "[encoded data removed]",
      "text/plain": [
       "<matplotlib.figure.Figure at 0x123cd9be0>"
      ]
     },
     "metadata": {},
     "output_type": "display_data"
    }
   ],
   "source": [
    "#Loan Amount by Grade\n",
    "df_purpose = attributes[['grade','loan_amnt']]\n",
    "df_purpose = pd.melt(df_purpose, id_vars=['grade'])\n",
    "\n",
    "plt.figure(figsize=(16,30))\n",
    "g = sns.FacetGrid(df_purpose, row=\"variable\", size=10)\n",
    "g = g.map(sns.boxplot, \"grade\", \"value\")\n",
    "plt.show()"
   ]
  },
  {
   "cell_type": "code",
   "execution_count": 60,
   "metadata": {},
   "outputs": [
    {
     "data": {
      "text/plain": [
       "<matplotlib.figure.Figure at 0x123aae208>"
      ]
     },
     "metadata": {},
     "output_type": "display_data"
    },
    {
     "data": {
      "image/png": "[encoded data removed]",
      "text/plain": [
       "<matplotlib.figure.Figure at 0x12ce44b38>"
      ]
     },
     "metadata": {},
     "output_type": "display_data"
    }
   ],
   "source": [
    "#Interest rate by Grade\n",
    "df_grade = attributes[['grade','int_rate']]\n",
    "df_grade = pd.melt(df_grade, id_vars=['grade'])\n",
    "\n",
    "plt.figure(figsize=(16,40))\n",
    "g = sns.FacetGrid(df_grade, row=\"variable\", size=10)\n",
    "g = g.map(sns.boxplot, \"grade\", \"value\")\n",
    "plt.show()"
   ]
  },
  {
   "cell_type": "markdown",
   "metadata": {},
   "source": [
    "Descriptive Statistics"
   ]
  },
  {
   "cell_type": "code",
   "execution_count": 55,
   "metadata": {},
   "outputs": [
    {
     "data": {
      "text/html": [
       "<div>\n",
       "<style>\n",
       "    .dataframe thead tr:only-child th {\n",
       "        text-align: right;\n",
       "    }\n",
       "\n",
       "    .dataframe thead th {\n",
       "        text-align: left;\n",
       "    }\n",
       "\n",
       "    .dataframe tbody tr th {\n",
       "        vertical-align: top;\n",
       "    }\n",
       "</style>\n",
       "<table border=\"1\" class=\"dataframe\">\n",
       "  <thead>\n",
       "    <tr style=\"text-align: right;\">\n",
       "      <th></th>\n",
       "      <th>grade</th>\n",
       "      <th>A</th>\n",
       "      <th>B</th>\n",
       "      <th>C</th>\n",
       "      <th>D</th>\n",
       "      <th>E</th>\n",
       "      <th>F</th>\n",
       "      <th>G</th>\n",
       "    </tr>\n",
       "  </thead>\n",
       "  <tbody>\n",
       "    <tr>\n",
       "      <th rowspan=\"8\" valign=\"top\">annual_inc</th>\n",
       "      <th>count</th>\n",
       "      <td>1.481980e+05</td>\n",
       "      <td>2.545350e+05</td>\n",
       "      <td>2.458600e+05</td>\n",
       "      <td>1.395420e+05</td>\n",
       "      <td>7.070500e+04</td>\n",
       "      <td>2.304600e+04</td>\n",
       "      <td>5489.000000</td>\n",
       "    </tr>\n",
       "    <tr>\n",
       "      <th>mean</th>\n",
       "      <td>8.694265e+04</td>\n",
       "      <td>7.548739e+04</td>\n",
       "      <td>7.153695e+04</td>\n",
       "      <td>6.916927e+04</td>\n",
       "      <td>7.211915e+04</td>\n",
       "      <td>7.380117e+04</td>\n",
       "      <td>79904.591762</td>\n",
       "    </tr>\n",
       "    <tr>\n",
       "      <th>std</th>\n",
       "      <td>8.232881e+04</td>\n",
       "      <td>6.531624e+04</td>\n",
       "      <td>5.846073e+04</td>\n",
       "      <td>5.484524e+04</td>\n",
       "      <td>6.074616e+04</td>\n",
       "      <td>4.862122e+04</td>\n",
       "      <td>58880.889338</td>\n",
       "    </tr>\n",
       "    <tr>\n",
       "      <th>min</th>\n",
       "      <td>3.300000e+03</td>\n",
       "      <td>2.000000e+03</td>\n",
       "      <td>0.000000e+00</td>\n",
       "      <td>0.000000e+00</td>\n",
       "      <td>1.200000e+03</td>\n",
       "      <td>4.524000e+03</td>\n",
       "      <td>1896.000000</td>\n",
       "    </tr>\n",
       "    <tr>\n",
       "      <th>25%</th>\n",
       "      <td>5.300000e+04</td>\n",
       "      <td>4.600000e+04</td>\n",
       "      <td>4.400000e+04</td>\n",
       "      <td>4.200000e+04</td>\n",
       "      <td>4.500000e+04</td>\n",
       "      <td>4.600000e+04</td>\n",
       "      <td>49548.000000</td>\n",
       "    </tr>\n",
       "    <tr>\n",
       "      <th>50%</th>\n",
       "      <td>7.500000e+04</td>\n",
       "      <td>6.500000e+04</td>\n",
       "      <td>6.000000e+04</td>\n",
       "      <td>6.000000e+04</td>\n",
       "      <td>6.100000e+04</td>\n",
       "      <td>6.500000e+04</td>\n",
       "      <td>68000.000000</td>\n",
       "    </tr>\n",
       "    <tr>\n",
       "      <th>75%</th>\n",
       "      <td>1.029704e+05</td>\n",
       "      <td>9.000000e+04</td>\n",
       "      <td>8.500000e+04</td>\n",
       "      <td>8.300000e+04</td>\n",
       "      <td>8.500000e+04</td>\n",
       "      <td>8.800000e+04</td>\n",
       "      <td>94000.000000</td>\n",
       "    </tr>\n",
       "    <tr>\n",
       "      <th>max</th>\n",
       "      <td>9.500000e+06</td>\n",
       "      <td>8.700000e+06</td>\n",
       "      <td>8.706582e+06</td>\n",
       "      <td>8.900060e+06</td>\n",
       "      <td>7.500000e+06</td>\n",
       "      <td>1.500000e+06</td>\n",
       "      <td>980000.000000</td>\n",
       "    </tr>\n",
       "    <tr>\n",
       "      <th rowspan=\"8\" valign=\"top\">installment</th>\n",
       "      <th>count</th>\n",
       "      <td>1.482020e+05</td>\n",
       "      <td>2.545350e+05</td>\n",
       "      <td>2.458600e+05</td>\n",
       "      <td>1.395420e+05</td>\n",
       "      <td>7.070500e+04</td>\n",
       "      <td>2.304600e+04</td>\n",
       "      <td>5489.000000</td>\n",
       "    </tr>\n",
       "    <tr>\n",
       "      <th>mean</th>\n",
       "      <td>4.275992e+02</td>\n",
       "      <td>4.084393e+02</td>\n",
       "      <td>4.219421e+02</td>\n",
       "      <td>4.555702e+02</td>\n",
       "      <td>5.149936e+02</td>\n",
       "      <td>5.656543e+02</td>\n",
       "      <td>627.054815</td>\n",
       "    </tr>\n",
       "    <tr>\n",
       "      <th>std</th>\n",
       "      <td>2.302605e+02</td>\n",
       "      <td>2.261141e+02</td>\n",
       "      <td>2.432658e+02</td>\n",
       "      <td>2.595599e+02</td>\n",
       "      <td>2.595722e+02</td>\n",
       "      <td>2.636955e+02</td>\n",
       "      <td>266.317485</td>\n",
       "    </tr>\n",
       "    <tr>\n",
       "      <th>min</th>\n",
       "      <td>1.567000e+01</td>\n",
       "      <td>1.591000e+01</td>\n",
       "      <td>1.647000e+01</td>\n",
       "      <td>1.673000e+01</td>\n",
       "      <td>2.053000e+01</td>\n",
       "      <td>2.782000e+01</td>\n",
       "      <td>21.590000</td>\n",
       "    </tr>\n",
       "    <tr>\n",
       "      <th>25%</th>\n",
       "      <td>2.479700e+02</td>\n",
       "      <td>2.460400e+02</td>\n",
       "      <td>2.517500e+02</td>\n",
       "      <td>2.734300e+02</td>\n",
       "      <td>3.186000e+02</td>\n",
       "      <td>3.607025e+02</td>\n",
       "      <td>415.230000</td>\n",
       "    </tr>\n",
       "    <tr>\n",
       "      <th>50%</th>\n",
       "      <td>3.754300e+02</td>\n",
       "      <td>3.570500e+02</td>\n",
       "      <td>3.615200e+02</td>\n",
       "      <td>3.941300e+02</td>\n",
       "      <td>4.766300e+02</td>\n",
       "      <td>5.445200e+02</td>\n",
       "      <td>596.450000</td>\n",
       "    </tr>\n",
       "    <tr>\n",
       "      <th>75%</th>\n",
       "      <td>5.988200e+02</td>\n",
       "      <td>5.237500e+02</td>\n",
       "      <td>5.418100e+02</td>\n",
       "      <td>5.963400e+02</td>\n",
       "      <td>6.752000e+02</td>\n",
       "      <td>7.601425e+02</td>\n",
       "      <td>836.520000</td>\n",
       "    </tr>\n",
       "    <tr>\n",
       "      <th>max</th>\n",
       "      <td>1.111370e+03</td>\n",
       "      <td>1.197750e+03</td>\n",
       "      <td>1.252560e+03</td>\n",
       "      <td>1.306270e+03</td>\n",
       "      <td>1.362150e+03</td>\n",
       "      <td>1.406080e+03</td>\n",
       "      <td>1445.460000</td>\n",
       "    </tr>\n",
       "    <tr>\n",
       "      <th rowspan=\"8\" valign=\"top\">int_rate</th>\n",
       "      <th>count</th>\n",
       "      <td>1.482020e+05</td>\n",
       "      <td>2.545350e+05</td>\n",
       "      <td>2.458600e+05</td>\n",
       "      <td>1.395420e+05</td>\n",
       "      <td>7.070500e+04</td>\n",
       "      <td>2.304600e+04</td>\n",
       "      <td>5489.000000</td>\n",
       "    </tr>\n",
       "    <tr>\n",
       "      <th>mean</th>\n",
       "      <td>7.243312e+00</td>\n",
       "      <td>1.082962e+01</td>\n",
       "      <td>1.398010e+01</td>\n",
       "      <td>1.717581e+01</td>\n",
       "      <td>1.989732e+01</td>\n",
       "      <td>2.358279e+01</td>\n",
       "      <td>25.626706</td>\n",
       "    </tr>\n",
       "    <tr>\n",
       "      <th>std</th>\n",
       "      <td>9.754547e-01</td>\n",
       "      <td>1.443258e+00</td>\n",
       "      <td>1.228535e+00</td>\n",
       "      <td>1.242879e+00</td>\n",
       "      <td>1.500429e+00</td>\n",
       "      <td>1.535471e+00</td>\n",
       "      <td>1.975726</td>\n",
       "    </tr>\n",
       "    <tr>\n",
       "      <th>min</th>\n",
       "      <td>5.320000e+00</td>\n",
       "      <td>6.000000e+00</td>\n",
       "      <td>6.000000e+00</td>\n",
       "      <td>6.000000e+00</td>\n",
       "      <td>6.000000e+00</td>\n",
       "      <td>6.000000e+00</td>\n",
       "      <td>16.590000</td>\n",
       "    </tr>\n",
       "    <tr>\n",
       "      <th>25%</th>\n",
       "      <td>6.490000e+00</td>\n",
       "      <td>9.760000e+00</td>\n",
       "      <td>1.299000e+01</td>\n",
       "      <td>1.629000e+01</td>\n",
       "      <td>1.855000e+01</td>\n",
       "      <td>2.299000e+01</td>\n",
       "      <td>25.800000</td>\n",
       "    </tr>\n",
       "    <tr>\n",
       "      <th>50%</th>\n",
       "      <td>7.260000e+00</td>\n",
       "      <td>1.099000e+01</td>\n",
       "      <td>1.399000e+01</td>\n",
       "      <td>1.699000e+01</td>\n",
       "      <td>1.999000e+01</td>\n",
       "      <td>2.376000e+01</td>\n",
       "      <td>25.830000</td>\n",
       "    </tr>\n",
       "    <tr>\n",
       "      <th>75%</th>\n",
       "      <td>7.890000e+00</td>\n",
       "      <td>1.183000e+01</td>\n",
       "      <td>1.465000e+01</td>\n",
       "      <td>1.786000e+01</td>\n",
       "      <td>2.099000e+01</td>\n",
       "      <td>2.450000e+01</td>\n",
       "      <td>26.060000</td>\n",
       "    </tr>\n",
       "    <tr>\n",
       "      <th>max</th>\n",
       "      <td>9.630000e+00</td>\n",
       "      <td>1.409000e+01</td>\n",
       "      <td>1.727000e+01</td>\n",
       "      <td>2.031000e+01</td>\n",
       "      <td>2.340000e+01</td>\n",
       "      <td>2.606000e+01</td>\n",
       "      <td>28.990000</td>\n",
       "    </tr>\n",
       "    <tr>\n",
       "      <th rowspan=\"8\" valign=\"top\">loan_amnt</th>\n",
       "      <th>count</th>\n",
       "      <td>1.482020e+05</td>\n",
       "      <td>2.545350e+05</td>\n",
       "      <td>2.458600e+05</td>\n",
       "      <td>1.395420e+05</td>\n",
       "      <td>7.070500e+04</td>\n",
       "      <td>2.304600e+04</td>\n",
       "      <td>5489.000000</td>\n",
       "    </tr>\n",
       "    <tr>\n",
       "      <th>mean</th>\n",
       "      <td>1.403886e+04</td>\n",
       "      <td>1.364297e+04</td>\n",
       "      <td>1.446631e+04</td>\n",
       "      <td>1.545951e+04</td>\n",
       "      <td>1.799815e+04</td>\n",
       "      <td>1.913916e+04</td>\n",
       "      <td>20538.563491</td>\n",
       "    </tr>\n",
       "    <tr>\n",
       "      <th>std</th>\n",
       "      <td>7.502131e+03</td>\n",
       "      <td>7.761052e+03</td>\n",
       "      <td>8.538699e+03</td>\n",
       "      <td>9.012631e+03</td>\n",
       "      <td>9.196163e+03</td>\n",
       "      <td>9.213624e+03</td>\n",
       "      <td>8789.569903</td>\n",
       "    </tr>\n",
       "    <tr>\n",
       "      <th>min</th>\n",
       "      <td>5.000000e+02</td>\n",
       "      <td>5.000000e+02</td>\n",
       "      <td>5.000000e+02</td>\n",
       "      <td>5.000000e+02</td>\n",
       "      <td>6.000000e+02</td>\n",
       "      <td>1.000000e+03</td>\n",
       "      <td>600.000000</td>\n",
       "    </tr>\n",
       "    <tr>\n",
       "      <th>25%</th>\n",
       "      <td>8.000000e+03</td>\n",
       "      <td>8.000000e+03</td>\n",
       "      <td>8.000000e+03</td>\n",
       "      <td>8.500000e+03</td>\n",
       "      <td>1.100000e+04</td>\n",
       "      <td>1.200000e+04</td>\n",
       "      <td>13475.000000</td>\n",
       "    </tr>\n",
       "    <tr>\n",
       "      <th>50%</th>\n",
       "      <td>1.200000e+04</td>\n",
       "      <td>1.200000e+04</td>\n",
       "      <td>1.200000e+04</td>\n",
       "      <td>1.400000e+04</td>\n",
       "      <td>1.685000e+04</td>\n",
       "      <td>1.862500e+04</td>\n",
       "      <td>20000.000000</td>\n",
       "    </tr>\n",
       "    <tr>\n",
       "      <th>75%</th>\n",
       "      <td>2.000000e+04</td>\n",
       "      <td>1.800000e+04</td>\n",
       "      <td>2.000000e+04</td>\n",
       "      <td>2.100000e+04</td>\n",
       "      <td>2.500000e+04</td>\n",
       "      <td>2.587500e+04</td>\n",
       "      <td>27550.000000</td>\n",
       "    </tr>\n",
       "    <tr>\n",
       "      <th>max</th>\n",
       "      <td>3.500000e+04</td>\n",
       "      <td>3.500000e+04</td>\n",
       "      <td>3.500000e+04</td>\n",
       "      <td>3.500000e+04</td>\n",
       "      <td>3.500000e+04</td>\n",
       "      <td>3.500000e+04</td>\n",
       "      <td>35000.000000</td>\n",
       "    </tr>\n",
       "    <tr>\n",
       "      <th rowspan=\"8\" valign=\"top\">revol_bal</th>\n",
       "      <th>count</th>\n",
       "      <td>1.482020e+05</td>\n",
       "      <td>2.545350e+05</td>\n",
       "      <td>2.458600e+05</td>\n",
       "      <td>1.395420e+05</td>\n",
       "      <td>7.070500e+04</td>\n",
       "      <td>2.304600e+04</td>\n",
       "      <td>5489.000000</td>\n",
       "    </tr>\n",
       "    <tr>\n",
       "      <th>mean</th>\n",
       "      <td>1.895396e+04</td>\n",
       "      <td>1.691140e+04</td>\n",
       "      <td>1.635523e+04</td>\n",
       "      <td>1.588087e+04</td>\n",
       "      <td>1.684707e+04</td>\n",
       "      <td>1.641025e+04</td>\n",
       "      <td>17322.579705</td>\n",
       "    </tr>\n",
       "    <tr>\n",
       "      <th>std</th>\n",
       "      <td>2.736265e+04</td>\n",
       "      <td>2.127230e+04</td>\n",
       "      <td>2.115577e+04</td>\n",
       "      <td>2.159741e+04</td>\n",
       "      <td>2.113323e+04</td>\n",
       "      <td>1.976633e+04</td>\n",
       "      <td>25680.844504</td>\n",
       "    </tr>\n",
       "    <tr>\n",
       "      <th>min</th>\n",
       "      <td>0.000000e+00</td>\n",
       "      <td>0.000000e+00</td>\n",
       "      <td>0.000000e+00</td>\n",
       "      <td>0.000000e+00</td>\n",
       "      <td>0.000000e+00</td>\n",
       "      <td>0.000000e+00</td>\n",
       "      <td>0.000000</td>\n",
       "    </tr>\n",
       "    <tr>\n",
       "      <th>25%</th>\n",
       "      <td>6.918000e+03</td>\n",
       "      <td>6.676000e+03</td>\n",
       "      <td>6.279000e+03</td>\n",
       "      <td>5.945000e+03</td>\n",
       "      <td>6.376000e+03</td>\n",
       "      <td>6.198000e+03</td>\n",
       "      <td>6000.000000</td>\n",
       "    </tr>\n",
       "    <tr>\n",
       "      <th>50%</th>\n",
       "      <td>1.286600e+04</td>\n",
       "      <td>1.187900e+04</td>\n",
       "      <td>1.156300e+04</td>\n",
       "      <td>1.130400e+04</td>\n",
       "      <td>1.215500e+04</td>\n",
       "      <td>1.202250e+04</td>\n",
       "      <td>11553.000000</td>\n",
       "    </tr>\n",
       "    <tr>\n",
       "      <th>75%</th>\n",
       "      <td>2.258100e+04</td>\n",
       "      <td>2.062300e+04</td>\n",
       "      <td>2.028700e+04</td>\n",
       "      <td>2.002475e+04</td>\n",
       "      <td>2.149200e+04</td>\n",
       "      <td>2.087575e+04</td>\n",
       "      <td>21703.000000</td>\n",
       "    </tr>\n",
       "    <tr>\n",
       "      <th>max</th>\n",
       "      <td>2.568995e+06</td>\n",
       "      <td>1.743266e+06</td>\n",
       "      <td>1.746716e+06</td>\n",
       "      <td>2.904836e+06</td>\n",
       "      <td>1.030826e+06</td>\n",
       "      <td>5.542660e+05</td>\n",
       "      <td>952013.000000</td>\n",
       "    </tr>\n",
       "  </tbody>\n",
       "</table>\n",
       "</div>"
      ],
      "text/plain": [
       "grade                         A             B             C             D  \\\n",
       "annual_inc  count  1.481980e+05  2.545350e+05  2.458600e+05  1.395420e+05   \n",
       "            mean   8.694265e+04  7.548739e+04  7.153695e+04  6.916927e+04   \n",
       "            std    8.232881e+04  6.531624e+04  5.846073e+04  5.484524e+04   \n",
       "            min    3.300000e+03  2.000000e+03  0.000000e+00  0.000000e+00   \n",
       "            25%    5.300000e+04  4.600000e+04  4.400000e+04  4.200000e+04   \n",
       "            50%    7.500000e+04  6.500000e+04  6.000000e+04  6.000000e+04   \n",
       "            75%    1.029704e+05  9.000000e+04  8.500000e+04  8.300000e+04   \n",
       "            max    9.500000e+06  8.700000e+06  8.706582e+06  8.900060e+06   \n",
       "installment count  1.482020e+05  2.545350e+05  2.458600e+05  1.395420e+05   \n",
       "            mean   4.275992e+02  4.084393e+02  4.219421e+02  4.555702e+02   \n",
       "            std    2.302605e+02  2.261141e+02  2.432658e+02  2.595599e+02   \n",
       "            min    1.567000e+01  1.591000e+01  1.647000e+01  1.673000e+01   \n",
       "            25%    2.479700e+02  2.460400e+02  2.517500e+02  2.734300e+02   \n",
       "            50%    3.754300e+02  3.570500e+02  3.615200e+02  3.941300e+02   \n",
       "            75%    5.988200e+02  5.237500e+02  5.418100e+02  5.963400e+02   \n",
       "            max    1.111370e+03  1.197750e+03  1.252560e+03  1.306270e+03   \n",
       "int_rate    count  1.482020e+05  2.545350e+05  2.458600e+05  1.395420e+05   \n",
       "            mean   7.243312e+00  1.082962e+01  1.398010e+01  1.717581e+01   \n",
       "            std    9.754547e-01  1.443258e+00  1.228535e+00  1.242879e+00   \n",
       "            min    5.320000e+00  6.000000e+00  6.000000e+00  6.000000e+00   \n",
       "            25%    6.490000e+00  9.760000e+00  1.299000e+01  1.629000e+01   \n",
       "            50%    7.260000e+00  1.099000e+01  1.399000e+01  1.699000e+01   \n",
       "            75%    7.890000e+00  1.183000e+01  1.465000e+01  1.786000e+01   \n",
       "            max    9.630000e+00  1.409000e+01  1.727000e+01  2.031000e+01   \n",
       "loan_amnt   count  1.482020e+05  2.545350e+05  2.458600e+05  1.395420e+05   \n",
       "            mean   1.403886e+04  1.364297e+04  1.446631e+04  1.545951e+04   \n",
       "            std    7.502131e+03  7.761052e+03  8.538699e+03  9.012631e+03   \n",
       "            min    5.000000e+02  5.000000e+02  5.000000e+02  5.000000e+02   \n",
       "            25%    8.000000e+03  8.000000e+03  8.000000e+03  8.500000e+03   \n",
       "            50%    1.200000e+04  1.200000e+04  1.200000e+04  1.400000e+04   \n",
       "            75%    2.000000e+04  1.800000e+04  2.000000e+04  2.100000e+04   \n",
       "            max    3.500000e+04  3.500000e+04  3.500000e+04  3.500000e+04   \n",
       "revol_bal   count  1.482020e+05  2.545350e+05  2.458600e+05  1.395420e+05   \n",
       "            mean   1.895396e+04  1.691140e+04  1.635523e+04  1.588087e+04   \n",
       "            std    2.736265e+04  2.127230e+04  2.115577e+04  2.159741e+04   \n",
       "            min    0.000000e+00  0.000000e+00  0.000000e+00  0.000000e+00   \n",
       "            25%    6.918000e+03  6.676000e+03  6.279000e+03  5.945000e+03   \n",
       "            50%    1.286600e+04  1.187900e+04  1.156300e+04  1.130400e+04   \n",
       "            75%    2.258100e+04  2.062300e+04  2.028700e+04  2.002475e+04   \n",
       "            max    2.568995e+06  1.743266e+06  1.746716e+06  2.904836e+06   \n",
       "\n",
       "grade                         E             F              G  \n",
       "annual_inc  count  7.070500e+04  2.304600e+04    5489.000000  \n",
       "            mean   7.211915e+04  7.380117e+04   79904.591762  \n",
       "            std    6.074616e+04  4.862122e+04   58880.889338  \n",
       "            min    1.200000e+03  4.524000e+03    1896.000000  \n",
       "            25%    4.500000e+04  4.600000e+04   49548.000000  \n",
       "            50%    6.100000e+04  6.500000e+04   68000.000000  \n",
       "            75%    8.500000e+04  8.800000e+04   94000.000000  \n",
       "            max    7.500000e+06  1.500000e+06  980000.000000  \n",
       "installment count  7.070500e+04  2.304600e+04    5489.000000  \n",
       "            mean   5.149936e+02  5.656543e+02     627.054815  \n",
       "            std    2.595722e+02  2.636955e+02     266.317485  \n",
       "            min    2.053000e+01  2.782000e+01      21.590000  \n",
       "            25%    3.186000e+02  3.607025e+02     415.230000  \n",
       "            50%    4.766300e+02  5.445200e+02     596.450000  \n",
       "            75%    6.752000e+02  7.601425e+02     836.520000  \n",
       "            max    1.362150e+03  1.406080e+03    1445.460000  \n",
       "int_rate    count  7.070500e+04  2.304600e+04    5489.000000  \n",
       "            mean   1.989732e+01  2.358279e+01      25.626706  \n",
       "            std    1.500429e+00  1.535471e+00       1.975726  \n",
       "            min    6.000000e+00  6.000000e+00      16.590000  \n",
       "            25%    1.855000e+01  2.299000e+01      25.800000  \n",
       "            50%    1.999000e+01  2.376000e+01      25.830000  \n",
       "            75%    2.099000e+01  2.450000e+01      26.060000  \n",
       "            max    2.340000e+01  2.606000e+01      28.990000  \n",
       "loan_amnt   count  7.070500e+04  2.304600e+04    5489.000000  \n",
       "            mean   1.799815e+04  1.913916e+04   20538.563491  \n",
       "            std    9.196163e+03  9.213624e+03    8789.569903  \n",
       "            min    6.000000e+02  1.000000e+03     600.000000  \n",
       "            25%    1.100000e+04  1.200000e+04   13475.000000  \n",
       "            50%    1.685000e+04  1.862500e+04   20000.000000  \n",
       "            75%    2.500000e+04  2.587500e+04   27550.000000  \n",
       "            max    3.500000e+04  3.500000e+04   35000.000000  \n",
       "revol_bal   count  7.070500e+04  2.304600e+04    5489.000000  \n",
       "            mean   1.684707e+04  1.641025e+04   17322.579705  \n",
       "            std    2.113323e+04  1.976633e+04   25680.844504  \n",
       "            min    0.000000e+00  0.000000e+00       0.000000  \n",
       "            25%    6.376000e+03  6.198000e+03    6000.000000  \n",
       "            50%    1.215500e+04  1.202250e+04   11553.000000  \n",
       "            75%    2.149200e+04  2.087575e+04   21703.000000  \n",
       "            max    1.030826e+06  5.542660e+05  952013.000000  "
      ]
     },
     "execution_count": 55,
     "metadata": {},
     "output_type": "execute_result"
    }
   ],
   "source": [
    "attributes.groupby('grade').describe().transpose()"
   ]
  },
  {
   "cell_type": "markdown",
   "metadata": {},
   "source": [
    "### 2. Next, based on what you learned via your data exploration, create ten new features. Explain the reasoning behind each one."
   ]
  },
  {
   "cell_type": "markdown",
   "metadata": {},
   "source": [
    "Want to test if the continuous variables are normally distributed."
   ]
  },
  {
   "cell_type": "code",
   "execution_count": 23,
   "metadata": {
    "collapsed": true
   },
   "outputs": [],
   "source": [
    "#Create Normal Test Function\n",
    "from scipy import stats\n",
    "\n",
    "def normal_test(data):\n",
    "    k2, p = stats.normaltest(data)\n",
    "    alpha = 1e-3\n",
    "    print(\"p = {:g}\".format(p))\n",
    "\n",
    "    if p < alpha:  # null hypothesis: x comes from a normal distribution\n",
    "        print(\"The null hypothesis can be rejected\")\n",
    "    else:\n",
    "        print(\"The null hypothesis cannot be rejected\")"
   ]
  },
  {
   "cell_type": "markdown",
   "metadata": {},
   "source": [
    "Loan Amount"
   ]
  },
  {
   "cell_type": "code",
   "execution_count": 29,
   "metadata": {},
   "outputs": [
    {
     "name": "stdout",
     "output_type": "stream",
     "text": [
      "Raw:\n",
      "p = 0\n",
      "The null hypothesis can be rejected\n",
      "Log:\n",
      "p = 0\n",
      "The null hypothesis can be rejected\n",
      "Square Root:\n",
      "p = 0\n",
      "The null hypothesis can be rejected\n",
      "Inverse:\n",
      "p = 0\n",
      "The null hypothesis can be rejected\n"
     ]
    }
   ],
   "source": [
    "#Normality Test on Raw\n",
    "print('Raw:')\n",
    "normal_test(attributes['loan_amnt'].dropna())\n",
    "\n",
    "#Log\n",
    "print('Log:')\n",
    "normal_test(np.log(attributes['loan_amnt'].dropna()))\n",
    "\n",
    "#Square Root\n",
    "print('Square Root:')\n",
    "normal_test(np.sqrt(attributes['loan_amnt'].dropna()))\n",
    "\n",
    "#Inverse\n",
    "print('Inverse:')\n",
    "normal_test(1/attributes['loan_amnt'].dropna())\n"
   ]
  },
  {
   "cell_type": "markdown",
   "metadata": {},
   "source": [
    "Note that none of the transformations made the distribution normal. This is something to look out for."
   ]
  },
  {
   "cell_type": "code",
   "execution_count": 30,
   "metadata": {},
   "outputs": [
    {
     "data": {
      "text/plain": [
       "<matplotlib.text.Text at 0x1173d7f98>"
      ]
     },
     "execution_count": 30,
     "metadata": {},
     "output_type": "execute_result"
    },
    {
     "data": {
      "image/png": "[encoded data removed]",
      "text/plain": [
       "<matplotlib.figure.Figure at 0x11d1f0470>"
      ]
     },
     "metadata": {},
     "output_type": "display_data"
    }
   ],
   "source": [
    "#Loan Amount\n",
    "plt.figure()\n",
    "attributes['loan_amnt'].plot(kind='hist')\n",
    "plt.title('Raw')\n"
   ]
  },
  {
   "cell_type": "markdown",
   "metadata": {},
   "source": [
    "Interest Rate"
   ]
  },
  {
   "cell_type": "code",
   "execution_count": 31,
   "metadata": {},
   "outputs": [
    {
     "name": "stdout",
     "output_type": "stream",
     "text": [
      "Raw:\n",
      "p = 0\n",
      "The null hypothesis can be rejected\n",
      "Log:\n",
      "p = 0\n",
      "The null hypothesis can be rejected\n",
      "Square Root:\n",
      "p = 0\n",
      "The null hypothesis can be rejected\n",
      "Inverse:\n",
      "p = 0\n",
      "The null hypothesis can be rejected\n"
     ]
    }
   ],
   "source": [
    "#Normality Test on Raw\n",
    "print('Raw:')\n",
    "normal_test(attributes['int_rate'].dropna())\n",
    "\n",
    "#Log\n",
    "print('Log:')\n",
    "normal_test(np.log(attributes['int_rate'].dropna()))\n",
    "\n",
    "#Square Root\n",
    "print('Square Root:')\n",
    "normal_test(np.sqrt(attributes['int_rate'].dropna()))\n",
    "\n",
    "#Inverse\n",
    "print('Inverse:')\n",
    "normal_test(1/attributes['int_rate'].dropna())"
   ]
  },
  {
   "cell_type": "code",
   "execution_count": 32,
   "metadata": {},
   "outputs": [
    {
     "data": {
      "text/plain": [
       "<matplotlib.axes._subplots.AxesSubplot at 0x11b165b00>"
      ]
     },
     "execution_count": 32,
     "metadata": {},
     "output_type": "execute_result"
    },
    {
     "data": {
      "image/png": "[encoded data removed]",
      "text/plain": [
       "<matplotlib.figure.Figure at 0x1173d70b8>"
      ]
     },
     "metadata": {},
     "output_type": "display_data"
    }
   ],
   "source": [
    "plt.figure()\n",
    "attributes['int_rate'].plot(kind='hist')"
   ]
  },
  {
   "cell_type": "markdown",
   "metadata": {},
   "source": [
    "Annual Income"
   ]
  },
  {
   "cell_type": "code",
   "execution_count": 33,
   "metadata": {},
   "outputs": [
    {
     "name": "stdout",
     "output_type": "stream",
     "text": [
      "Raw:\n",
      "p = 0\n",
      "The null hypothesis can be rejected\n",
      "Log:\n",
      "p = nan\n",
      "The null hypothesis cannot be rejected\n",
      "Square Root:\n",
      "p = 0\n",
      "The null hypothesis can be rejected\n",
      "Inverse:\n",
      "p = nan\n",
      "The null hypothesis cannot be rejected\n"
     ]
    },
    {
     "name": "stderr",
     "output_type": "stream",
     "text": [
      "/Users/brandyn/anaconda/lib/python3.6/site-packages/ipykernel_launcher.py:7: RuntimeWarning: divide by zero encountered in log\n",
      "  import sys\n",
      "/Users/brandyn/anaconda/lib/python3.6/site-packages/scipy/stats/stats.py:926: RuntimeWarning: invalid value encountered in subtract\n",
      "  a_zero_mean = a - np.expand_dims(np.mean(a, axis), axis)\n"
     ]
    }
   ],
   "source": [
    "#Normality Test on Raw\n",
    "print('Raw:')\n",
    "normal_test(attributes['annual_inc'].dropna())\n",
    "\n",
    "#Log\n",
    "print('Log:')\n",
    "normal_test(np.log(attributes['annual_inc'].dropna()))\n",
    "\n",
    "#Square Root\n",
    "print('Square Root:')\n",
    "normal_test(np.sqrt(attributes['annual_inc'].dropna()))\n",
    "\n",
    "#Inverse\n",
    "print('Inverse:')\n",
    "normal_test(1/attributes['annual_inc'].dropna())"
   ]
  },
  {
   "cell_type": "code",
   "execution_count": 57,
   "metadata": {},
   "outputs": [
    {
     "data": {
      "text/plain": [
       "<matplotlib.axes._subplots.AxesSubplot at 0x13a5f3208>"
      ]
     },
     "execution_count": 57,
     "metadata": {},
     "output_type": "execute_result"
    },
    {
     "data": {
      "image/png": "[encoded data removed]",
      "text/plain": [
       "<matplotlib.figure.Figure at 0x13acfa1d0>"
      ]
     },
     "metadata": {},
     "output_type": "display_data"
    }
   ],
   "source": [
    "#This plot means there are outliers in the annual income. Lets explore this further with a box plot\n",
    "plt.figure(figsize=(12,8))\n",
    "attributes['annual_inc'].plot(kind='hist', bins=20)"
   ]
  },
  {
   "cell_type": "code",
   "execution_count": 56,
   "metadata": {},
   "outputs": [
    {
     "data": {
      "text/plain": [
       "<matplotlib.axes._subplots.AxesSubplot at 0x123a9a240>"
      ]
     },
     "execution_count": 56,
     "metadata": {},
     "output_type": "execute_result"
    },
    {
     "data": {
      "image/png": "[encoded data removed]",
      "text/plain": [
       "<matplotlib.figure.Figure at 0x123aa65c0>"
      ]
     },
     "metadata": {},
     "output_type": "display_data"
    }
   ],
   "source": [
    "plt.figure(figsize=(12,8))\n",
    "sns.boxplot(data['annual_inc'])"
   ]
  },
  {
   "cell_type": "markdown",
   "metadata": {
    "collapsed": true
   },
   "source": [
    "The box plot and histogram shows that there are a lot of outliers in the annual income. As well as some incomes of 0."
   ]
  },
  {
   "cell_type": "markdown",
   "metadata": {
    "collapsed": true
   },
   "source": [
    "Since any transformation I tried does not turn any of the continuous variables normal, will include them in the feature set and will focus on the categorical features. Will expand the categorical features to be new features. Specifically will expand home ownership, purpose and Sub grade into new features."
   ]
  },
  {
   "cell_type": "code",
   "execution_count": 87,
   "metadata": {},
   "outputs": [],
   "source": [
    "#Since using the sub grade, will drop grade before creating new features\n",
    "#Will also drop installment since its very correlated to another column\n",
    "attributes = attributes.drop(['grade', 'installment'], axis=1)\n",
    "features = pd.get_dummies(attributes)\n",
    "features.dropna(inplace=True)"
   ]
  },
  {
   "cell_type": "code",
   "execution_count": 56,
   "metadata": {},
   "outputs": [
    {
     "data": {
      "text/html": [
       "<div>\n",
       "<style>\n",
       "    .dataframe thead tr:only-child th {\n",
       "        text-align: right;\n",
       "    }\n",
       "\n",
       "    .dataframe thead th {\n",
       "        text-align: left;\n",
       "    }\n",
       "\n",
       "    .dataframe tbody tr th {\n",
       "        vertical-align: top;\n",
       "    }\n",
       "</style>\n",
       "<table border=\"1\" class=\"dataframe\">\n",
       "  <thead>\n",
       "    <tr style=\"text-align: right;\">\n",
       "      <th></th>\n",
       "      <th>loan_amnt</th>\n",
       "      <th>installment</th>\n",
       "      <th>int_rate</th>\n",
       "      <th>revol_bal</th>\n",
       "      <th>annual_inc</th>\n",
       "      <th>sub_grade_A1</th>\n",
       "      <th>sub_grade_A2</th>\n",
       "      <th>sub_grade_A3</th>\n",
       "      <th>sub_grade_A4</th>\n",
       "      <th>sub_grade_A5</th>\n",
       "      <th>...</th>\n",
       "      <th>purpose_home_improvement</th>\n",
       "      <th>purpose_house</th>\n",
       "      <th>purpose_major_purchase</th>\n",
       "      <th>purpose_medical</th>\n",
       "      <th>purpose_moving</th>\n",
       "      <th>purpose_other</th>\n",
       "      <th>purpose_renewable_energy</th>\n",
       "      <th>purpose_small_business</th>\n",
       "      <th>purpose_vacation</th>\n",
       "      <th>purpose_wedding</th>\n",
       "    </tr>\n",
       "  </thead>\n",
       "  <tbody>\n",
       "    <tr>\n",
       "      <th>0</th>\n",
       "      <td>5000.0</td>\n",
       "      <td>162.87</td>\n",
       "      <td>10.65</td>\n",
       "      <td>13648.0</td>\n",
       "      <td>24000.0</td>\n",
       "      <td>0</td>\n",
       "      <td>0</td>\n",
       "      <td>0</td>\n",
       "      <td>0</td>\n",
       "      <td>0</td>\n",
       "      <td>...</td>\n",
       "      <td>0</td>\n",
       "      <td>0</td>\n",
       "      <td>0</td>\n",
       "      <td>0</td>\n",
       "      <td>0</td>\n",
       "      <td>0</td>\n",
       "      <td>0</td>\n",
       "      <td>0</td>\n",
       "      <td>0</td>\n",
       "      <td>0</td>\n",
       "    </tr>\n",
       "    <tr>\n",
       "      <th>1</th>\n",
       "      <td>2500.0</td>\n",
       "      <td>59.83</td>\n",
       "      <td>15.27</td>\n",
       "      <td>1687.0</td>\n",
       "      <td>30000.0</td>\n",
       "      <td>0</td>\n",
       "      <td>0</td>\n",
       "      <td>0</td>\n",
       "      <td>0</td>\n",
       "      <td>0</td>\n",
       "      <td>...</td>\n",
       "      <td>0</td>\n",
       "      <td>0</td>\n",
       "      <td>0</td>\n",
       "      <td>0</td>\n",
       "      <td>0</td>\n",
       "      <td>0</td>\n",
       "      <td>0</td>\n",
       "      <td>0</td>\n",
       "      <td>0</td>\n",
       "      <td>0</td>\n",
       "    </tr>\n",
       "    <tr>\n",
       "      <th>2</th>\n",
       "      <td>2400.0</td>\n",
       "      <td>84.33</td>\n",
       "      <td>15.96</td>\n",
       "      <td>2956.0</td>\n",
       "      <td>12252.0</td>\n",
       "      <td>0</td>\n",
       "      <td>0</td>\n",
       "      <td>0</td>\n",
       "      <td>0</td>\n",
       "      <td>0</td>\n",
       "      <td>...</td>\n",
       "      <td>0</td>\n",
       "      <td>0</td>\n",
       "      <td>0</td>\n",
       "      <td>0</td>\n",
       "      <td>0</td>\n",
       "      <td>0</td>\n",
       "      <td>0</td>\n",
       "      <td>1</td>\n",
       "      <td>0</td>\n",
       "      <td>0</td>\n",
       "    </tr>\n",
       "    <tr>\n",
       "      <th>3</th>\n",
       "      <td>10000.0</td>\n",
       "      <td>339.31</td>\n",
       "      <td>13.49</td>\n",
       "      <td>5598.0</td>\n",
       "      <td>49200.0</td>\n",
       "      <td>0</td>\n",
       "      <td>0</td>\n",
       "      <td>0</td>\n",
       "      <td>0</td>\n",
       "      <td>0</td>\n",
       "      <td>...</td>\n",
       "      <td>0</td>\n",
       "      <td>0</td>\n",
       "      <td>0</td>\n",
       "      <td>0</td>\n",
       "      <td>0</td>\n",
       "      <td>1</td>\n",
       "      <td>0</td>\n",
       "      <td>0</td>\n",
       "      <td>0</td>\n",
       "      <td>0</td>\n",
       "    </tr>\n",
       "    <tr>\n",
       "      <th>4</th>\n",
       "      <td>3000.0</td>\n",
       "      <td>67.79</td>\n",
       "      <td>12.69</td>\n",
       "      <td>27783.0</td>\n",
       "      <td>80000.0</td>\n",
       "      <td>0</td>\n",
       "      <td>0</td>\n",
       "      <td>0</td>\n",
       "      <td>0</td>\n",
       "      <td>0</td>\n",
       "      <td>...</td>\n",
       "      <td>0</td>\n",
       "      <td>0</td>\n",
       "      <td>0</td>\n",
       "      <td>0</td>\n",
       "      <td>0</td>\n",
       "      <td>1</td>\n",
       "      <td>0</td>\n",
       "      <td>0</td>\n",
       "      <td>0</td>\n",
       "      <td>0</td>\n",
       "    </tr>\n",
       "  </tbody>\n",
       "</table>\n",
       "<p>5 rows × 60 columns</p>\n",
       "</div>"
      ],
      "text/plain": [
       "   loan_amnt  installment  int_rate  revol_bal  annual_inc  sub_grade_A1  \\\n",
       "0     5000.0       162.87     10.65    13648.0     24000.0             0   \n",
       "1     2500.0        59.83     15.27     1687.0     30000.0             0   \n",
       "2     2400.0        84.33     15.96     2956.0     12252.0             0   \n",
       "3    10000.0       339.31     13.49     5598.0     49200.0             0   \n",
       "4     3000.0        67.79     12.69    27783.0     80000.0             0   \n",
       "\n",
       "   sub_grade_A2  sub_grade_A3  sub_grade_A4  sub_grade_A5       ...         \\\n",
       "0             0             0             0             0       ...          \n",
       "1             0             0             0             0       ...          \n",
       "2             0             0             0             0       ...          \n",
       "3             0             0             0             0       ...          \n",
       "4             0             0             0             0       ...          \n",
       "\n",
       "   purpose_home_improvement  purpose_house  purpose_major_purchase  \\\n",
       "0                         0              0                       0   \n",
       "1                         0              0                       0   \n",
       "2                         0              0                       0   \n",
       "3                         0              0                       0   \n",
       "4                         0              0                       0   \n",
       "\n",
       "   purpose_medical  purpose_moving  purpose_other  purpose_renewable_energy  \\\n",
       "0                0               0              0                         0   \n",
       "1                0               0              0                         0   \n",
       "2                0               0              0                         0   \n",
       "3                0               0              1                         0   \n",
       "4                0               0              1                         0   \n",
       "\n",
       "   purpose_small_business  purpose_vacation  purpose_wedding  \n",
       "0                       0                 0                0  \n",
       "1                       0                 0                0  \n",
       "2                       1                 0                0  \n",
       "3                       0                 0                0  \n",
       "4                       0                 0                0  \n",
       "\n",
       "[5 rows x 60 columns]"
      ]
     },
     "execution_count": 56,
     "metadata": {},
     "output_type": "execute_result"
    }
   ],
   "source": [
    "features.head()"
   ]
  },
  {
   "cell_type": "markdown",
   "metadata": {},
   "source": [
    "### 3. Finally, use filtering methods to select the five best features and justify your choices."
   ]
  },
  {
   "cell_type": "markdown",
   "metadata": {},
   "source": [
    "To select the Best features Im using the Sklearn module Feature selection. Since my outcome is a categorical variable, I will use classification techniques Chi squared and f_classif."
   ]
  },
  {
   "cell_type": "markdown",
   "metadata": {},
   "source": [
    "#### Chi Squared\n",
    "\n",
    "The chi-square test measures dependence between stochastic variables, so using this function “weeds out” the features that are the most likely to be independent of class and therefore irrelevant for classification."
   ]
  },
  {
   "cell_type": "code",
   "execution_count": 89,
   "metadata": {},
   "outputs": [
    {
     "data": {
      "text/html": [
       "<div>\n",
       "<style>\n",
       "    .dataframe thead tr:only-child th {\n",
       "        text-align: right;\n",
       "    }\n",
       "\n",
       "    .dataframe thead th {\n",
       "        text-align: left;\n",
       "    }\n",
       "\n",
       "    .dataframe tbody tr th {\n",
       "        vertical-align: top;\n",
       "    }\n",
       "</style>\n",
       "<table border=\"1\" class=\"dataframe\">\n",
       "  <thead>\n",
       "    <tr style=\"text-align: right;\">\n",
       "      <th></th>\n",
       "      <th>0</th>\n",
       "      <th>1</th>\n",
       "      <th>2</th>\n",
       "      <th>3</th>\n",
       "      <th>4</th>\n",
       "    </tr>\n",
       "  </thead>\n",
       "  <tbody>\n",
       "    <tr>\n",
       "      <th>0</th>\n",
       "      <td>5000.0</td>\n",
       "      <td>10.65</td>\n",
       "      <td>13648.0</td>\n",
       "      <td>24000.0</td>\n",
       "      <td>0.0</td>\n",
       "    </tr>\n",
       "    <tr>\n",
       "      <th>1</th>\n",
       "      <td>2500.0</td>\n",
       "      <td>15.27</td>\n",
       "      <td>1687.0</td>\n",
       "      <td>30000.0</td>\n",
       "      <td>0.0</td>\n",
       "    </tr>\n",
       "    <tr>\n",
       "      <th>2</th>\n",
       "      <td>2400.0</td>\n",
       "      <td>15.96</td>\n",
       "      <td>2956.0</td>\n",
       "      <td>12252.0</td>\n",
       "      <td>1.0</td>\n",
       "    </tr>\n",
       "    <tr>\n",
       "      <th>3</th>\n",
       "      <td>10000.0</td>\n",
       "      <td>13.49</td>\n",
       "      <td>5598.0</td>\n",
       "      <td>49200.0</td>\n",
       "      <td>0.0</td>\n",
       "    </tr>\n",
       "    <tr>\n",
       "      <th>4</th>\n",
       "      <td>3000.0</td>\n",
       "      <td>12.69</td>\n",
       "      <td>27783.0</td>\n",
       "      <td>80000.0</td>\n",
       "      <td>0.0</td>\n",
       "    </tr>\n",
       "  </tbody>\n",
       "</table>\n",
       "</div>"
      ],
      "text/plain": [
       "         0      1        2        3    4\n",
       "0   5000.0  10.65  13648.0  24000.0  0.0\n",
       "1   2500.0  15.27   1687.0  30000.0  0.0\n",
       "2   2400.0  15.96   2956.0  12252.0  1.0\n",
       "3  10000.0  13.49   5598.0  49200.0  0.0\n",
       "4   3000.0  12.69  27783.0  80000.0  0.0"
      ]
     },
     "execution_count": 89,
     "metadata": {},
     "output_type": "execute_result"
    }
   ],
   "source": [
    "#For filter Methods since the output is categorical (1 or 0) \n",
    "#Using sklearn Univariate feature selection\n",
    "\n",
    "#This way works, but dont get column labels. Trying to get column labels\n",
    "X_chi = SelectKBest(chi2, k=5).fit_transform(features, outcome)\n",
    "best_chi_features = pd.DataFrame(X_chi)\n",
    "best_chi_features.head()"
   ]
  },
  {
   "cell_type": "code",
   "execution_count": 88,
   "metadata": {},
   "outputs": [
    {
     "data": {
      "text/html": [
       "<div>\n",
       "<style>\n",
       "    .dataframe thead tr:only-child th {\n",
       "        text-align: right;\n",
       "    }\n",
       "\n",
       "    .dataframe thead th {\n",
       "        text-align: left;\n",
       "    }\n",
       "\n",
       "    .dataframe tbody tr th {\n",
       "        vertical-align: top;\n",
       "    }\n",
       "</style>\n",
       "<table border=\"1\" class=\"dataframe\">\n",
       "  <thead>\n",
       "    <tr style=\"text-align: right;\">\n",
       "      <th></th>\n",
       "      <th>loan_amnt</th>\n",
       "      <th>int_rate</th>\n",
       "      <th>revol_bal</th>\n",
       "      <th>annual_inc</th>\n",
       "      <th>purpose_small_business</th>\n",
       "    </tr>\n",
       "  </thead>\n",
       "  <tbody>\n",
       "    <tr>\n",
       "      <th>0</th>\n",
       "      <td>5000.0</td>\n",
       "      <td>10.65</td>\n",
       "      <td>13648.0</td>\n",
       "      <td>24000.0</td>\n",
       "      <td>0</td>\n",
       "    </tr>\n",
       "    <tr>\n",
       "      <th>1</th>\n",
       "      <td>2500.0</td>\n",
       "      <td>15.27</td>\n",
       "      <td>1687.0</td>\n",
       "      <td>30000.0</td>\n",
       "      <td>0</td>\n",
       "    </tr>\n",
       "    <tr>\n",
       "      <th>2</th>\n",
       "      <td>2400.0</td>\n",
       "      <td>15.96</td>\n",
       "      <td>2956.0</td>\n",
       "      <td>12252.0</td>\n",
       "      <td>1</td>\n",
       "    </tr>\n",
       "    <tr>\n",
       "      <th>3</th>\n",
       "      <td>10000.0</td>\n",
       "      <td>13.49</td>\n",
       "      <td>5598.0</td>\n",
       "      <td>49200.0</td>\n",
       "      <td>0</td>\n",
       "    </tr>\n",
       "    <tr>\n",
       "      <th>4</th>\n",
       "      <td>3000.0</td>\n",
       "      <td>12.69</td>\n",
       "      <td>27783.0</td>\n",
       "      <td>80000.0</td>\n",
       "      <td>0</td>\n",
       "    </tr>\n",
       "  </tbody>\n",
       "</table>\n",
       "</div>"
      ],
      "text/plain": [
       "   loan_amnt  int_rate  revol_bal  annual_inc  purpose_small_business\n",
       "0     5000.0     10.65    13648.0     24000.0                       0\n",
       "1     2500.0     15.27     1687.0     30000.0                       0\n",
       "2     2400.0     15.96     2956.0     12252.0                       1\n",
       "3    10000.0     13.49     5598.0     49200.0                       0\n",
       "4     3000.0     12.69    27783.0     80000.0                       0"
      ]
     },
     "execution_count": 88,
     "metadata": {},
     "output_type": "execute_result"
    }
   ],
   "source": [
    "#Retreive Column Names\n",
    "selector = SelectKBest(chi2, k=5)\n",
    "selector.fit(features,outcome)\n",
    "\n",
    "idxs_selected = selector.get_support(indices=True)\n",
    "features[features.columns[idxs_selected]].head()"
   ]
  },
  {
   "cell_type": "markdown",
   "metadata": {},
   "source": [
    "#### F_classif\n",
    "\n",
    "Compute the ANOVA F-value for the provided sample."
   ]
  },
  {
   "cell_type": "code",
   "execution_count": 90,
   "metadata": {},
   "outputs": [
    {
     "data": {
      "text/html": [
       "<div>\n",
       "<style>\n",
       "    .dataframe thead tr:only-child th {\n",
       "        text-align: right;\n",
       "    }\n",
       "\n",
       "    .dataframe thead th {\n",
       "        text-align: left;\n",
       "    }\n",
       "\n",
       "    .dataframe tbody tr th {\n",
       "        vertical-align: top;\n",
       "    }\n",
       "</style>\n",
       "<table border=\"1\" class=\"dataframe\">\n",
       "  <thead>\n",
       "    <tr style=\"text-align: right;\">\n",
       "      <th></th>\n",
       "      <th>int_rate</th>\n",
       "      <th>annual_inc</th>\n",
       "      <th>home_ownership_RENT</th>\n",
       "      <th>purpose_credit_card</th>\n",
       "      <th>purpose_small_business</th>\n",
       "    </tr>\n",
       "  </thead>\n",
       "  <tbody>\n",
       "    <tr>\n",
       "      <th>0</th>\n",
       "      <td>10.65</td>\n",
       "      <td>24000.0</td>\n",
       "      <td>1</td>\n",
       "      <td>1</td>\n",
       "      <td>0</td>\n",
       "    </tr>\n",
       "    <tr>\n",
       "      <th>1</th>\n",
       "      <td>15.27</td>\n",
       "      <td>30000.0</td>\n",
       "      <td>1</td>\n",
       "      <td>0</td>\n",
       "      <td>0</td>\n",
       "    </tr>\n",
       "    <tr>\n",
       "      <th>2</th>\n",
       "      <td>15.96</td>\n",
       "      <td>12252.0</td>\n",
       "      <td>1</td>\n",
       "      <td>0</td>\n",
       "      <td>1</td>\n",
       "    </tr>\n",
       "    <tr>\n",
       "      <th>3</th>\n",
       "      <td>13.49</td>\n",
       "      <td>49200.0</td>\n",
       "      <td>1</td>\n",
       "      <td>0</td>\n",
       "      <td>0</td>\n",
       "    </tr>\n",
       "    <tr>\n",
       "      <th>4</th>\n",
       "      <td>12.69</td>\n",
       "      <td>80000.0</td>\n",
       "      <td>1</td>\n",
       "      <td>0</td>\n",
       "      <td>0</td>\n",
       "    </tr>\n",
       "  </tbody>\n",
       "</table>\n",
       "</div>"
      ],
      "text/plain": [
       "   int_rate  annual_inc  home_ownership_RENT  purpose_credit_card  \\\n",
       "0     10.65     24000.0                    1                    1   \n",
       "1     15.27     30000.0                    1                    0   \n",
       "2     15.96     12252.0                    1                    0   \n",
       "3     13.49     49200.0                    1                    0   \n",
       "4     12.69     80000.0                    1                    0   \n",
       "\n",
       "   purpose_small_business  \n",
       "0                       0  \n",
       "1                       0  \n",
       "2                       1  \n",
       "3                       0  \n",
       "4                       0  "
      ]
     },
     "execution_count": 90,
     "metadata": {},
     "output_type": "execute_result"
    }
   ],
   "source": [
    "selector = SelectKBest(f_classif, k=5)\n",
    "selector.fit(features,outcome)\n",
    "\n",
    "idxs_selected = selector.get_support(indices=True)\n",
    "features[features.columns[idxs_selected]].head()"
   ]
  },
  {
   "cell_type": "code",
   "execution_count": null,
   "metadata": {
    "collapsed": true
   },
   "outputs": [],
   "source": []
  }
 ],
 "metadata": {
  "kernelspec": {
   "display_name": "Python 3",
   "language": "python",
   "name": "python3"
  },
  "language_info": {
   "codemirror_mode": {
    "name": "ipython",
    "version": 3
   },
   "file_extension": ".py",
   "mimetype": "text/x-python",
   "name": "python",
   "nbconvert_exporter": "python",
   "pygments_lexer": "ipython3",
   "version": "3.6.1"
  }
 },
 "nbformat": 4,
 "nbformat_minor": 2
}
