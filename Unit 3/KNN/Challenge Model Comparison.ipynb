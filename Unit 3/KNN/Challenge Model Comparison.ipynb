{
 "cells": [
  {
   "cell_type": "markdown",
   "metadata": {},
   "source": [
    "# Challenge: Model Comparison\n",
    "\n",
    "Find a data set and build a KNN Regression and an OLS regression. Compare the two. How similar are they? Do they miss in different ways?"
   ]
  },
  {
   "cell_type": "markdown",
   "metadata": {},
   "source": [
    "### Data Description\n",
    "\n",
    "This data is from Szeged, Hunary between 2006 -2016. The goal is to build a regression model to predidct apparent Temperature."
   ]
  },
  {
   "cell_type": "code",
   "execution_count": 1,
   "metadata": {},
   "outputs": [],
   "source": [
    "#### Imports #######\n",
    "\n",
    "#Basic\n",
    "import pandas as pd\n",
    "import numpy as np\n",
    "import scipy\n",
    "\n",
    "#Models\n",
    "from sklearn import linear_model\n",
    "import statsmodels.api as sm\n",
    "import statsmodels.formula.api as smf\n",
    "from sklearn import neighbors\n",
    "from sklearn.model_selection import cross_val_score\n",
    "\n",
    "#Select K Best for feature Engineering\n",
    "from sklearn.feature_selection import SelectKBest\n",
    "from sklearn.feature_selection import f_regression\n",
    "\n",
    "#Split the data\n",
    "from sklearn.model_selection import train_test_split\n",
    "\n",
    "#Plot data\n",
    "import matplotlib.pyplot as plt\n",
    "import seaborn as sns\n",
    "sns.set(style=\"whitegrid\")\n",
    "%matplotlib inline"
   ]
  },
  {
   "cell_type": "code",
   "execution_count": 2,
   "metadata": {},
   "outputs": [
    {
     "data": {
      "text/html": [
       "<div>\n",
       "<table border=\"1\" class=\"dataframe\">\n",
       "  <thead>\n",
       "    <tr style=\"text-align: right;\">\n",
       "      <th></th>\n",
       "      <th>Formatted Date</th>\n",
       "      <th>Summary</th>\n",
       "      <th>Precip Type</th>\n",
       "      <th>Temperature (C)</th>\n",
       "      <th>Apparent Temperature (C)</th>\n",
       "      <th>Humidity</th>\n",
       "      <th>Wind Speed (km/h)</th>\n",
       "      <th>Wind Bearing (degrees)</th>\n",
       "      <th>Visibility (km)</th>\n",
       "      <th>Loud Cover</th>\n",
       "      <th>Pressure (millibars)</th>\n",
       "      <th>Daily Summary</th>\n",
       "    </tr>\n",
       "  </thead>\n",
       "  <tbody>\n",
       "    <tr>\n",
       "      <th>0</th>\n",
       "      <td>2006-04-01 00:00:00.000 +0200</td>\n",
       "      <td>Partly Cloudy</td>\n",
       "      <td>rain</td>\n",
       "      <td>9.472222</td>\n",
       "      <td>7.388889</td>\n",
       "      <td>0.89</td>\n",
       "      <td>14.1197</td>\n",
       "      <td>251.0</td>\n",
       "      <td>15.8263</td>\n",
       "      <td>0.0</td>\n",
       "      <td>1015.13</td>\n",
       "      <td>Partly cloudy throughout the day.</td>\n",
       "    </tr>\n",
       "  </tbody>\n",
       "</table>\n",
       "</div>"
      ],
      "text/plain": [
       "                  Formatted Date        Summary Precip Type  Temperature (C)  \\\n",
       "0  2006-04-01 00:00:00.000 +0200  Partly Cloudy        rain         9.472222   \n",
       "\n",
       "   Apparent Temperature (C)  Humidity  Wind Speed (km/h)  \\\n",
       "0                  7.388889      0.89            14.1197   \n",
       "\n",
       "   Wind Bearing (degrees)  Visibility (km)  Loud Cover  Pressure (millibars)  \\\n",
       "0                   251.0          15.8263         0.0               1015.13   \n",
       "\n",
       "                       Daily Summary  \n",
       "0  Partly cloudy throughout the day.  "
      ]
     },
     "execution_count": 2,
     "metadata": {},
     "output_type": "execute_result"
    }
   ],
   "source": [
    "##### Data Import ####\n",
    "data = pd.read_csv('weatherHistory.csv')\n",
    "data.head(1)"
   ]
  },
  {
   "cell_type": "markdown",
   "metadata": {},
   "source": [
    "### Exploratory Data Analysis"
   ]
  },
  {
   "cell_type": "code",
   "execution_count": 102,
   "metadata": {},
   "outputs": [
    {
     "name": "stdout",
     "output_type": "stream",
     "text": [
      "<class 'pandas.core.frame.DataFrame'>\n",
      "RangeIndex: 96453 entries, 0 to 96452\n",
      "Data columns (total 12 columns):\n",
      "Formatted Date              96453 non-null object\n",
      "Summary                     96453 non-null object\n",
      "Precip Type                 96453 non-null object\n",
      "Temperature (C)             96453 non-null float64\n",
      "Apparent Temperature (C)    96453 non-null float64\n",
      "Humidity                    96453 non-null float64\n",
      "Wind Speed (km/h)           96453 non-null float64\n",
      "Wind Bearing (degrees)      96453 non-null float64\n",
      "Visibility (km)             96453 non-null float64\n",
      "Loud Cover                  96453 non-null float64\n",
      "Pressure (millibars)        96453 non-null float64\n",
      "Daily Summary               96453 non-null object\n",
      "dtypes: float64(8), object(4)\n",
      "memory usage: 8.8+ MB\n"
     ]
    }
   ],
   "source": [
    "#Using thee info to check datatypes and to see if there are any missing values\n",
    "data.info()"
   ]
  },
  {
   "cell_type": "code",
   "execution_count": 5,
   "metadata": {},
   "outputs": [
    {
     "data": {
      "text/plain": [
       "rain    85224\n",
       "snow    10712\n",
       "null      517\n",
       "Name: Precip Type, dtype: int64"
      ]
     },
     "execution_count": 5,
     "metadata": {},
     "output_type": "execute_result"
    }
   ],
   "source": [
    "#Even though this variable has no missing values, there are still nulls\n",
    "data['Precip Type'].value_counts()"
   ]
  },
  {
   "cell_type": "code",
   "execution_count": 6,
   "metadata": {},
   "outputs": [
    {
     "data": {
      "text/plain": [
       "Partly Cloudy                          31733\n",
       "Mostly Cloudy                          28094\n",
       "Overcast                               16597\n",
       "Clear                                  10890\n",
       "Foggy                                   7148\n",
       "Breezy and Overcast                      528\n",
       "Breezy and Mostly Cloudy                 516\n",
       "Breezy and Partly Cloudy                 386\n",
       "Dry and Partly Cloudy                     86\n",
       "Windy and Partly Cloudy                   67\n",
       "Light Rain                                63\n",
       "Breezy                                    54\n",
       "Windy and Overcast                        45\n",
       "Humid and Mostly Cloudy                   40\n",
       "Drizzle                                   39\n",
       "Windy and Mostly Cloudy                   35\n",
       "Breezy and Foggy                          35\n",
       "Dry                                       34\n",
       "Humid and Partly Cloudy                   17\n",
       "Dry and Mostly Cloudy                     14\n",
       "Rain                                      10\n",
       "Windy                                      8\n",
       "Humid and Overcast                         7\n",
       "Windy and Foggy                            4\n",
       "Windy and Dry                              1\n",
       "Dangerously Windy and Partly Cloudy        1\n",
       "Breezy and Dry                             1\n",
       "Name: Summary, dtype: int64"
      ]
     },
     "execution_count": 6,
     "metadata": {},
     "output_type": "execute_result"
    }
   ],
   "source": [
    "#This gives a good description. Will use these as dummy variables.\n",
    "data['Summary'].value_counts()"
   ]
  },
  {
   "cell_type": "code",
   "execution_count": 3,
   "metadata": {},
   "outputs": [
    {
     "data": {
      "text/plain": [
       "<matplotlib.axes._subplots.AxesSubplot at 0x112854438>"
      ]
     },
     "execution_count": 3,
     "metadata": {},
     "output_type": "execute_result"
    },
    {
     "data": {
      "image/png": "[encoded data removed]",
      "text/plain": [
       "<matplotlib.figure.Figure at 0x1127bb908>"
      ]
     },
     "metadata": {},
     "output_type": "display_data"
    }
   ],
   "source": [
    "#Looking at the data to look at outliers. However, since its weather data, dont expect too much\n",
    "sns.boxplot(data['Temperature (C)'])"
   ]
  },
  {
   "cell_type": "code",
   "execution_count": 12,
   "metadata": {},
   "outputs": [
    {
     "data": {
      "text/plain": [
       "<matplotlib.text.Text at 0x11841fe10>"
      ]
     },
     "execution_count": 12,
     "metadata": {},
     "output_type": "execute_result"
    },
    {
     "data": {
      "image/png": "[encoded data removed]",
      "text/plain": [
       "<matplotlib.figure.Figure at 0x11c3465f8>"
      ]
     },
     "metadata": {},
     "output_type": "display_data"
    }
   ],
   "source": [
    "#Histogram to see if the data is normally distributed.\n",
    "plt.figure()\n",
    "data['Temperature (C)'].plot(kind='hist')\n",
    "plt.title('Temperature')"
   ]
  },
  {
   "cell_type": "code",
   "execution_count": 14,
   "metadata": {},
   "outputs": [
    {
     "data": {
      "text/plain": [
       "<matplotlib.text.Text at 0x11e760908>"
      ]
     },
     "execution_count": 14,
     "metadata": {},
     "output_type": "execute_result"
    },
    {
     "data": {
      "image/png": "[encoded data removed]",
      "text/plain": [
       "<matplotlib.figure.Figure at 0x11c843e48>"
      ]
     },
     "metadata": {},
     "output_type": "display_data"
    }
   ],
   "source": [
    "#Humidity is not normally distributed but skewed to the right.\n",
    "plt.figure()\n",
    "data['Humidity'].plot(kind='hist')\n",
    "plt.title('Humidity')"
   ]
  },
  {
   "cell_type": "code",
   "execution_count": 45,
   "metadata": {},
   "outputs": [
    {
     "data": {
      "text/plain": [
       "<matplotlib.text.Text at 0x120504940>"
      ]
     },
     "execution_count": 45,
     "metadata": {},
     "output_type": "execute_result"
    },
    {
     "data": {
      "image/png": "[encoded data removed]",
      "text/plain": [
       "<matplotlib.figure.Figure at 0x11f482b70>"
      ]
     },
     "metadata": {},
     "output_type": "display_data"
    }
   ],
   "source": [
    "#Visibility is not normally distributed\n",
    "plt.figure()\n",
    "data['Visibility (km)'].plot(kind='hist')\n",
    "plt.title('Visibility (km)')"
   ]
  },
  {
   "cell_type": "code",
   "execution_count": 46,
   "metadata": {},
   "outputs": [
    {
     "data": {
      "text/plain": [
       "<matplotlib.text.Text at 0x11fbf59e8>"
      ]
     },
     "execution_count": 46,
     "metadata": {},
     "output_type": "execute_result"
    },
    {
     "data": {
      "image/png": "[encoded data removed]",
      "text/plain": [
       "<matplotlib.figure.Figure at 0x11f4ffac8>"
      ]
     },
     "metadata": {},
     "output_type": "display_data"
    }
   ],
   "source": [
    "#Pressure is not distributed\n",
    "plt.figure()\n",
    "data['Pressure (millibars)'].plot(kind='hist')\n",
    "plt.title('Pressure (millibars)')"
   ]
  },
  {
   "cell_type": "code",
   "execution_count": 11,
   "metadata": {},
   "outputs": [
    {
     "data": {
      "text/plain": [
       "<matplotlib.axes._subplots.AxesSubplot at 0x11d7e2978>"
      ]
     },
     "execution_count": 11,
     "metadata": {},
     "output_type": "execute_result"
    },
    {
     "data": {
      "image/png": "[encoded data removed]",
      "text/plain": [
       "<matplotlib.figure.Figure at 0x11c3464a8>"
      ]
     },
     "metadata": {},
     "output_type": "display_data"
    }
   ],
   "source": [
    "plt.figure(figsize=(12,8))\n",
    "sns.heatmap(data.corr())"
   ]
  },
  {
   "cell_type": "markdown",
   "metadata": {},
   "source": [
    "Apparent Temperature and Temperature are highly correlated. Im postulating that there are other factors that make the temperature \"feel\" a certain way, and the goal is to build a model to predict this."
   ]
  },
  {
   "cell_type": "markdown",
   "metadata": {},
   "source": [
    "### Feature Engineering"
   ]
  },
  {
   "cell_type": "code",
   "execution_count": 4,
   "metadata": {},
   "outputs": [],
   "source": [
    "#Create dummy features\n",
    "features = pd.get_dummies(data['Summary'])"
   ]
  },
  {
   "cell_type": "code",
   "execution_count": 5,
   "metadata": {},
   "outputs": [],
   "source": [
    "#Add Continuous variables\n",
    "features['Temperature (C)'] = data['Temperature (C)']\n",
    "features['Humidity'] = data['Humidity']\n",
    "features['Wind Speed (km/h)'] = data['Wind Speed (km/h)']\n",
    "features['Visibility (km)'] = data['Visibility (km)']\n",
    "features['Pressure (millibars)'] = data['Pressure (millibars)']"
   ]
  },
  {
   "cell_type": "code",
   "execution_count": 6,
   "metadata": {},
   "outputs": [],
   "source": [
    "#Create outcome\n",
    "outcome = data['Apparent Temperature (C)']"
   ]
  },
  {
   "cell_type": "code",
   "execution_count": 7,
   "metadata": {},
   "outputs": [
    {
     "data": {
      "text/html": [
       "<div>\n",
       "<table border=\"1\" class=\"dataframe\">\n",
       "  <thead>\n",
       "    <tr style=\"text-align: right;\">\n",
       "      <th></th>\n",
       "      <th>Breezy</th>\n",
       "      <th>Breezy and Foggy</th>\n",
       "      <th>Breezy and Overcast</th>\n",
       "      <th>Dry</th>\n",
       "      <th>Dry and Mostly Cloudy</th>\n",
       "      <th>Dry and Partly Cloudy</th>\n",
       "      <th>Foggy</th>\n",
       "      <th>Humid and Mostly Cloudy</th>\n",
       "      <th>Mostly Cloudy</th>\n",
       "      <th>Overcast</th>\n",
       "      <th>Partly Cloudy</th>\n",
       "      <th>Temperature (C)</th>\n",
       "      <th>Humidity</th>\n",
       "      <th>Wind Speed (km/h)</th>\n",
       "      <th>Visibility (km)</th>\n",
       "    </tr>\n",
       "  </thead>\n",
       "  <tbody>\n",
       "    <tr>\n",
       "      <th>0</th>\n",
       "      <td>0</td>\n",
       "      <td>0</td>\n",
       "      <td>0</td>\n",
       "      <td>0</td>\n",
       "      <td>0</td>\n",
       "      <td>0</td>\n",
       "      <td>0</td>\n",
       "      <td>0</td>\n",
       "      <td>0</td>\n",
       "      <td>0</td>\n",
       "      <td>1</td>\n",
       "      <td>9.472222</td>\n",
       "      <td>0.89</td>\n",
       "      <td>14.1197</td>\n",
       "      <td>15.8263</td>\n",
       "    </tr>\n",
       "  </tbody>\n",
       "</table>\n",
       "</div>"
      ],
      "text/plain": [
       "   Breezy  Breezy and Foggy  Breezy and Overcast  Dry  Dry and Mostly Cloudy  \\\n",
       "0       0                 0                    0    0                      0   \n",
       "\n",
       "   Dry and Partly Cloudy  Foggy  Humid and Mostly Cloudy  Mostly Cloudy  \\\n",
       "0                      0      0                        0              0   \n",
       "\n",
       "   Overcast  Partly Cloudy  Temperature (C)  Humidity  Wind Speed (km/h)  \\\n",
       "0         0              1         9.472222      0.89            14.1197   \n",
       "\n",
       "   Visibility (km)  \n",
       "0          15.8263  "
      ]
     },
     "execution_count": 7,
     "metadata": {},
     "output_type": "execute_result"
    }
   ],
   "source": [
    "#Feature selection with k best\n",
    "selector = SelectKBest(f_regression, k=15)\n",
    "selector.fit(features,outcome)\n",
    "\n",
    "idxs_selected = selector.get_support(indices=True)\n",
    "features[features.columns[idxs_selected]].head(1)"
   ]
  },
  {
   "cell_type": "code",
   "execution_count": 8,
   "metadata": {},
   "outputs": [],
   "source": [
    "#Select best\n",
    "features_best = features[features.columns[idxs_selected]]"
   ]
  },
  {
   "cell_type": "markdown",
   "metadata": {},
   "source": [
    "#### Stats Model"
   ]
  },
  {
   "cell_type": "code",
   "execution_count": 9,
   "metadata": {},
   "outputs": [],
   "source": [
    "#Create Features variables\n",
    "breezy = features_best['Breezy']\n",
    "breezy_and_foggy = features_best['Breezy and Foggy']\n",
    "breezy_and_overcast = features_best['Breezy and Overcast']\n",
    "dry = features_best['Dry']\n",
    "dry_and_mostly_cloudy = features_best['Dry and Mostly Cloudy']\n",
    "dry_and_partly_cloudy = features_best['Dry and Partly Cloudy']\n",
    "foggy = features_best['Foggy']\n",
    "humid_and_mostly_cloudy = features_best['Humid and Mostly Cloudy']\n",
    "mostly_cloudy = features_best['Mostly Cloudy']\n",
    "overcast = features_best['Overcast']\n",
    "partly_cloudy = features_best['Partly Cloudy']\n",
    "temperature = features_best['Temperature (C)']\n",
    "humidity = features_best['Humidity']\n",
    "wind_speed = features_best['Wind Speed (km/h)']\n",
    "visibility = features_best['Visibility (km)']"
   ]
  },
  {
   "cell_type": "code",
   "execution_count": 10,
   "metadata": {},
   "outputs": [
    {
     "name": "stdout",
     "output_type": "stream",
     "text": [
      "                               OLS Regression Results                               \n",
      "====================================================================================\n",
      "Dep. Variable:     Apparent Temperature (C)   R-squared:                       0.990\n",
      "Model:                                  OLS   Adj. R-squared:                  0.990\n",
      "Method:                       Least Squares   F-statistic:                 6.294e+05\n",
      "Date:                      Fri, 02 Mar 2018   Prob (F-statistic):               0.00\n",
      "Time:                              20:29:42   Log-Likelihood:            -1.4390e+05\n",
      "No. Observations:                     96453   AIC:                         2.878e+05\n",
      "Df Residuals:                         96437   BIC:                         2.880e+05\n",
      "Df Model:                                15                                         \n",
      "Covariance Type:                  nonrobust                                         \n",
      "==============================================================================\n",
      "                 coef    std err          t      P>|t|      [95.0% Conf. Int.]\n",
      "------------------------------------------------------------------------------\n",
      "const         -2.3710      0.029    -82.393      0.000        -2.427    -2.315\n",
      "x1            -0.8806      0.147     -5.983      0.000        -1.169    -0.592\n",
      "x2            -2.3031      0.183    -12.590      0.000        -2.662    -1.945\n",
      "x3            -0.0652      0.049     -1.319      0.187        -0.162     0.032\n",
      "x4            -1.0489      0.185     -5.668      0.000        -1.412    -0.686\n",
      "x5            -0.9730      0.288     -3.380      0.001        -1.537    -0.409\n",
      "x6            -0.7901      0.117     -6.762      0.000        -1.019    -0.561\n",
      "x7             0.1930      0.019      9.953      0.000         0.155     0.231\n",
      "x8             0.5146      0.012     41.266      0.000         0.490     0.539\n",
      "x9            -0.2965      0.171     -1.739      0.082        -0.631     0.038\n",
      "x10            0.0148      0.012      1.260      0.208        -0.008     0.038\n",
      "x11           -0.1068      0.013     -8.041      0.000        -0.133    -0.081\n",
      "x12           -0.0891      0.012     -7.649      0.000        -0.112    -0.066\n",
      "x13            1.1265      0.000   2287.188      0.000         1.126     1.127\n",
      "x14            0.5146      0.012     41.266      0.000         0.490     0.539\n",
      "x15           -0.0935      0.001   -169.189      0.000        -0.095    -0.092\n",
      "x16            0.0069      0.001      6.282      0.000         0.005     0.009\n",
      "==============================================================================\n",
      "Omnibus:                     1687.829   Durbin-Watson:                   0.436\n",
      "Prob(Omnibus):                  0.000   Jarque-Bera (JB):             1847.538\n",
      "Skew:                           0.300   Prob(JB):                         0.00\n",
      "Kurtosis:                       3.315   Cond. No.                     7.81e+17\n",
      "==============================================================================\n",
      "\n",
      "Warnings:\n",
      "[1] Standard Errors assume that the covariance matrix of the errors is correctly specified.\n",
      "[2] The smallest eigenvalue is 6.95e-29. This might indicate that there are\n",
      "strong multicollinearity problems or that the design matrix is singular.\n"
     ]
    }
   ],
   "source": [
    "#Stats Models\n",
    "x = np.column_stack((breezy, breezy_and_foggy, breezy_and_overcast,\n",
    "                     dry,dry_and_mostly_cloudy, dry_and_partly_cloudy, foggy, humidity, humid_and_mostly_cloudy,\n",
    "                     mostly_cloudy,overcast,  partly_cloudy,temperature, humidity, wind_speed, visibility))\n",
    "x = sm.add_constant(x, prepend=True)\n",
    "\n",
    "results = smf.OLS(outcome,x).fit()\n",
    "print(results.summary())"
   ]
  },
  {
   "cell_type": "code",
   "execution_count": 11,
   "metadata": {},
   "outputs": [],
   "source": [
    "#Create new features based off of Stats models test. Remove all those with p value > 0.05\n",
    "filtered_feat = pd.concat([breezy, \n",
    "breezy_and_foggy,\n",
    "dry,\n",
    "dry_and_mostly_cloudy,\n",
    "dry_and_partly_cloudy,\n",
    "foggy,\n",
    "humidity, \n",
    "humid_and_mostly_cloudy,                     \n",
    "partly_cloudy,\n",
    "temperature, \n",
    "humidity, \n",
    "wind_speed, \n",
    "visibility], axis=1)"
   ]
  },
  {
   "cell_type": "markdown",
   "metadata": {},
   "source": [
    "### Split the data for Validation"
   ]
  },
  {
   "cell_type": "code",
   "execution_count": 12,
   "metadata": {},
   "outputs": [],
   "source": [
    "#Split the data\n",
    "features_train, features_test, outcome_train, outcome_test = train_test_split(filtered_feat, outcome, test_size=0.30)"
   ]
  },
  {
   "cell_type": "markdown",
   "metadata": {},
   "source": [
    "### OLS Regression"
   ]
  },
  {
   "cell_type": "code",
   "execution_count": 14,
   "metadata": {},
   "outputs": [
    {
     "data": {
      "text/plain": [
       "GridSearchCV(cv=5, error_score='raise',\n",
       "       estimator=LinearRegression(copy_X=True, fit_intercept=True, n_jobs=1, normalize=False),\n",
       "       fit_params={}, iid=True, n_jobs=1,\n",
       "       param_grid={'normalize': [True, False]}, pre_dispatch='2*n_jobs',\n",
       "       refit=True, scoring='r2', verbose=0)"
      ]
     },
     "execution_count": 14,
     "metadata": {},
     "output_type": "execute_result"
    }
   ],
   "source": [
    "from sklearn.grid_search import GridSearchCV\n",
    "\n",
    "# Instantiate and fit our model.\n",
    "regr = linear_model.LinearRegression()\n",
    "\n",
    "parameters = {'normalize':[True,False]}\n",
    "\n",
    "#Note for regression problems have to do different scoreing methods:\n",
    "grid = GridSearchCV(regr, parameters, scoring='r2', cv=5, verbose=0)\n",
    "\n",
    "\n",
    "#Fit the Data\n",
    "grid.fit(features_train, outcome_train)"
   ]
  },
  {
   "cell_type": "code",
   "execution_count": 15,
   "metadata": {},
   "outputs": [
    {
     "data": {
      "text/plain": [
       "0.9898735414182922"
      ]
     },
     "execution_count": 15,
     "metadata": {},
     "output_type": "execute_result"
    }
   ],
   "source": [
    "grid.best_score_"
   ]
  },
  {
   "cell_type": "code",
   "execution_count": 26,
   "metadata": {},
   "outputs": [
    {
     "name": "stdout",
     "output_type": "stream",
     "text": [
      "\n",
      "Coefficients: \n",
      " [-0.69840027 -2.09500915 -1.20337277 -0.74594851 -0.68526744  0.25616729\n",
      "  0.4913065  -0.14834945 -0.07085092  1.12639706  0.4913065  -0.09429476\n",
      "  0.00945141]\n",
      "\n",
      "Intercept: \n",
      " -2.38099871272\n",
      "\n",
      "R-squared:\n",
      "0.989861641018\n"
     ]
    },
    {
     "name": "stderr",
     "output_type": "stream",
     "text": [
      "/anaconda/lib/python3.6/site-packages/sklearn/grid_search.py:438: ChangedBehaviorWarning: The long-standing behavior to use the estimator's score function in GridSearchCV.score has changed. The scoring parameter is now used.\n",
      "  ChangedBehaviorWarning)\n"
     ]
    }
   ],
   "source": [
    "#Test Data with validation holdout\n",
    "#Inspect the results.\n",
    "print('\\nCoefficients: \\n', grid.best_estimator_.coef_)\n",
    "print('\\nIntercept: \\n', grid.best_estimator_.intercept_)\n",
    "print('\\nR-squared:')\n",
    "print(grid.score(features_test, outcome_test))"
   ]
  },
  {
   "cell_type": "markdown",
   "metadata": {},
   "source": [
    "Tried a lot of things, from selecting the best features, cross validation, and the best score I was able to get was 0.43 without Temperature and with Temperature its 0.9899"
   ]
  },
  {
   "cell_type": "markdown",
   "metadata": {},
   "source": [
    "### Feature Engineering for KNN"
   ]
  },
  {
   "cell_type": "code",
   "execution_count": 127,
   "metadata": {},
   "outputs": [],
   "source": [
    "#Since cant use categorical, will only be using the continuous variables.\n",
    "#Add Continuous variables\n",
    "features = data[['Temperature (C)','Humidity','Wind Speed (km/h)', 'Visibility (km)', 'Pressure (millibars)']]"
   ]
  },
  {
   "cell_type": "code",
   "execution_count": 128,
   "metadata": {},
   "outputs": [],
   "source": [
    "#Create outcome\n",
    "outcome = data['Apparent Temperature (C)']"
   ]
  },
  {
   "cell_type": "code",
   "execution_count": 129,
   "metadata": {},
   "outputs": [],
   "source": [
    "#Create validation holdout\n",
    "features_train, features_test, outcome_train, outcome_test = train_test_split(features, outcome, test_size=0.30)"
   ]
  },
  {
   "cell_type": "code",
   "execution_count": 130,
   "metadata": {},
   "outputs": [],
   "source": [
    "from scipy import stats\n",
    "#Normalize Features\n",
    "X = pd.DataFrame({\n",
    "    'humidity': stats.zscore(features_train['Humidity']),\n",
    "    'wind_speed': stats.zscore(features_train['Wind Speed (km/h)']),\n",
    "    'visibility': stats.zscore(features_train['Visibility (km)']),\n",
    "    'pressure': stats.zscore(features_train['Pressure (millibars)']),\n",
    "    'temperature': stats.zscore(features_train['Temperature (C)'])\n",
    "})\n",
    "\n",
    "\n"
   ]
  },
  {
   "cell_type": "code",
   "execution_count": 131,
   "metadata": {},
   "outputs": [
    {
     "data": {
      "text/plain": [
       "GridSearchCV(cv=5, error_score='raise',\n",
       "       estimator=KNeighborsRegressor(algorithm='auto', leaf_size=30, metric='minkowski',\n",
       "          metric_params=None, n_jobs=1, n_neighbors=5, p=2,\n",
       "          weights='uniform'),\n",
       "       fit_params={}, iid=True, n_jobs=1,\n",
       "       param_grid={'n_neighbors': [2, 5, 10, 15, 20], 'weights': ['uniform', 'distance']},\n",
       "       pre_dispatch='2*n_jobs', refit=True, scoring='r2', verbose=0)"
      ]
     },
     "execution_count": 131,
     "metadata": {},
     "output_type": "execute_result"
    }
   ],
   "source": [
    "#Call KNN\n",
    "knn = neighbors.KNeighborsRegressor()\n",
    "\n",
    "parameters = {\n",
    "    'n_neighbors':[2,5,10,15,20],\n",
    "    'weights':['uniform','distance']    \n",
    "}\n",
    "\n",
    "grid = GridSearchCV(knn, parameters, scoring='r2', cv=5, verbose=0)\n",
    "#Fit the Data\n",
    "grid.fit(X, outcome_train)"
   ]
  },
  {
   "cell_type": "code",
   "execution_count": 132,
   "metadata": {},
   "outputs": [
    {
     "data": {
      "text/plain": [
       "0.9971833748859573"
      ]
     },
     "execution_count": 132,
     "metadata": {},
     "output_type": "execute_result"
    }
   ],
   "source": [
    "grid.best_score_"
   ]
  },
  {
   "cell_type": "code",
   "execution_count": 126,
   "metadata": {},
   "outputs": [
    {
     "data": {
      "text/plain": [
       "{'n_neighbors': 20, 'weights': 'distance'}"
      ]
     },
     "execution_count": 126,
     "metadata": {},
     "output_type": "execute_result"
    }
   ],
   "source": [
    "grid.best_params_"
   ]
  },
  {
   "cell_type": "markdown",
   "metadata": {},
   "source": [
    "### Write Up"
   ]
  },
  {
   "cell_type": "markdown",
   "metadata": {},
   "source": [
    "Played around with the features with and without Temperature. Withot Temp the Linear regression model was 0.43 and the KNN was 0.56. When the temp was added the KNN went to 0.997, and Linear Regression went to 0.9897"
   ]
  },
  {
   "cell_type": "code",
   "execution_count": null,
   "metadata": {},
   "outputs": [],
   "source": []
  }
 ],
 "metadata": {
  "kernelspec": {
   "display_name": "Python 3",
   "language": "python",
   "name": "python3"
  },
  "language_info": {
   "codemirror_mode": {
    "name": "ipython",
    "version": 3
   },
   "file_extension": ".py",
   "mimetype": "text/x-python",
   "name": "python",
   "nbconvert_exporter": "python",
   "pygments_lexer": "ipython3",
   "version": "3.6.0"
  }
 },
 "nbformat": 4,
 "nbformat_minor": 2
}
